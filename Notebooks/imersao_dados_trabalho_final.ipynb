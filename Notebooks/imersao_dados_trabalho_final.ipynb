{
  "nbformat": 4,
  "nbformat_minor": 0,
  "metadata": {
    "colab": {
      "name": "imersao_dados_trabalho_final.ipynb",
      "provenance": [],
      "collapsed_sections": [],
      "toc_visible": true
    },
    "kernelspec": {
      "name": "python3",
      "display_name": "Python 3"
    },
    "language_info": {
      "name": "python"
    }
  },
  "cells": [
    {
      "cell_type": "markdown",
      "metadata": {
        "id": "i8Br66SnSMUT"
      },
      "source": [
        "#Análise de dados de pesquisas farmacológicas"
      ]
    },
    {
      "cell_type": "markdown",
      "metadata": {
        "id": "-ZlowqglTqcz"
      },
      "source": [
        "## Mas do que se tratam estes dados que serão análisados?\n",
        "\n",
        "![Human Evolution](https://github.com/wfercosta/imersao-dados-desafio-final/blob/main/Notebooks/human-evolution.jpg?raw=true)\n",
        "\n",
        "\n",
        "A humanidade, por milênios, a cada nova situação que nos é imposto, nos desafiam a dar mais um passo adiante na nossa evolução. Seja por que este novo contexto exige um esforço para garantir não somente a nossa sobrevivência e de nossas futuras gerações, mas as vezes também para melhoramos algum aspecto da sociedade, como qualidade de vida, transportes e meios de comunicações mais eficientes, segurança e etc. E com a medicina, principalmente na no que tange aos *__farmacológicos__*, não seria diferente.\n",
        "\n",
        "<br>\n",
        "\n",
        "> _\"A busca por medicamentos para o alívio de sintomas e tratamento de doenças talvez seja uma das práticas mais antigas da nossa sociedade.\" (DRUG, 2021)_\n",
        "\n",
        "<br>\n",
        "\n",
        "Em dezembro de 2019, fomos supreendidos com o improvável. Um **_\"cisne negro\"_** (TALEB, 2019). Um novo patógeno conhecido como SARS-CoV-2 (CORNAVÍRUS, 2021) que rapidamente se tornou uma crise pandêmica (PANDEMIA, 2021) em escala mundial, cujo desencadeia uma nova doença respiratória por Coronavírus (COVID-19, 2021). \n",
        "\n",
        "Este \"cisne negro\", aliado ao instinto de sobrevivência, propiciou avanços significativos no desenvolvimento de novas vacinas, como o desenvolvimento de vacinas que usam RNA mensageiro (VACINA, 2021), além do tempo recorde para disponbilização para a população. \n",
        "\n",
        "Embora existam críticas éticas com relação a esta história, não podemos deixar de mencionar que estes feitos somente foram possíveis graças ao *Dr. George Gey* que em 1 de fevereiro de 1951, em seu primeiro contato com a *Henrietta Lacks*, encontrou na dor e no sofrimento dela, um tumor de colo de útero, com características únicas e singulares. Passado alguns meses, após 30 anos pesquisando como cultivar células em laboratório, em outubro de 1951, após a morte de *Henrietta* e coletar amostras de suas células cancerígenas, finalmente a sua pesquisa teve resultados. E desde então, as células de *Henrietta Lacks*, agora imortais, também conhecidas como céluas *__HeLa__*, são cultivadas em escala e usadas no mundo todo para pesquisas que avaliam as ativações celulares diante à exposições dos mais diversos compostos químicos que darão origem a novos medicamentos e cosméticos (A HISTÓRIA, 2017). \n"
      ]
    },
    {
      "cell_type": "markdown",
      "metadata": {
        "id": "V46PY2F_Ha5v"
      },
      "source": [
        "## Preparação dos dados e limpeza"
      ]
    },
    {
      "cell_type": "markdown",
      "metadata": {
        "id": "SphKJf-BHuX5"
      },
      "source": [
        "### Importações de bibliotecas e configurações globais"
      ]
    },
    {
      "cell_type": "code",
      "metadata": {
        "id": "1yycfJDzIKXi"
      },
      "source": [
        "import pandas as pd\n",
        "import numpy as np\n",
        "import matplotlib.pyplot as plt\n",
        "import seaborn as sns\n",
        "from itertools import combinations\n",
        "\n",
        "sns.set()"
      ],
      "execution_count": 147,
      "outputs": []
    },
    {
      "cell_type": "markdown",
      "metadata": {
        "id": "srHtXEQfIDvh"
      },
      "source": [
        "### Funções utilitárias"
      ]
    },
    {
      "cell_type": "code",
      "metadata": {
        "id": "6qwWpUoAIOxO"
      },
      "source": [
        "\"\"\"\n",
        "Esta área é dedicada a implementação de funções utilitárias\n",
        "e para reuso de lógicas que serão utilizadas  ao longo \n",
        "deste notebook\n",
        "\"\"\"\n",
        "\n",
        "def print_df_dict_groupby(d, indent=0):\n",
        "  \"\"\"Função responsável por imprimir uma estrura de dicionário\n",
        "     do pandas quando for realizando um group by\n",
        "\n",
        "  Parameters:\n",
        "  d (dict): Dictionary\n",
        "  indent(int): Indentation, default 0\n",
        "\n",
        "  \"\"\"\n",
        "  print(type(d))\n",
        "  for key, value in d.items():\n",
        "    print('\\t' * indent + str(key))\n",
        "    if isinstance(value, dict):\n",
        "      print_dict(value, indent + 1)\n",
        "    else:\n",
        "      values = value.tolist()\n",
        "      for i in range(0, len(values), 50):\n",
        "        print('\\t' * (indent + 1) + ', '.join(map(str, values[i: i + 50])) + '\\n')\n",
        "\n",
        "def plot_chart_pie(series: pd.core.series.Series, title = 'Title not defined', **kwargs):\n",
        "  \"\"\" Função responsável por imprimir um gráfico de pizza\n",
        "      com base em um Série do pandas.\n",
        "\n",
        "  Parameters:\n",
        "    series (pandas.core.series.Series): Série a ser 'plotada'\n",
        "    title (str): Título do gráfico\n",
        "\n",
        "    O restante dos argumentos são os mesmos suportados pelo pandas.core.series.Series.plot.pie()\n",
        "\n",
        "  \"\"\"\n",
        "\n",
        "  colors=['#8b9fc0', \\\n",
        "          '#f0ad4e', \\\n",
        "          '#d24726', \\\n",
        "          '#87cefa', \\\n",
        "          '#3e6b87', \\\n",
        "          '#e14f4e', \\\n",
        "          '#ff7bac', \\\n",
        "          '#fed800', \\\n",
        "          '#edc4ab', \\\n",
        "          '#8cc640']\n",
        "\n",
        "  \n",
        "  kwargs.setdefault('autopct', '%1.0f%%')\n",
        "  kwargs.setdefault('textprops', {'fontsize': 12})\n",
        "  kwargs.setdefault('colors', colors)\n",
        "\n",
        "  kwargs.pop('title', None)\n",
        "  \n",
        "  plt.figure(figsize=(6, 6))\n",
        "  plt.figtext(.5,.9, title, fontsize=15, ha='center')\n",
        "  ax = series.plot.pie(**kwargs)\n",
        "  ax.set_ylabel(None)\n",
        "\n",
        "  plt.show()\n",
        "\n",
        "\n",
        "def plot_chart_histogram(series: pd.core.series.Series, \\\n",
        "                         title='No title defined', \\\n",
        "                         y_label='no label', \\\n",
        "                         x_label='no_label', **kwargs):\n",
        "  \"\"\"Função responsável plotar o um gráfico de histogram em cima\n",
        "  de uma série do pandas\n",
        "\n",
        "  Parameters:\n",
        "  series (pandas.core.series.Series): Série a ser 'plotada'\n",
        "  title (str): Título do gráfico\n",
        "  y_label (str): Rótulo do eixo y\n",
        "  x_label (str): Rótulo do eixo x\n",
        "\n",
        "  O restante dos argumentos são os mesmos suportados pelo sns.histplot()\n",
        "\n",
        "  \"\"\"\n",
        "  \n",
        "  kwargs.setdefault('bins', 100)\n",
        "  plt.figure(figsize=(8, 6))\n",
        "  ax = sns.histplot(data=series, **kwargs)\n",
        "  ax.set_title(title,fontsize=20)\n",
        "  ax.set_ylabel(y_label, fontsize=15)\n",
        "  ax.set_xlabel(x_label, fontsize=15)\n",
        "  plt.show()\n",
        "\n",
        "\n",
        "def plot_chart_correlations_heatmap(correlations):\n",
        "\n",
        "  \"\"\"Função responsável plotar um heatmap com as correlações\n",
        "\n",
        "  Parameters:\n",
        "  correlations: correlações\n",
        "\n",
        "  \"\"\"\n",
        "\n",
        "  # Generate a mask for the upper triangle\n",
        "  mask = np.triu(np.ones_like(correlations, dtype=bool))\n",
        "\n",
        "  # Set up the matplotlib figure\n",
        "  f, ax = plt.subplots(figsize=(11, 9))\n",
        "\n",
        "  # Generate a custom diverging colormap\n",
        "  cmap = sns.diverging_palette(230, 20, as_cmap=True)\n",
        "\n",
        "  # Draw the heatmap with the mask and correct aspect ratio\n",
        "  sns.heatmap(correlations, mask=mask, cmap=cmap, center=0,\n",
        "              square=True, linewidths=.5, cbar_kws={\"shrink\": .5})\n",
        "\n",
        "def filter_correlation(df, thresh_hold):\n",
        "\n",
        "    \"\"\"Função responsável filtar as correlações de forma permitr que \n",
        "    grandes matrizes possam ser impressas.\n",
        "\n",
        "    Parameters:\n",
        "    df: data frame\n",
        "    thresh_hold: limite usado para filtro\n",
        "\n",
        "    \"\"\"\n",
        "\n",
        "    passed = set()\n",
        "    for (r,c) in combinations(df.columns, 2):\n",
        "        if (abs(df.loc[r,c]) >= thresh_hold):\n",
        "            passed.add(r)\n",
        "            passed.add(c)\n",
        "    passed = sorted(passed)\n",
        "    return df.loc[passed,passed]"
      ],
      "execution_count": 148,
      "outputs": []
    },
    {
      "cell_type": "markdown",
      "metadata": {
        "id": "h1Ui5d_SHy-I"
      },
      "source": [
        "###\n",
        "Importação dos datasets"
      ]
    },
    {
      "cell_type": "code",
      "metadata": {
        "colab": {
          "base_uri": "https://localhost:8080/",
          "height": 253
        },
        "id": "W9hWtKd-IPvo",
        "outputId": "b57f5593-98d0-4809-fc35-bf829e7063b7"
      },
      "source": [
        "\"\"\"\n",
        "Este dataset refere-se aos dados de experimentos que foram realizados\n",
        "com vários compostos químicos\n",
        "\"\"\"\n",
        "df_experiments_url = 'https://github.com/wfercosta/imersao-dados-desafio-final/blob/main/Dados/dados_experimentos.zip?raw=true'\n",
        "df_experiments = pd.read_csv(df_experiments_url, compression='zip')\n",
        "df_experiments.head()"
      ],
      "execution_count": 149,
      "outputs": [
        {
          "output_type": "execute_result",
          "data": {
            "text/html": [
              "<div>\n",
              "<style scoped>\n",
              "    .dataframe tbody tr th:only-of-type {\n",
              "        vertical-align: middle;\n",
              "    }\n",
              "\n",
              "    .dataframe tbody tr th {\n",
              "        vertical-align: top;\n",
              "    }\n",
              "\n",
              "    .dataframe thead th {\n",
              "        text-align: right;\n",
              "    }\n",
              "</style>\n",
              "<table border=\"1\" class=\"dataframe\">\n",
              "  <thead>\n",
              "    <tr style=\"text-align: right;\">\n",
              "      <th></th>\n",
              "      <th>id</th>\n",
              "      <th>tratamento</th>\n",
              "      <th>tempo</th>\n",
              "      <th>dose</th>\n",
              "      <th>droga</th>\n",
              "      <th>g-0</th>\n",
              "      <th>g-1</th>\n",
              "      <th>g-2</th>\n",
              "      <th>g-3</th>\n",
              "      <th>g-4</th>\n",
              "      <th>g-5</th>\n",
              "      <th>g-6</th>\n",
              "      <th>g-7</th>\n",
              "      <th>g-8</th>\n",
              "      <th>g-9</th>\n",
              "      <th>g-10</th>\n",
              "      <th>g-11</th>\n",
              "      <th>g-12</th>\n",
              "      <th>g-13</th>\n",
              "      <th>g-14</th>\n",
              "      <th>g-15</th>\n",
              "      <th>g-16</th>\n",
              "      <th>g-17</th>\n",
              "      <th>g-18</th>\n",
              "      <th>g-19</th>\n",
              "      <th>g-20</th>\n",
              "      <th>g-21</th>\n",
              "      <th>g-22</th>\n",
              "      <th>g-23</th>\n",
              "      <th>g-24</th>\n",
              "      <th>g-25</th>\n",
              "      <th>g-26</th>\n",
              "      <th>g-27</th>\n",
              "      <th>g-28</th>\n",
              "      <th>g-29</th>\n",
              "      <th>g-30</th>\n",
              "      <th>g-31</th>\n",
              "      <th>g-32</th>\n",
              "      <th>g-33</th>\n",
              "      <th>g-34</th>\n",
              "      <th>...</th>\n",
              "      <th>c-60</th>\n",
              "      <th>c-61</th>\n",
              "      <th>c-62</th>\n",
              "      <th>c-63</th>\n",
              "      <th>c-64</th>\n",
              "      <th>c-65</th>\n",
              "      <th>c-66</th>\n",
              "      <th>c-67</th>\n",
              "      <th>c-68</th>\n",
              "      <th>c-69</th>\n",
              "      <th>c-70</th>\n",
              "      <th>c-71</th>\n",
              "      <th>c-72</th>\n",
              "      <th>c-73</th>\n",
              "      <th>c-74</th>\n",
              "      <th>c-75</th>\n",
              "      <th>c-76</th>\n",
              "      <th>c-77</th>\n",
              "      <th>c-78</th>\n",
              "      <th>c-79</th>\n",
              "      <th>c-80</th>\n",
              "      <th>c-81</th>\n",
              "      <th>c-82</th>\n",
              "      <th>c-83</th>\n",
              "      <th>c-84</th>\n",
              "      <th>c-85</th>\n",
              "      <th>c-86</th>\n",
              "      <th>c-87</th>\n",
              "      <th>c-88</th>\n",
              "      <th>c-89</th>\n",
              "      <th>c-90</th>\n",
              "      <th>c-91</th>\n",
              "      <th>c-92</th>\n",
              "      <th>c-93</th>\n",
              "      <th>c-94</th>\n",
              "      <th>c-95</th>\n",
              "      <th>c-96</th>\n",
              "      <th>c-97</th>\n",
              "      <th>c-98</th>\n",
              "      <th>c-99</th>\n",
              "    </tr>\n",
              "  </thead>\n",
              "  <tbody>\n",
              "    <tr>\n",
              "      <th>0</th>\n",
              "      <td>id_000644bb2</td>\n",
              "      <td>com_droga</td>\n",
              "      <td>24</td>\n",
              "      <td>D1</td>\n",
              "      <td>b68db1d53</td>\n",
              "      <td>1.0620</td>\n",
              "      <td>0.5577</td>\n",
              "      <td>-0.2479</td>\n",
              "      <td>-0.6208</td>\n",
              "      <td>-0.1944</td>\n",
              "      <td>-1.0120</td>\n",
              "      <td>-1.0220</td>\n",
              "      <td>-0.0326</td>\n",
              "      <td>0.5548</td>\n",
              "      <td>-0.0921</td>\n",
              "      <td>1.1830</td>\n",
              "      <td>0.1530</td>\n",
              "      <td>0.5574</td>\n",
              "      <td>-0.4015</td>\n",
              "      <td>0.1789</td>\n",
              "      <td>-0.6528</td>\n",
              "      <td>-0.7969</td>\n",
              "      <td>0.6342</td>\n",
              "      <td>0.1778</td>\n",
              "      <td>-0.3694</td>\n",
              "      <td>-0.5688</td>\n",
              "      <td>-1.1360</td>\n",
              "      <td>-1.1880</td>\n",
              "      <td>0.6940</td>\n",
              "      <td>0.4393</td>\n",
              "      <td>0.2664</td>\n",
              "      <td>0.1907</td>\n",
              "      <td>0.1628</td>\n",
              "      <td>-0.2853</td>\n",
              "      <td>0.5819</td>\n",
              "      <td>0.2934</td>\n",
              "      <td>-0.5584</td>\n",
              "      <td>-0.0916</td>\n",
              "      <td>-0.3010</td>\n",
              "      <td>-0.1537</td>\n",
              "      <td>...</td>\n",
              "      <td>0.4805</td>\n",
              "      <td>0.4965</td>\n",
              "      <td>0.3680</td>\n",
              "      <td>0.8427</td>\n",
              "      <td>0.1042</td>\n",
              "      <td>0.1403</td>\n",
              "      <td>0.1758</td>\n",
              "      <td>1.2570</td>\n",
              "      <td>-0.5979</td>\n",
              "      <td>1.2250</td>\n",
              "      <td>-0.0553</td>\n",
              "      <td>0.7351</td>\n",
              "      <td>0.5810</td>\n",
              "      <td>0.9590</td>\n",
              "      <td>0.2427</td>\n",
              "      <td>0.0495</td>\n",
              "      <td>0.4141</td>\n",
              "      <td>0.8432</td>\n",
              "      <td>0.6162</td>\n",
              "      <td>-0.7318</td>\n",
              "      <td>1.2120</td>\n",
              "      <td>0.6362</td>\n",
              "      <td>-0.4427</td>\n",
              "      <td>0.1288</td>\n",
              "      <td>1.4840</td>\n",
              "      <td>0.1799</td>\n",
              "      <td>0.5367</td>\n",
              "      <td>-0.1111</td>\n",
              "      <td>-1.0120</td>\n",
              "      <td>0.6685</td>\n",
              "      <td>0.2862</td>\n",
              "      <td>0.2584</td>\n",
              "      <td>0.8076</td>\n",
              "      <td>0.5523</td>\n",
              "      <td>-0.1912</td>\n",
              "      <td>0.6584</td>\n",
              "      <td>-0.3981</td>\n",
              "      <td>0.2139</td>\n",
              "      <td>0.3801</td>\n",
              "      <td>0.4176</td>\n",
              "    </tr>\n",
              "    <tr>\n",
              "      <th>1</th>\n",
              "      <td>id_000779bfc</td>\n",
              "      <td>com_droga</td>\n",
              "      <td>72</td>\n",
              "      <td>D1</td>\n",
              "      <td>df89a8e5a</td>\n",
              "      <td>0.0743</td>\n",
              "      <td>0.4087</td>\n",
              "      <td>0.2991</td>\n",
              "      <td>0.0604</td>\n",
              "      <td>1.0190</td>\n",
              "      <td>0.5207</td>\n",
              "      <td>0.2341</td>\n",
              "      <td>0.3372</td>\n",
              "      <td>-0.4047</td>\n",
              "      <td>0.8507</td>\n",
              "      <td>-1.1520</td>\n",
              "      <td>-0.4201</td>\n",
              "      <td>-0.0958</td>\n",
              "      <td>0.4590</td>\n",
              "      <td>0.0803</td>\n",
              "      <td>0.2250</td>\n",
              "      <td>0.5293</td>\n",
              "      <td>0.2839</td>\n",
              "      <td>-0.3494</td>\n",
              "      <td>0.2883</td>\n",
              "      <td>0.9449</td>\n",
              "      <td>-0.1646</td>\n",
              "      <td>-0.2657</td>\n",
              "      <td>-0.3372</td>\n",
              "      <td>0.3135</td>\n",
              "      <td>-0.4316</td>\n",
              "      <td>0.4773</td>\n",
              "      <td>0.2075</td>\n",
              "      <td>-0.4216</td>\n",
              "      <td>-0.1161</td>\n",
              "      <td>-0.0499</td>\n",
              "      <td>-0.2627</td>\n",
              "      <td>0.9959</td>\n",
              "      <td>-0.2483</td>\n",
              "      <td>0.2655</td>\n",
              "      <td>...</td>\n",
              "      <td>0.4083</td>\n",
              "      <td>0.0319</td>\n",
              "      <td>0.3905</td>\n",
              "      <td>0.7099</td>\n",
              "      <td>0.2912</td>\n",
              "      <td>0.4151</td>\n",
              "      <td>-0.2840</td>\n",
              "      <td>-0.3104</td>\n",
              "      <td>-0.6373</td>\n",
              "      <td>0.2887</td>\n",
              "      <td>-0.0765</td>\n",
              "      <td>0.2539</td>\n",
              "      <td>0.4443</td>\n",
              "      <td>0.5932</td>\n",
              "      <td>0.2031</td>\n",
              "      <td>0.7639</td>\n",
              "      <td>0.5499</td>\n",
              "      <td>-0.3322</td>\n",
              "      <td>-0.0977</td>\n",
              "      <td>0.4329</td>\n",
              "      <td>-0.2782</td>\n",
              "      <td>0.7827</td>\n",
              "      <td>0.5934</td>\n",
              "      <td>0.3402</td>\n",
              "      <td>0.1499</td>\n",
              "      <td>0.4420</td>\n",
              "      <td>0.9366</td>\n",
              "      <td>0.8193</td>\n",
              "      <td>-0.4236</td>\n",
              "      <td>0.3192</td>\n",
              "      <td>-0.4265</td>\n",
              "      <td>0.7543</td>\n",
              "      <td>0.4708</td>\n",
              "      <td>0.0230</td>\n",
              "      <td>0.2957</td>\n",
              "      <td>0.4899</td>\n",
              "      <td>0.1522</td>\n",
              "      <td>0.1241</td>\n",
              "      <td>0.6077</td>\n",
              "      <td>0.7371</td>\n",
              "    </tr>\n",
              "    <tr>\n",
              "      <th>2</th>\n",
              "      <td>id_000a6266a</td>\n",
              "      <td>com_droga</td>\n",
              "      <td>48</td>\n",
              "      <td>D1</td>\n",
              "      <td>18bb41b2c</td>\n",
              "      <td>0.6280</td>\n",
              "      <td>0.5817</td>\n",
              "      <td>1.5540</td>\n",
              "      <td>-0.0764</td>\n",
              "      <td>-0.0323</td>\n",
              "      <td>1.2390</td>\n",
              "      <td>0.1715</td>\n",
              "      <td>0.2155</td>\n",
              "      <td>0.0065</td>\n",
              "      <td>1.2300</td>\n",
              "      <td>-0.4797</td>\n",
              "      <td>-0.5631</td>\n",
              "      <td>-0.0366</td>\n",
              "      <td>-1.8300</td>\n",
              "      <td>0.6057</td>\n",
              "      <td>-0.3278</td>\n",
              "      <td>0.6042</td>\n",
              "      <td>-0.3075</td>\n",
              "      <td>-0.1147</td>\n",
              "      <td>-0.0570</td>\n",
              "      <td>-0.0799</td>\n",
              "      <td>-0.8181</td>\n",
              "      <td>-1.5320</td>\n",
              "      <td>0.2307</td>\n",
              "      <td>0.4901</td>\n",
              "      <td>0.4780</td>\n",
              "      <td>-1.3970</td>\n",
              "      <td>4.6240</td>\n",
              "      <td>-0.0437</td>\n",
              "      <td>1.2870</td>\n",
              "      <td>-1.8530</td>\n",
              "      <td>0.6069</td>\n",
              "      <td>0.4290</td>\n",
              "      <td>0.1783</td>\n",
              "      <td>0.0018</td>\n",
              "      <td>...</td>\n",
              "      <td>-0.5477</td>\n",
              "      <td>-0.7576</td>\n",
              "      <td>-0.0444</td>\n",
              "      <td>0.1894</td>\n",
              "      <td>-0.0014</td>\n",
              "      <td>-2.3640</td>\n",
              "      <td>-0.4682</td>\n",
              "      <td>0.1210</td>\n",
              "      <td>-0.5177</td>\n",
              "      <td>-0.0604</td>\n",
              "      <td>0.1682</td>\n",
              "      <td>-0.4436</td>\n",
              "      <td>0.4963</td>\n",
              "      <td>0.1363</td>\n",
              "      <td>0.3335</td>\n",
              "      <td>0.9760</td>\n",
              "      <td>-0.0427</td>\n",
              "      <td>-0.1235</td>\n",
              "      <td>0.0959</td>\n",
              "      <td>0.0690</td>\n",
              "      <td>-0.9416</td>\n",
              "      <td>-0.7548</td>\n",
              "      <td>-0.1109</td>\n",
              "      <td>-0.6272</td>\n",
              "      <td>0.3019</td>\n",
              "      <td>0.1172</td>\n",
              "      <td>0.1093</td>\n",
              "      <td>-0.3113</td>\n",
              "      <td>0.3019</td>\n",
              "      <td>-0.0873</td>\n",
              "      <td>-0.7250</td>\n",
              "      <td>-0.6297</td>\n",
              "      <td>0.6103</td>\n",
              "      <td>0.0223</td>\n",
              "      <td>-1.3240</td>\n",
              "      <td>-0.3174</td>\n",
              "      <td>-0.6417</td>\n",
              "      <td>-0.2187</td>\n",
              "      <td>-1.4080</td>\n",
              "      <td>0.6931</td>\n",
              "    </tr>\n",
              "    <tr>\n",
              "      <th>3</th>\n",
              "      <td>id_0015fd391</td>\n",
              "      <td>com_droga</td>\n",
              "      <td>48</td>\n",
              "      <td>D1</td>\n",
              "      <td>8c7f86626</td>\n",
              "      <td>-0.5138</td>\n",
              "      <td>-0.2491</td>\n",
              "      <td>-0.2656</td>\n",
              "      <td>0.5288</td>\n",
              "      <td>4.0620</td>\n",
              "      <td>-0.8095</td>\n",
              "      <td>-1.9590</td>\n",
              "      <td>0.1792</td>\n",
              "      <td>-0.1321</td>\n",
              "      <td>-1.0600</td>\n",
              "      <td>-0.8269</td>\n",
              "      <td>-0.3584</td>\n",
              "      <td>-0.8511</td>\n",
              "      <td>-0.5844</td>\n",
              "      <td>-2.5690</td>\n",
              "      <td>0.8183</td>\n",
              "      <td>-0.0532</td>\n",
              "      <td>-0.8554</td>\n",
              "      <td>0.1160</td>\n",
              "      <td>-2.3520</td>\n",
              "      <td>2.1200</td>\n",
              "      <td>-1.1580</td>\n",
              "      <td>-0.7191</td>\n",
              "      <td>-0.8004</td>\n",
              "      <td>-1.4670</td>\n",
              "      <td>-0.0107</td>\n",
              "      <td>-0.8995</td>\n",
              "      <td>0.2406</td>\n",
              "      <td>-0.2479</td>\n",
              "      <td>-1.0890</td>\n",
              "      <td>-0.7575</td>\n",
              "      <td>0.0881</td>\n",
              "      <td>-2.7370</td>\n",
              "      <td>0.8745</td>\n",
              "      <td>0.5787</td>\n",
              "      <td>...</td>\n",
              "      <td>-2.1220</td>\n",
              "      <td>-0.3752</td>\n",
              "      <td>-2.3820</td>\n",
              "      <td>-3.7350</td>\n",
              "      <td>-2.9740</td>\n",
              "      <td>-1.4930</td>\n",
              "      <td>-1.6600</td>\n",
              "      <td>-3.1660</td>\n",
              "      <td>0.2816</td>\n",
              "      <td>-0.2990</td>\n",
              "      <td>-1.1870</td>\n",
              "      <td>-0.5044</td>\n",
              "      <td>-1.7750</td>\n",
              "      <td>-1.6120</td>\n",
              "      <td>-0.9215</td>\n",
              "      <td>-1.0810</td>\n",
              "      <td>-3.0520</td>\n",
              "      <td>-3.4470</td>\n",
              "      <td>-2.7740</td>\n",
              "      <td>-1.8460</td>\n",
              "      <td>-0.5568</td>\n",
              "      <td>-3.3960</td>\n",
              "      <td>-2.9510</td>\n",
              "      <td>-1.1550</td>\n",
              "      <td>-3.2620</td>\n",
              "      <td>-1.5390</td>\n",
              "      <td>-2.4600</td>\n",
              "      <td>-0.9417</td>\n",
              "      <td>-1.5550</td>\n",
              "      <td>0.2431</td>\n",
              "      <td>-2.0990</td>\n",
              "      <td>-0.6441</td>\n",
              "      <td>-5.6300</td>\n",
              "      <td>-1.3780</td>\n",
              "      <td>-0.8632</td>\n",
              "      <td>-1.2880</td>\n",
              "      <td>-1.6210</td>\n",
              "      <td>-0.8784</td>\n",
              "      <td>-0.3876</td>\n",
              "      <td>-0.8154</td>\n",
              "    </tr>\n",
              "    <tr>\n",
              "      <th>4</th>\n",
              "      <td>id_001626bd3</td>\n",
              "      <td>com_droga</td>\n",
              "      <td>72</td>\n",
              "      <td>D2</td>\n",
              "      <td>7cbed3131</td>\n",
              "      <td>-0.3254</td>\n",
              "      <td>-0.4009</td>\n",
              "      <td>0.9700</td>\n",
              "      <td>0.6919</td>\n",
              "      <td>1.4180</td>\n",
              "      <td>-0.8244</td>\n",
              "      <td>-0.2800</td>\n",
              "      <td>-0.1498</td>\n",
              "      <td>-0.8789</td>\n",
              "      <td>0.8630</td>\n",
              "      <td>-0.2219</td>\n",
              "      <td>-0.5121</td>\n",
              "      <td>-0.9577</td>\n",
              "      <td>1.1750</td>\n",
              "      <td>0.2042</td>\n",
              "      <td>0.1970</td>\n",
              "      <td>0.1244</td>\n",
              "      <td>-1.7090</td>\n",
              "      <td>-0.3543</td>\n",
              "      <td>-0.5160</td>\n",
              "      <td>-0.3330</td>\n",
              "      <td>-0.2685</td>\n",
              "      <td>0.7649</td>\n",
              "      <td>0.2057</td>\n",
              "      <td>1.3720</td>\n",
              "      <td>0.6835</td>\n",
              "      <td>0.8056</td>\n",
              "      <td>-0.3754</td>\n",
              "      <td>-1.2090</td>\n",
              "      <td>0.2965</td>\n",
              "      <td>-0.0712</td>\n",
              "      <td>0.6389</td>\n",
              "      <td>0.6674</td>\n",
              "      <td>-0.0783</td>\n",
              "      <td>1.1740</td>\n",
              "      <td>...</td>\n",
              "      <td>-0.2274</td>\n",
              "      <td>0.3215</td>\n",
              "      <td>0.1535</td>\n",
              "      <td>-0.4640</td>\n",
              "      <td>-0.5943</td>\n",
              "      <td>0.3973</td>\n",
              "      <td>0.1500</td>\n",
              "      <td>0.5178</td>\n",
              "      <td>0.5159</td>\n",
              "      <td>0.6091</td>\n",
              "      <td>0.1813</td>\n",
              "      <td>-0.4249</td>\n",
              "      <td>0.7832</td>\n",
              "      <td>0.6529</td>\n",
              "      <td>0.5648</td>\n",
              "      <td>0.4817</td>\n",
              "      <td>0.0587</td>\n",
              "      <td>0.5303</td>\n",
              "      <td>0.6376</td>\n",
              "      <td>-0.3966</td>\n",
              "      <td>-1.4950</td>\n",
              "      <td>-0.9625</td>\n",
              "      <td>-0.0541</td>\n",
              "      <td>0.6273</td>\n",
              "      <td>0.4563</td>\n",
              "      <td>0.0698</td>\n",
              "      <td>0.8134</td>\n",
              "      <td>0.1924</td>\n",
              "      <td>0.6054</td>\n",
              "      <td>-0.1824</td>\n",
              "      <td>0.0042</td>\n",
              "      <td>0.0048</td>\n",
              "      <td>0.6670</td>\n",
              "      <td>1.0690</td>\n",
              "      <td>0.5523</td>\n",
              "      <td>-0.3031</td>\n",
              "      <td>0.1094</td>\n",
              "      <td>0.2885</td>\n",
              "      <td>-0.3786</td>\n",
              "      <td>0.7125</td>\n",
              "    </tr>\n",
              "  </tbody>\n",
              "</table>\n",
              "<p>5 rows × 877 columns</p>\n",
              "</div>"
            ],
            "text/plain": [
              "             id tratamento  tempo dose  ...    c-96    c-97    c-98    c-99\n",
              "0  id_000644bb2  com_droga     24   D1  ... -0.3981  0.2139  0.3801  0.4176\n",
              "1  id_000779bfc  com_droga     72   D1  ...  0.1522  0.1241  0.6077  0.7371\n",
              "2  id_000a6266a  com_droga     48   D1  ... -0.6417 -0.2187 -1.4080  0.6931\n",
              "3  id_0015fd391  com_droga     48   D1  ... -1.6210 -0.8784 -0.3876 -0.8154\n",
              "4  id_001626bd3  com_droga     72   D2  ...  0.1094  0.2885 -0.3786  0.7125\n",
              "\n",
              "[5 rows x 877 columns]"
            ]
          },
          "metadata": {
            "tags": []
          },
          "execution_count": 149
        }
      ]
    },
    {
      "cell_type": "code",
      "metadata": {
        "colab": {
          "base_uri": "https://localhost:8080/",
          "height": 270
        },
        "id": "r4Xm3S3oKJdR",
        "outputId": "2318dbb5-6924-4347-db86-029ee45b04ee"
      },
      "source": [
        "\"\"\"\n",
        "Este data set refere-se aos dados dos resultados dos experimentos \n",
        "listados no dataset anterior\n",
        "\"\"\"\n",
        "df_experiments_results_url = 'https://github.com/wfercosta/imersao-dados-desafio-final/blob/main/Dados/dados_resultados.csv?raw=true'\n",
        "df_experiments_results = pd.read_csv(df_experiments_results_url)\n",
        "df_experiments_results.head()"
      ],
      "execution_count": 150,
      "outputs": [
        {
          "output_type": "execute_result",
          "data": {
            "text/html": [
              "<div>\n",
              "<style scoped>\n",
              "    .dataframe tbody tr th:only-of-type {\n",
              "        vertical-align: middle;\n",
              "    }\n",
              "\n",
              "    .dataframe tbody tr th {\n",
              "        vertical-align: top;\n",
              "    }\n",
              "\n",
              "    .dataframe thead th {\n",
              "        text-align: right;\n",
              "    }\n",
              "</style>\n",
              "<table border=\"1\" class=\"dataframe\">\n",
              "  <thead>\n",
              "    <tr style=\"text-align: right;\">\n",
              "      <th></th>\n",
              "      <th>id</th>\n",
              "      <th>5-alpha_reductase_inhibitor</th>\n",
              "      <th>11-beta-hsd1_inhibitor</th>\n",
              "      <th>acat_inhibitor</th>\n",
              "      <th>acetylcholine_receptor_agonist</th>\n",
              "      <th>acetylcholine_receptor_antagonist</th>\n",
              "      <th>acetylcholinesterase_inhibitor</th>\n",
              "      <th>adenosine_receptor_agonist</th>\n",
              "      <th>adenosine_receptor_antagonist</th>\n",
              "      <th>adenylyl_cyclase_activator</th>\n",
              "      <th>adrenergic_receptor_agonist</th>\n",
              "      <th>adrenergic_receptor_antagonist</th>\n",
              "      <th>akt_inhibitor</th>\n",
              "      <th>aldehyde_dehydrogenase_inhibitor</th>\n",
              "      <th>alk_inhibitor</th>\n",
              "      <th>ampk_activator</th>\n",
              "      <th>analgesic</th>\n",
              "      <th>androgen_receptor_agonist</th>\n",
              "      <th>androgen_receptor_antagonist</th>\n",
              "      <th>anesthetic_-_local</th>\n",
              "      <th>angiogenesis_inhibitor</th>\n",
              "      <th>angiotensin_receptor_antagonist</th>\n",
              "      <th>anti-inflammatory</th>\n",
              "      <th>antiarrhythmic</th>\n",
              "      <th>antibiotic</th>\n",
              "      <th>anticonvulsant</th>\n",
              "      <th>antifungal</th>\n",
              "      <th>antihistamine</th>\n",
              "      <th>antimalarial</th>\n",
              "      <th>antioxidant</th>\n",
              "      <th>antiprotozoal</th>\n",
              "      <th>antiviral</th>\n",
              "      <th>apoptosis_stimulant</th>\n",
              "      <th>aromatase_inhibitor</th>\n",
              "      <th>atm_kinase_inhibitor</th>\n",
              "      <th>atp-sensitive_potassium_channel_antagonist</th>\n",
              "      <th>atp_synthase_inhibitor</th>\n",
              "      <th>atpase_inhibitor</th>\n",
              "      <th>atr_kinase_inhibitor</th>\n",
              "      <th>aurora_kinase_inhibitor</th>\n",
              "      <th>...</th>\n",
              "      <th>protein_synthesis_inhibitor</th>\n",
              "      <th>protein_tyrosine_kinase_inhibitor</th>\n",
              "      <th>radiopaque_medium</th>\n",
              "      <th>raf_inhibitor</th>\n",
              "      <th>ras_gtpase_inhibitor</th>\n",
              "      <th>retinoid_receptor_agonist</th>\n",
              "      <th>retinoid_receptor_antagonist</th>\n",
              "      <th>rho_associated_kinase_inhibitor</th>\n",
              "      <th>ribonucleoside_reductase_inhibitor</th>\n",
              "      <th>rna_polymerase_inhibitor</th>\n",
              "      <th>serotonin_receptor_agonist</th>\n",
              "      <th>serotonin_receptor_antagonist</th>\n",
              "      <th>serotonin_reuptake_inhibitor</th>\n",
              "      <th>sigma_receptor_agonist</th>\n",
              "      <th>sigma_receptor_antagonist</th>\n",
              "      <th>smoothened_receptor_antagonist</th>\n",
              "      <th>sodium_channel_inhibitor</th>\n",
              "      <th>sphingosine_receptor_agonist</th>\n",
              "      <th>src_inhibitor</th>\n",
              "      <th>steroid</th>\n",
              "      <th>syk_inhibitor</th>\n",
              "      <th>tachykinin_antagonist</th>\n",
              "      <th>tgf-beta_receptor_inhibitor</th>\n",
              "      <th>thrombin_inhibitor</th>\n",
              "      <th>thymidylate_synthase_inhibitor</th>\n",
              "      <th>tlr_agonist</th>\n",
              "      <th>tlr_antagonist</th>\n",
              "      <th>tnf_inhibitor</th>\n",
              "      <th>topoisomerase_inhibitor</th>\n",
              "      <th>transient_receptor_potential_channel_antagonist</th>\n",
              "      <th>tropomyosin_receptor_kinase_inhibitor</th>\n",
              "      <th>trpv_agonist</th>\n",
              "      <th>trpv_antagonist</th>\n",
              "      <th>tubulin_inhibitor</th>\n",
              "      <th>tyrosine_kinase_inhibitor</th>\n",
              "      <th>ubiquitin_specific_protease_inhibitor</th>\n",
              "      <th>vegfr_inhibitor</th>\n",
              "      <th>vitamin_b</th>\n",
              "      <th>vitamin_d_receptor_agonist</th>\n",
              "      <th>wnt_inhibitor</th>\n",
              "    </tr>\n",
              "  </thead>\n",
              "  <tbody>\n",
              "    <tr>\n",
              "      <th>0</th>\n",
              "      <td>id_000644bb2</td>\n",
              "      <td>0</td>\n",
              "      <td>0</td>\n",
              "      <td>0</td>\n",
              "      <td>0</td>\n",
              "      <td>0</td>\n",
              "      <td>0</td>\n",
              "      <td>0</td>\n",
              "      <td>0</td>\n",
              "      <td>0</td>\n",
              "      <td>0</td>\n",
              "      <td>0</td>\n",
              "      <td>0</td>\n",
              "      <td>0</td>\n",
              "      <td>0</td>\n",
              "      <td>0</td>\n",
              "      <td>0</td>\n",
              "      <td>0</td>\n",
              "      <td>0</td>\n",
              "      <td>0</td>\n",
              "      <td>0</td>\n",
              "      <td>0</td>\n",
              "      <td>0</td>\n",
              "      <td>0</td>\n",
              "      <td>0</td>\n",
              "      <td>0</td>\n",
              "      <td>0</td>\n",
              "      <td>0</td>\n",
              "      <td>0</td>\n",
              "      <td>0</td>\n",
              "      <td>0</td>\n",
              "      <td>0</td>\n",
              "      <td>0</td>\n",
              "      <td>0</td>\n",
              "      <td>0</td>\n",
              "      <td>0</td>\n",
              "      <td>0</td>\n",
              "      <td>0</td>\n",
              "      <td>0</td>\n",
              "      <td>0</td>\n",
              "      <td>...</td>\n",
              "      <td>0</td>\n",
              "      <td>0</td>\n",
              "      <td>0</td>\n",
              "      <td>0</td>\n",
              "      <td>0</td>\n",
              "      <td>0</td>\n",
              "      <td>0</td>\n",
              "      <td>0</td>\n",
              "      <td>0</td>\n",
              "      <td>0</td>\n",
              "      <td>0</td>\n",
              "      <td>0</td>\n",
              "      <td>0</td>\n",
              "      <td>0</td>\n",
              "      <td>0</td>\n",
              "      <td>0</td>\n",
              "      <td>0</td>\n",
              "      <td>0</td>\n",
              "      <td>0</td>\n",
              "      <td>0</td>\n",
              "      <td>0</td>\n",
              "      <td>0</td>\n",
              "      <td>0</td>\n",
              "      <td>0</td>\n",
              "      <td>0</td>\n",
              "      <td>0</td>\n",
              "      <td>0</td>\n",
              "      <td>0</td>\n",
              "      <td>0</td>\n",
              "      <td>0</td>\n",
              "      <td>0</td>\n",
              "      <td>0</td>\n",
              "      <td>0</td>\n",
              "      <td>0</td>\n",
              "      <td>0</td>\n",
              "      <td>0</td>\n",
              "      <td>0</td>\n",
              "      <td>0</td>\n",
              "      <td>0</td>\n",
              "      <td>0</td>\n",
              "    </tr>\n",
              "    <tr>\n",
              "      <th>1</th>\n",
              "      <td>id_000779bfc</td>\n",
              "      <td>0</td>\n",
              "      <td>0</td>\n",
              "      <td>0</td>\n",
              "      <td>0</td>\n",
              "      <td>0</td>\n",
              "      <td>0</td>\n",
              "      <td>0</td>\n",
              "      <td>0</td>\n",
              "      <td>0</td>\n",
              "      <td>0</td>\n",
              "      <td>0</td>\n",
              "      <td>0</td>\n",
              "      <td>0</td>\n",
              "      <td>0</td>\n",
              "      <td>0</td>\n",
              "      <td>0</td>\n",
              "      <td>0</td>\n",
              "      <td>0</td>\n",
              "      <td>0</td>\n",
              "      <td>0</td>\n",
              "      <td>0</td>\n",
              "      <td>0</td>\n",
              "      <td>0</td>\n",
              "      <td>0</td>\n",
              "      <td>0</td>\n",
              "      <td>0</td>\n",
              "      <td>0</td>\n",
              "      <td>0</td>\n",
              "      <td>0</td>\n",
              "      <td>0</td>\n",
              "      <td>0</td>\n",
              "      <td>0</td>\n",
              "      <td>0</td>\n",
              "      <td>0</td>\n",
              "      <td>0</td>\n",
              "      <td>0</td>\n",
              "      <td>0</td>\n",
              "      <td>0</td>\n",
              "      <td>0</td>\n",
              "      <td>...</td>\n",
              "      <td>0</td>\n",
              "      <td>0</td>\n",
              "      <td>0</td>\n",
              "      <td>0</td>\n",
              "      <td>0</td>\n",
              "      <td>0</td>\n",
              "      <td>0</td>\n",
              "      <td>0</td>\n",
              "      <td>0</td>\n",
              "      <td>0</td>\n",
              "      <td>0</td>\n",
              "      <td>0</td>\n",
              "      <td>0</td>\n",
              "      <td>0</td>\n",
              "      <td>0</td>\n",
              "      <td>0</td>\n",
              "      <td>0</td>\n",
              "      <td>0</td>\n",
              "      <td>0</td>\n",
              "      <td>0</td>\n",
              "      <td>0</td>\n",
              "      <td>0</td>\n",
              "      <td>0</td>\n",
              "      <td>0</td>\n",
              "      <td>0</td>\n",
              "      <td>0</td>\n",
              "      <td>0</td>\n",
              "      <td>0</td>\n",
              "      <td>0</td>\n",
              "      <td>0</td>\n",
              "      <td>0</td>\n",
              "      <td>0</td>\n",
              "      <td>0</td>\n",
              "      <td>0</td>\n",
              "      <td>0</td>\n",
              "      <td>0</td>\n",
              "      <td>0</td>\n",
              "      <td>0</td>\n",
              "      <td>0</td>\n",
              "      <td>0</td>\n",
              "    </tr>\n",
              "    <tr>\n",
              "      <th>2</th>\n",
              "      <td>id_000a6266a</td>\n",
              "      <td>0</td>\n",
              "      <td>0</td>\n",
              "      <td>0</td>\n",
              "      <td>0</td>\n",
              "      <td>0</td>\n",
              "      <td>0</td>\n",
              "      <td>0</td>\n",
              "      <td>0</td>\n",
              "      <td>0</td>\n",
              "      <td>0</td>\n",
              "      <td>0</td>\n",
              "      <td>0</td>\n",
              "      <td>0</td>\n",
              "      <td>0</td>\n",
              "      <td>0</td>\n",
              "      <td>0</td>\n",
              "      <td>0</td>\n",
              "      <td>0</td>\n",
              "      <td>0</td>\n",
              "      <td>0</td>\n",
              "      <td>0</td>\n",
              "      <td>0</td>\n",
              "      <td>0</td>\n",
              "      <td>0</td>\n",
              "      <td>0</td>\n",
              "      <td>0</td>\n",
              "      <td>0</td>\n",
              "      <td>0</td>\n",
              "      <td>0</td>\n",
              "      <td>0</td>\n",
              "      <td>0</td>\n",
              "      <td>0</td>\n",
              "      <td>0</td>\n",
              "      <td>0</td>\n",
              "      <td>0</td>\n",
              "      <td>0</td>\n",
              "      <td>0</td>\n",
              "      <td>0</td>\n",
              "      <td>0</td>\n",
              "      <td>...</td>\n",
              "      <td>0</td>\n",
              "      <td>0</td>\n",
              "      <td>0</td>\n",
              "      <td>0</td>\n",
              "      <td>0</td>\n",
              "      <td>0</td>\n",
              "      <td>0</td>\n",
              "      <td>0</td>\n",
              "      <td>0</td>\n",
              "      <td>0</td>\n",
              "      <td>0</td>\n",
              "      <td>0</td>\n",
              "      <td>0</td>\n",
              "      <td>0</td>\n",
              "      <td>0</td>\n",
              "      <td>0</td>\n",
              "      <td>0</td>\n",
              "      <td>0</td>\n",
              "      <td>0</td>\n",
              "      <td>0</td>\n",
              "      <td>0</td>\n",
              "      <td>0</td>\n",
              "      <td>0</td>\n",
              "      <td>0</td>\n",
              "      <td>0</td>\n",
              "      <td>0</td>\n",
              "      <td>0</td>\n",
              "      <td>0</td>\n",
              "      <td>0</td>\n",
              "      <td>0</td>\n",
              "      <td>0</td>\n",
              "      <td>0</td>\n",
              "      <td>0</td>\n",
              "      <td>0</td>\n",
              "      <td>0</td>\n",
              "      <td>0</td>\n",
              "      <td>0</td>\n",
              "      <td>0</td>\n",
              "      <td>0</td>\n",
              "      <td>0</td>\n",
              "    </tr>\n",
              "    <tr>\n",
              "      <th>3</th>\n",
              "      <td>id_0015fd391</td>\n",
              "      <td>0</td>\n",
              "      <td>0</td>\n",
              "      <td>0</td>\n",
              "      <td>0</td>\n",
              "      <td>0</td>\n",
              "      <td>0</td>\n",
              "      <td>0</td>\n",
              "      <td>0</td>\n",
              "      <td>0</td>\n",
              "      <td>0</td>\n",
              "      <td>0</td>\n",
              "      <td>0</td>\n",
              "      <td>0</td>\n",
              "      <td>0</td>\n",
              "      <td>0</td>\n",
              "      <td>0</td>\n",
              "      <td>0</td>\n",
              "      <td>0</td>\n",
              "      <td>0</td>\n",
              "      <td>0</td>\n",
              "      <td>0</td>\n",
              "      <td>0</td>\n",
              "      <td>0</td>\n",
              "      <td>0</td>\n",
              "      <td>0</td>\n",
              "      <td>0</td>\n",
              "      <td>0</td>\n",
              "      <td>0</td>\n",
              "      <td>0</td>\n",
              "      <td>0</td>\n",
              "      <td>0</td>\n",
              "      <td>0</td>\n",
              "      <td>0</td>\n",
              "      <td>0</td>\n",
              "      <td>0</td>\n",
              "      <td>0</td>\n",
              "      <td>0</td>\n",
              "      <td>0</td>\n",
              "      <td>0</td>\n",
              "      <td>...</td>\n",
              "      <td>0</td>\n",
              "      <td>0</td>\n",
              "      <td>0</td>\n",
              "      <td>0</td>\n",
              "      <td>0</td>\n",
              "      <td>0</td>\n",
              "      <td>0</td>\n",
              "      <td>0</td>\n",
              "      <td>0</td>\n",
              "      <td>0</td>\n",
              "      <td>0</td>\n",
              "      <td>0</td>\n",
              "      <td>0</td>\n",
              "      <td>0</td>\n",
              "      <td>0</td>\n",
              "      <td>0</td>\n",
              "      <td>0</td>\n",
              "      <td>0</td>\n",
              "      <td>0</td>\n",
              "      <td>0</td>\n",
              "      <td>0</td>\n",
              "      <td>0</td>\n",
              "      <td>0</td>\n",
              "      <td>0</td>\n",
              "      <td>0</td>\n",
              "      <td>0</td>\n",
              "      <td>0</td>\n",
              "      <td>0</td>\n",
              "      <td>0</td>\n",
              "      <td>0</td>\n",
              "      <td>0</td>\n",
              "      <td>0</td>\n",
              "      <td>0</td>\n",
              "      <td>0</td>\n",
              "      <td>0</td>\n",
              "      <td>0</td>\n",
              "      <td>0</td>\n",
              "      <td>0</td>\n",
              "      <td>0</td>\n",
              "      <td>0</td>\n",
              "    </tr>\n",
              "    <tr>\n",
              "      <th>4</th>\n",
              "      <td>id_001626bd3</td>\n",
              "      <td>0</td>\n",
              "      <td>0</td>\n",
              "      <td>0</td>\n",
              "      <td>0</td>\n",
              "      <td>0</td>\n",
              "      <td>0</td>\n",
              "      <td>0</td>\n",
              "      <td>0</td>\n",
              "      <td>0</td>\n",
              "      <td>0</td>\n",
              "      <td>0</td>\n",
              "      <td>0</td>\n",
              "      <td>0</td>\n",
              "      <td>0</td>\n",
              "      <td>0</td>\n",
              "      <td>0</td>\n",
              "      <td>0</td>\n",
              "      <td>0</td>\n",
              "      <td>0</td>\n",
              "      <td>0</td>\n",
              "      <td>0</td>\n",
              "      <td>0</td>\n",
              "      <td>0</td>\n",
              "      <td>0</td>\n",
              "      <td>0</td>\n",
              "      <td>0</td>\n",
              "      <td>0</td>\n",
              "      <td>0</td>\n",
              "      <td>0</td>\n",
              "      <td>0</td>\n",
              "      <td>0</td>\n",
              "      <td>0</td>\n",
              "      <td>0</td>\n",
              "      <td>0</td>\n",
              "      <td>0</td>\n",
              "      <td>0</td>\n",
              "      <td>0</td>\n",
              "      <td>0</td>\n",
              "      <td>0</td>\n",
              "      <td>...</td>\n",
              "      <td>0</td>\n",
              "      <td>0</td>\n",
              "      <td>0</td>\n",
              "      <td>0</td>\n",
              "      <td>0</td>\n",
              "      <td>0</td>\n",
              "      <td>0</td>\n",
              "      <td>0</td>\n",
              "      <td>0</td>\n",
              "      <td>0</td>\n",
              "      <td>0</td>\n",
              "      <td>0</td>\n",
              "      <td>0</td>\n",
              "      <td>0</td>\n",
              "      <td>0</td>\n",
              "      <td>0</td>\n",
              "      <td>0</td>\n",
              "      <td>0</td>\n",
              "      <td>0</td>\n",
              "      <td>0</td>\n",
              "      <td>0</td>\n",
              "      <td>0</td>\n",
              "      <td>0</td>\n",
              "      <td>0</td>\n",
              "      <td>0</td>\n",
              "      <td>0</td>\n",
              "      <td>0</td>\n",
              "      <td>0</td>\n",
              "      <td>0</td>\n",
              "      <td>0</td>\n",
              "      <td>0</td>\n",
              "      <td>0</td>\n",
              "      <td>0</td>\n",
              "      <td>0</td>\n",
              "      <td>0</td>\n",
              "      <td>0</td>\n",
              "      <td>0</td>\n",
              "      <td>0</td>\n",
              "      <td>0</td>\n",
              "      <td>0</td>\n",
              "    </tr>\n",
              "  </tbody>\n",
              "</table>\n",
              "<p>5 rows × 207 columns</p>\n",
              "</div>"
            ],
            "text/plain": [
              "             id  ...  wnt_inhibitor\n",
              "0  id_000644bb2  ...              0\n",
              "1  id_000779bfc  ...              0\n",
              "2  id_000a6266a  ...              0\n",
              "3  id_0015fd391  ...              0\n",
              "4  id_001626bd3  ...              0\n",
              "\n",
              "[5 rows x 207 columns]"
            ]
          },
          "metadata": {
            "tags": []
          },
          "execution_count": 150
        }
      ]
    },
    {
      "cell_type": "markdown",
      "metadata": {
        "id": "5Dk_ZgteMwbn"
      },
      "source": [
        "## Exploração e análise dos dados"
      ]
    },
    {
      "cell_type": "markdown",
      "metadata": {
        "id": "LfJldSgZNG2g"
      },
      "source": [
        "### Dados referente aos experimentos realizados"
      ]
    },
    {
      "cell_type": "markdown",
      "metadata": {
        "id": "FXqivMzvQZod"
      },
      "source": [
        "#### Visão geral do dataset"
      ]
    },
    {
      "cell_type": "markdown",
      "metadata": {
        "id": "5pxDwprRgON5"
      },
      "source": [
        "O primeiro passo da exploração de dados é entendermos quais dados temos e a sua natureza. Para tanto, vamos dar uma vizualizada ampla nas informações contidas nestes dataset."
      ]
    },
    {
      "cell_type": "code",
      "metadata": {
        "colab": {
          "base_uri": "https://localhost:8080/"
        },
        "id": "vUmGad87NS1B",
        "outputId": "ccb673fa-074c-495b-ef85-876f7f634cf6"
      },
      "source": [
        "df_experiments.info()"
      ],
      "execution_count": 151,
      "outputs": [
        {
          "output_type": "stream",
          "text": [
            "<class 'pandas.core.frame.DataFrame'>\n",
            "RangeIndex: 23814 entries, 0 to 23813\n",
            "Columns: 877 entries, id to c-99\n",
            "dtypes: float64(872), int64(1), object(4)\n",
            "memory usage: 159.3+ MB\n"
          ],
          "name": "stdout"
        }
      ]
    },
    {
      "cell_type": "markdown",
      "metadata": {
        "id": "J9PGqzWSSKFF"
      },
      "source": [
        "Como podemos ver este _dataset_ possui __23.814 linhas__ com __887 colunas__. Veja que dado este volume dados a função ```info()``` do pandas, cujo usamos para obter mais informações da estrutura, não optou por imprimir toda estrutura. Imagino que foi pela quantidade de colunas. Vamos tentar outra abordagem."
      ]
    },
    {
      "cell_type": "code",
      "metadata": {
        "colab": {
          "base_uri": "https://localhost:8080/"
        },
        "id": "msPS7902TnjV",
        "outputId": "31139dc5-c124-4be0-a5db-b0643b132c51"
      },
      "source": [
        "print_df_dict_groupby(df_experiments \\\n",
        "                        .columns \\\n",
        "                        .to_series() \\\n",
        "                        .groupby(df_experiments.dtypes) \\\n",
        "                        .groups)"
      ],
      "execution_count": 152,
      "outputs": [
        {
          "output_type": "stream",
          "text": [
            "<class 'pandas.io.formats.printing.PrettyDict'>\n",
            "int64\n",
            "\ttempo\n",
            "\n",
            "float64\n",
            "\tg-0, g-1, g-2, g-3, g-4, g-5, g-6, g-7, g-8, g-9, g-10, g-11, g-12, g-13, g-14, g-15, g-16, g-17, g-18, g-19, g-20, g-21, g-22, g-23, g-24, g-25, g-26, g-27, g-28, g-29, g-30, g-31, g-32, g-33, g-34, g-35, g-36, g-37, g-38, g-39, g-40, g-41, g-42, g-43, g-44, g-45, g-46, g-47, g-48, g-49\n",
            "\n",
            "\tg-50, g-51, g-52, g-53, g-54, g-55, g-56, g-57, g-58, g-59, g-60, g-61, g-62, g-63, g-64, g-65, g-66, g-67, g-68, g-69, g-70, g-71, g-72, g-73, g-74, g-75, g-76, g-77, g-78, g-79, g-80, g-81, g-82, g-83, g-84, g-85, g-86, g-87, g-88, g-89, g-90, g-91, g-92, g-93, g-94, g-95, g-96, g-97, g-98, g-99\n",
            "\n",
            "\tg-100, g-101, g-102, g-103, g-104, g-105, g-106, g-107, g-108, g-109, g-110, g-111, g-112, g-113, g-114, g-115, g-116, g-117, g-118, g-119, g-120, g-121, g-122, g-123, g-124, g-125, g-126, g-127, g-128, g-129, g-130, g-131, g-132, g-133, g-134, g-135, g-136, g-137, g-138, g-139, g-140, g-141, g-142, g-143, g-144, g-145, g-146, g-147, g-148, g-149\n",
            "\n",
            "\tg-150, g-151, g-152, g-153, g-154, g-155, g-156, g-157, g-158, g-159, g-160, g-161, g-162, g-163, g-164, g-165, g-166, g-167, g-168, g-169, g-170, g-171, g-172, g-173, g-174, g-175, g-176, g-177, g-178, g-179, g-180, g-181, g-182, g-183, g-184, g-185, g-186, g-187, g-188, g-189, g-190, g-191, g-192, g-193, g-194, g-195, g-196, g-197, g-198, g-199\n",
            "\n",
            "\tg-200, g-201, g-202, g-203, g-204, g-205, g-206, g-207, g-208, g-209, g-210, g-211, g-212, g-213, g-214, g-215, g-216, g-217, g-218, g-219, g-220, g-221, g-222, g-223, g-224, g-225, g-226, g-227, g-228, g-229, g-230, g-231, g-232, g-233, g-234, g-235, g-236, g-237, g-238, g-239, g-240, g-241, g-242, g-243, g-244, g-245, g-246, g-247, g-248, g-249\n",
            "\n",
            "\tg-250, g-251, g-252, g-253, g-254, g-255, g-256, g-257, g-258, g-259, g-260, g-261, g-262, g-263, g-264, g-265, g-266, g-267, g-268, g-269, g-270, g-271, g-272, g-273, g-274, g-275, g-276, g-277, g-278, g-279, g-280, g-281, g-282, g-283, g-284, g-285, g-286, g-287, g-288, g-289, g-290, g-291, g-292, g-293, g-294, g-295, g-296, g-297, g-298, g-299\n",
            "\n",
            "\tg-300, g-301, g-302, g-303, g-304, g-305, g-306, g-307, g-308, g-309, g-310, g-311, g-312, g-313, g-314, g-315, g-316, g-317, g-318, g-319, g-320, g-321, g-322, g-323, g-324, g-325, g-326, g-327, g-328, g-329, g-330, g-331, g-332, g-333, g-334, g-335, g-336, g-337, g-338, g-339, g-340, g-341, g-342, g-343, g-344, g-345, g-346, g-347, g-348, g-349\n",
            "\n",
            "\tg-350, g-351, g-352, g-353, g-354, g-355, g-356, g-357, g-358, g-359, g-360, g-361, g-362, g-363, g-364, g-365, g-366, g-367, g-368, g-369, g-370, g-371, g-372, g-373, g-374, g-375, g-376, g-377, g-378, g-379, g-380, g-381, g-382, g-383, g-384, g-385, g-386, g-387, g-388, g-389, g-390, g-391, g-392, g-393, g-394, g-395, g-396, g-397, g-398, g-399\n",
            "\n",
            "\tg-400, g-401, g-402, g-403, g-404, g-405, g-406, g-407, g-408, g-409, g-410, g-411, g-412, g-413, g-414, g-415, g-416, g-417, g-418, g-419, g-420, g-421, g-422, g-423, g-424, g-425, g-426, g-427, g-428, g-429, g-430, g-431, g-432, g-433, g-434, g-435, g-436, g-437, g-438, g-439, g-440, g-441, g-442, g-443, g-444, g-445, g-446, g-447, g-448, g-449\n",
            "\n",
            "\tg-450, g-451, g-452, g-453, g-454, g-455, g-456, g-457, g-458, g-459, g-460, g-461, g-462, g-463, g-464, g-465, g-466, g-467, g-468, g-469, g-470, g-471, g-472, g-473, g-474, g-475, g-476, g-477, g-478, g-479, g-480, g-481, g-482, g-483, g-484, g-485, g-486, g-487, g-488, g-489, g-490, g-491, g-492, g-493, g-494, g-495, g-496, g-497, g-498, g-499\n",
            "\n",
            "\tg-500, g-501, g-502, g-503, g-504, g-505, g-506, g-507, g-508, g-509, g-510, g-511, g-512, g-513, g-514, g-515, g-516, g-517, g-518, g-519, g-520, g-521, g-522, g-523, g-524, g-525, g-526, g-527, g-528, g-529, g-530, g-531, g-532, g-533, g-534, g-535, g-536, g-537, g-538, g-539, g-540, g-541, g-542, g-543, g-544, g-545, g-546, g-547, g-548, g-549\n",
            "\n",
            "\tg-550, g-551, g-552, g-553, g-554, g-555, g-556, g-557, g-558, g-559, g-560, g-561, g-562, g-563, g-564, g-565, g-566, g-567, g-568, g-569, g-570, g-571, g-572, g-573, g-574, g-575, g-576, g-577, g-578, g-579, g-580, g-581, g-582, g-583, g-584, g-585, g-586, g-587, g-588, g-589, g-590, g-591, g-592, g-593, g-594, g-595, g-596, g-597, g-598, g-599\n",
            "\n",
            "\tg-600, g-601, g-602, g-603, g-604, g-605, g-606, g-607, g-608, g-609, g-610, g-611, g-612, g-613, g-614, g-615, g-616, g-617, g-618, g-619, g-620, g-621, g-622, g-623, g-624, g-625, g-626, g-627, g-628, g-629, g-630, g-631, g-632, g-633, g-634, g-635, g-636, g-637, g-638, g-639, g-640, g-641, g-642, g-643, g-644, g-645, g-646, g-647, g-648, g-649\n",
            "\n",
            "\tg-650, g-651, g-652, g-653, g-654, g-655, g-656, g-657, g-658, g-659, g-660, g-661, g-662, g-663, g-664, g-665, g-666, g-667, g-668, g-669, g-670, g-671, g-672, g-673, g-674, g-675, g-676, g-677, g-678, g-679, g-680, g-681, g-682, g-683, g-684, g-685, g-686, g-687, g-688, g-689, g-690, g-691, g-692, g-693, g-694, g-695, g-696, g-697, g-698, g-699\n",
            "\n",
            "\tg-700, g-701, g-702, g-703, g-704, g-705, g-706, g-707, g-708, g-709, g-710, g-711, g-712, g-713, g-714, g-715, g-716, g-717, g-718, g-719, g-720, g-721, g-722, g-723, g-724, g-725, g-726, g-727, g-728, g-729, g-730, g-731, g-732, g-733, g-734, g-735, g-736, g-737, g-738, g-739, g-740, g-741, g-742, g-743, g-744, g-745, g-746, g-747, g-748, g-749\n",
            "\n",
            "\tg-750, g-751, g-752, g-753, g-754, g-755, g-756, g-757, g-758, g-759, g-760, g-761, g-762, g-763, g-764, g-765, g-766, g-767, g-768, g-769, g-770, g-771, c-0, c-1, c-2, c-3, c-4, c-5, c-6, c-7, c-8, c-9, c-10, c-11, c-12, c-13, c-14, c-15, c-16, c-17, c-18, c-19, c-20, c-21, c-22, c-23, c-24, c-25, c-26, c-27\n",
            "\n",
            "\tc-28, c-29, c-30, c-31, c-32, c-33, c-34, c-35, c-36, c-37, c-38, c-39, c-40, c-41, c-42, c-43, c-44, c-45, c-46, c-47, c-48, c-49, c-50, c-51, c-52, c-53, c-54, c-55, c-56, c-57, c-58, c-59, c-60, c-61, c-62, c-63, c-64, c-65, c-66, c-67, c-68, c-69, c-70, c-71, c-72, c-73, c-74, c-75, c-76, c-77\n",
            "\n",
            "\tc-78, c-79, c-80, c-81, c-82, c-83, c-84, c-85, c-86, c-87, c-88, c-89, c-90, c-91, c-92, c-93, c-94, c-95, c-96, c-97, c-98, c-99\n",
            "\n",
            "object\n",
            "\tid, tratamento, dose, droga\n",
            "\n"
          ],
          "name": "stdout"
        }
      ]
    },
    {
      "cell_type": "markdown",
      "metadata": {
        "id": "HGZRHsJfeivg"
      },
      "source": [
        "Com base nos resultados anteriores, podemos ver que temos as seguintes colunas:\n",
        "* __id__, cujo é um campo do tipo objeto;\n",
        "* __tratamento__, cujo é um campo do tipo objeto;\n",
        "* __tempo__, cujo é um campo numérico;\n",
        "* __dose__, cujo é um campo do tipo objeto;\n",
        "* __droga__, cujo é um campo do tipo objeto;\n",
        "* __g-0 ~ g-771__, cujo é um campo do tipo decimal e aparenta ser um grupo de dados de um mesmo contexto;\n",
        "* __c-0 ~ c-99__, cujo é um campo do tipo decimal e assim como os _\"g-n\"_, também aparentam ser um grupo de dados de um mesmo contexto;\n",
        "\n",
        "\n",
        "Agora o próximo passo é explorar o conteúdo de cada coluna e tentar determinar do que se tratam."
      ]
    },
    {
      "cell_type": "markdown",
      "metadata": {
        "id": "B6KhSm23fXBO"
      },
      "source": [
        "#### Exploração coluna: id"
      ]
    },
    {
      "cell_type": "markdown",
      "metadata": {
        "id": "1ElNCR4QgRjI"
      },
      "source": [
        "No caso vamos começar pelos campos que possuem aparentemente um significado mais direto, a começar pelo 'id'."
      ]
    },
    {
      "cell_type": "code",
      "metadata": {
        "colab": {
          "base_uri": "https://localhost:8080/"
        },
        "id": "CXzvTQbugmIW",
        "outputId": "cbb4b273-5b80-444c-99f6-84850330c081"
      },
      "source": [
        "df_experiments['id'].value_counts()"
      ],
      "execution_count": 153,
      "outputs": [
        {
          "output_type": "execute_result",
          "data": {
            "text/plain": [
              "id_1d650ed9d    1\n",
              "id_9fa6abed7    1\n",
              "id_1e8f5ac69    1\n",
              "id_7a00e0cb2    1\n",
              "id_fbe80376e    1\n",
              "               ..\n",
              "id_12f36429a    1\n",
              "id_266dd4f54    1\n",
              "id_1d9c7954a    1\n",
              "id_5b4b497bf    1\n",
              "id_9d767545e    1\n",
              "Name: id, Length: 23814, dtype: int64"
            ]
          },
          "metadata": {
            "tags": []
          },
          "execution_count": 153
        }
      ]
    },
    {
      "cell_type": "markdown",
      "metadata": {
        "id": "mM8M0adphTdk"
      },
      "source": [
        "Do que tange a coluna **'id'**, ao executarmos uma contagem do número de ocorrências dos valores contidos na mesma (```value_counts()```) logo nota-se que a quantidade resultados, **23.814**, é exatamente a quantidade total de linhas de dados contidas no dataset. Sendo assim, seria plausível concluir que cada um deste valores é um 'identificador único' para o experimento."
      ]
    },
    {
      "cell_type": "markdown",
      "metadata": {
        "id": "mmwX1zzhfP_1"
      },
      "source": [
        "#### Exploração coluna: tratamento"
      ]
    },
    {
      "cell_type": "code",
      "metadata": {
        "colab": {
          "base_uri": "https://localhost:8080/"
        },
        "id": "-oMnnxfdiDeW",
        "outputId": "7a609802-accc-4c36-c4cc-05b1d1bae5f9"
      },
      "source": [
        "df_experiments['tratamento'].value_counts()"
      ],
      "execution_count": 154,
      "outputs": [
        {
          "output_type": "execute_result",
          "data": {
            "text/plain": [
              "com_droga       21948\n",
              "com_controle     1866\n",
              "Name: tratamento, dtype: int64"
            ]
          },
          "metadata": {
            "tags": []
          },
          "execution_count": 154
        }
      ]
    },
    {
      "cell_type": "markdown",
      "metadata": {
        "id": "xd9lerz6iQwG"
      },
      "source": [
        "Do que tange a conluna **'tratamento'**, ao executarmos uma contagem do número de ocorrências, da mesma maneira que realizamos para a coluna anterior, podemos perceber que há somente a ocorrência de dois valores que classificam o tipo da análise que foi executada para um cada um dos experimentos listados no _dataset_. Segundo entendimento desta taxonomia, seriam utilizadas para o seguinte contexto:\n",
        "* **com_droga**, quando o experimento envolver a análise da influencia de um composto químico;\n",
        "* **com_controle**, quando o experimento não envolver a análise da influencia de um composto químico, ou seja, analisar o comportamento padrão ou isolar um comportamento para análise;\n",
        "\n",
        "Mas, olhando para informação de ocorrência, nota-se que há uma descrepância muito grande proporção entre eles. Vou projetar estes valores em percentual para visualizar melhor.\n"
      ]
    },
    {
      "cell_type": "code",
      "metadata": {
        "colab": {
          "base_uri": "https://localhost:8080/"
        },
        "id": "BepDTCYEkqms",
        "outputId": "1507351f-fdd6-46ee-ab7f-4ac7e1817e2c"
      },
      "source": [
        "series_experiments_count_tratamento = df_experiments['tratamento'].value_counts(normalize=True)\n",
        "series_experiments_count_tratamento * 100"
      ],
      "execution_count": 155,
      "outputs": [
        {
          "output_type": "execute_result",
          "data": {
            "text/plain": [
              "com_droga       92.164273\n",
              "com_controle     7.835727\n",
              "Name: tratamento, dtype: float64"
            ]
          },
          "metadata": {
            "tags": []
          },
          "execution_count": 155
        }
      ]
    },
    {
      "cell_type": "code",
      "metadata": {
        "colab": {
          "base_uri": "https://localhost:8080/",
          "height": 378
        },
        "id": "wwXC_9bVk7Wp",
        "outputId": "35000e71-c824-4580-ccda-ed5583821463"
      },
      "source": [
        "plot_chart_pie(series_experiments_count_tratamento, \\\n",
        "               title='Total por tipo de tratamento', \\\n",
        "               startangle= 200, \\\n",
        "               explode = (0, 0.1))"
      ],
      "execution_count": 156,
      "outputs": [
        {
          "output_type": "display_data",
          "data": {
            "image/png": "[encoded data removed]",
            "text/plain": [
              "<Figure size 432x432 with 1 Axes>"
            ]
          },
          "metadata": {
            "tags": []
          }
        }
      ]
    },
    {
      "cell_type": "markdown",
      "metadata": {
        "id": "T3TYC0AztOJK"
      },
      "source": [
        "O que observamos é que a predominância para os **\"tratamentos\"** são aqueles que que testam algum tipo de composto químico. Talvez possamos partir da suposição que os percentual de análise que temos para os **\"tratamentos\"** do tipo **\"com_controle\"**, têm como objetivo termos uma referência de **\"normalidade\"** afim de comparação com os testes que são utilizados compostos químicos? Vamos incluir nas lista de hipóteses para validarmos depois que conhecermos melhor os dados"
      ]
    },
    {
      "cell_type": "markdown",
      "metadata": {
        "id": "H7IDyGc_D6Gd"
      },
      "source": [
        "#### Exploração coluna: tempo"
      ]
    },
    {
      "cell_type": "markdown",
      "metadata": {
        "id": "HnP9B7U5gVh4"
      },
      "source": [
        "Agora vamos dar uma olhada no conteúdo da coluna **\"tempo\"**."
      ]
    },
    {
      "cell_type": "code",
      "metadata": {
        "colab": {
          "base_uri": "https://localhost:8080/"
        },
        "id": "Znugl-GpEMM0",
        "outputId": "5ef34347-d8e1-4803-8adf-e58ad93598a4"
      },
      "source": [
        "df_experiments['tempo'].unique()"
      ],
      "execution_count": 157,
      "outputs": [
        {
          "output_type": "execute_result",
          "data": {
            "text/plain": [
              "array([24, 72, 48])"
            ]
          },
          "metadata": {
            "tags": []
          },
          "execution_count": 157
        }
      ]
    },
    {
      "cell_type": "markdown",
      "metadata": {
        "id": "apn3WKDpExXU"
      },
      "source": [
        "Como podemos perceber a coluna **\"tempo\"** possui um domínio de dados fechado. O suposição que faço em cima destes dados é que são referente aos períodos de acompanhamento de um experimento nos perídos de **24, 48 e 72 horas**. \n",
        "\n",
        "Dado que vimos que temos um **\"id\"** único para cada linha do nosso dataset, cujo representa uma **execução de teste**, será que seria um hipótese válida, assim com temos uma para a referência de \"normalidade\" que um mesmo \"contexto\" de experimento pode ter linhas que representem acompahamentos na mesma janela de tempo para validar os efeitos dos compostos químicos? Vamos incluir na lista de hipóteses para ver se achamos uma resposta para teste ponto também. "
      ]
    },
    {
      "cell_type": "markdown",
      "metadata": {
        "id": "86dCGtUMH4NL"
      },
      "source": [
        "#### Exploração coluna: dose"
      ]
    },
    {
      "cell_type": "markdown",
      "metadata": {
        "id": "3aidp6wmgaFU"
      },
      "source": [
        "Agora vamos analisar o conteúdo da coluna **\"dose\"**."
      ]
    },
    {
      "cell_type": "code",
      "metadata": {
        "colab": {
          "base_uri": "https://localhost:8080/"
        },
        "id": "aYo6n7a0EwlS",
        "outputId": "08d30d31-cdee-4a5a-ed1a-5f1e7bb753ba"
      },
      "source": [
        "df_experiments['dose'].unique()"
      ],
      "execution_count": 158,
      "outputs": [
        {
          "output_type": "execute_result",
          "data": {
            "text/plain": [
              "array(['D1', 'D2'], dtype=object)"
            ]
          },
          "metadata": {
            "tags": []
          },
          "execution_count": 158
        }
      ]
    },
    {
      "cell_type": "markdown",
      "metadata": {
        "id": "sM4AG0hCIXa8"
      },
      "source": [
        "Pelo que podemos ver temos dois **\"níveis\"** de dosagem que são aplicados nos experimentos: D1 e D2. São valores bem subjetivos e não conseguimos ter uma noção clara do seu impacto nos experimentos que foram realizados.\n",
        "\n",
        "O que podemos explorar neste momento são talvez as proporções das de aplicação desta dosagens no nosso dataset?"
      ]
    },
    {
      "cell_type": "code",
      "metadata": {
        "colab": {
          "base_uri": "https://localhost:8080/"
        },
        "id": "W1_bPGaUIKgt",
        "outputId": "4a9052b5-498c-4e78-d80e-b0d701178307"
      },
      "source": [
        "series_experiments_count_dose = df_experiments['dose'].value_counts(normalize=True)\n",
        "series_experiments_count_dose * 100"
      ],
      "execution_count": 159,
      "outputs": [
        {
          "output_type": "execute_result",
          "data": {
            "text/plain": [
              "D1    51.007811\n",
              "D2    48.992189\n",
              "Name: dose, dtype: float64"
            ]
          },
          "metadata": {
            "tags": []
          },
          "execution_count": 159
        }
      ]
    },
    {
      "cell_type": "code",
      "metadata": {
        "colab": {
          "base_uri": "https://localhost:8080/",
          "height": 378
        },
        "id": "Eics8Vn3QfM6",
        "outputId": "835be97f-ff82-4acf-df22-f33b0b74ef08"
      },
      "source": [
        "plot_chart_pie(series_experiments_count_dose, \\\n",
        "               title='Total por tipo de dose', \\\n",
        "               explode=(0.1, 0))"
      ],
      "execution_count": 160,
      "outputs": [
        {
          "output_type": "display_data",
          "data": {
            "image/png": "[encoded data removed]",
            "text/plain": [
              "<Figure size 432x432 with 1 Axes>"
            ]
          },
          "metadata": {
            "tags": []
          }
        }
      ]
    },
    {
      "cell_type": "markdown",
      "metadata": {
        "id": "2UxOhPLrQ9Ev"
      },
      "source": [
        "Como podemos perceber, a proproção de experimentos com os dois níveis de dosagem parecem ser bem próximos"
      ]
    },
    {
      "cell_type": "markdown",
      "metadata": {
        "id": "zUAV3NnARXh-"
      },
      "source": [
        "#### Exploração coluna: droga"
      ]
    },
    {
      "cell_type": "markdown",
      "metadata": {
        "id": "1b7D7Dkzgn20"
      },
      "source": [
        "Agora vamos analisar o conteúdo da coluna **\"droga\"**"
      ]
    },
    {
      "cell_type": "code",
      "metadata": {
        "colab": {
          "base_uri": "https://localhost:8080/"
        },
        "id": "se_LbKLqRjjk",
        "outputId": "5d889b57-2593-4a92-e7fd-5a6fa6ef9b7b"
      },
      "source": [
        "df_experiments['droga'].unique()"
      ],
      "execution_count": 161,
      "outputs": [
        {
          "output_type": "execute_result",
          "data": {
            "text/plain": [
              "array(['b68db1d53', 'df89a8e5a', '18bb41b2c', ..., '573c787a2',\n",
              "       'b2fe3eca7', 'dd4a96d16'], dtype=object)"
            ]
          },
          "metadata": {
            "tags": []
          },
          "execution_count": 161
        }
      ]
    },
    {
      "cell_type": "markdown",
      "metadata": {
        "id": "Rie1zFnKRpJc"
      },
      "source": [
        "Como podemos perceber temos um conjunto grade de compostos químicos (drogas) que foram utilizadas nos experimentos. Tavlez para termos uma maior noção, podemos agrupar e contabilizar as drogas e ordernar elas por maior ocorrência "
      ]
    },
    {
      "cell_type": "code",
      "metadata": {
        "colab": {
          "base_uri": "https://localhost:8080/"
        },
        "id": "4-cDq4f9SK0y",
        "outputId": "e1347f37-a504-438f-d003-5c7842bad9a2"
      },
      "source": [
        "series_experiments_count_droga = df_experiments['droga'].value_counts()\n",
        "series_experiments_count_droga"
      ],
      "execution_count": 162,
      "outputs": [
        {
          "output_type": "execute_result",
          "data": {
            "text/plain": [
              "cacb2b860    1866\n",
              "87d714366     718\n",
              "9f80f3f77     246\n",
              "8b87a7a83     203\n",
              "5628cb3ee     202\n",
              "             ... \n",
              "c5ffd58ca       1\n",
              "f2cc15da6       1\n",
              "7b1ac15fc       1\n",
              "98c94f9b9       1\n",
              "f5c443039       1\n",
              "Name: droga, Length: 3289, dtype: int64"
            ]
          },
          "metadata": {
            "tags": []
          },
          "execution_count": 162
        }
      ]
    },
    {
      "cell_type": "markdown",
      "metadata": {
        "id": "ovNOqAFdSXyA"
      },
      "source": [
        "Como podemos ver neste resultado temos *3.289* compostos químicos sendo usados neste dataset. Vamos tentar trabalhar os valores de contagem para entender a abrangência com que os compostos são usados repetidamente em experimentos."
      ]
    },
    {
      "cell_type": "code",
      "metadata": {
        "colab": {
          "base_uri": "https://localhost:8080/"
        },
        "id": "3iFCvbs7T_zZ",
        "outputId": "aa628bd8-10a0-4bc3-d7b0-e1a940f072ca"
      },
      "source": [
        "print('Frequência de uso de compostos químicos em experimentos\\n\\n -> ' + ', '.join(map(str, (list(dict.fromkeys(series_experiments_count_droga.values))))))"
      ],
      "execution_count": 163,
      "outputs": [
        {
          "output_type": "stream",
          "text": [
            "Frequência de uso de compostos químicos em experimentos\n",
            "\n",
            " -> 1866, 718, 246, 203, 202, 196, 194, 186, 178, 19, 18, 14, 13, 12, 11, 8, 7, 6, 5, 4, 3, 2, 1\n"
          ],
          "name": "stdout"
        }
      ]
    },
    {
      "cell_type": "markdown",
      "metadata": {
        "id": "XoVCWrJ9UsFO"
      },
      "source": [
        "Acredito que para análises que iremos realizar na sequência, talvez seja o suficiente analisarmos os **top 5** compostos, que no caso seriam:"
      ]
    },
    {
      "cell_type": "code",
      "metadata": {
        "colab": {
          "base_uri": "https://localhost:8080/"
        },
        "id": "2kG8B3faVKtW",
        "outputId": "4f0a5ffc-5c0a-4eeb-f767-98a94b3ecb3f"
      },
      "source": [
        "top_5_drogas = series_experiments_count_droga[:5]\n",
        "top_5_drogas "
      ],
      "execution_count": 164,
      "outputs": [
        {
          "output_type": "execute_result",
          "data": {
            "text/plain": [
              "cacb2b860    1866\n",
              "87d714366     718\n",
              "9f80f3f77     246\n",
              "8b87a7a83     203\n",
              "5628cb3ee     202\n",
              "Name: droga, dtype: int64"
            ]
          },
          "metadata": {
            "tags": []
          },
          "execution_count": 164
        }
      ]
    },
    {
      "cell_type": "code",
      "metadata": {
        "colab": {
          "base_uri": "https://localhost:8080/",
          "height": 379
        },
        "id": "DwocFESpWzL3",
        "outputId": "7fe4f7c8-5476-491c-f1e1-b637a4b937c4"
      },
      "source": [
        "plot_chart_pie(top_5_drogas, \\\n",
        "               title='Top 5 compostos químicos', \\\n",
        "               explode = (0.1, 0, 0, 0, 0))"
      ],
      "execution_count": 165,
      "outputs": [
        {
          "output_type": "display_data",
          "data": {
            "image/png": "[encoded data removed]",
            "text/plain": [
              "<Figure size 432x432 with 1 Axes>"
            ]
          },
          "metadata": {
            "tags": []
          }
        }
      ]
    },
    {
      "cell_type": "markdown",
      "metadata": {
        "id": "518TcRCBZ2eT"
      },
      "source": [
        "O interessante de analisar nesta visualização é que o composto químico **'cacb2b860'** foi de uso predominante nos experimentos."
      ]
    },
    {
      "cell_type": "markdown",
      "metadata": {
        "id": "K1qYQj_neRQ-"
      },
      "source": [
        "#### Antes de seguirmos adiante, vamos conversar um pouco sobre expressão gênica?\n",
        "<br />\n",
        "Segundo o texto \"Expressão gênica: o caminho da informação biológica\" (EXPRESSÃO, 2021), toda a informação necessária gerar e manter ser vivo vem da molécula de DNA. Molécula que reside no núcleo de uma célula.\n",
        "\n",
        "Quando falamos de seres vivos como nós, os humanos, em cada uma de nossas células, possuímos exatamente 46 DNAs, onde metade delas, 23, são de origem materna e outra metade são de origem paterna.\n",
        "\n",
        "Um DNA por sua vez pode ser decomposto em 'genes', onde cada um deles, possuem informações que quando estimuladas, produzem proteínas. Muitas delas, você até já pode ter ouvido falar, tais como: insulina, anticorpos, hemoglobina, lactase, actina, colágeno e etc.\n",
        "\n",
        "![DNA ](https://github.com/wfercosta/imersao-dados-desafio-final/raw/main/Notebooks/dna_gene.png?raw=true)\n",
        "\n",
        "Você se recorda que pacientes que fazem tratamento de diabetes, precisam regularizar a produção 'insulina'? Pois bem, os estudos que estamos analisando são de compostos quimicos que estimulam estes 'genes' a produzir, por exemplo, a insulina que estes pacientes de diabetes tanto necessitam. Connectou os assuntos? ;-)\n",
        "\n",
        "Mas agora você deve estar se perguntando como isso funciona certo? Vamos analisar o passo a passo da imagem a seguir:\n",
        "\n",
        "![Célula](https://github.com/wfercosta/imersao-dados-desafio-final/raw/main/Notebooks/celula.png?raw=true)\n",
        "\n",
        "Quando ingerimos leite, no final estamos ingerindo lactose, certo? Quando isso ocorre a lactso estimula um gene chamado de LTC, cujo possui a receita para gerar a proteína chamada de lactase, cujo é resposávelp or nos ajudar a digerir o leite.  Quando este estímulo ocorre, a receita do LTC é copiada para dentro de uma molécula de RNA, que seria o nosso mensagereio, que leva a infomrmação para fora do núcleo, até cheganar na fábrica de proteínas, que no casso é o ribossomo. O ribossomo por sua vez, lê esta receita e inicia a produção da enzima que vai nos ajudar no processo de digestáo da lactose do leite. \n",
        "\n",
        "Quando este processo ocorre, falamos que \"expressão gênica\" aumentou.\n",
        "\n",
        "![Expressão Genica](https://github.com/wfercosta/imersao-dados-desafio-final/raw/main/Notebooks/expressao_genica.png?raw=true)\n",
        "\n",
        "Aumentar ou diminuir a \"expressão gênica\" de acordo com a necessidade é uma função básica das nossas células, que podem ser esimuladas por fatores internos, como os hormônios; ou por fatores externos como, medicamentos ou alimientação.\n",
        "\n",
        "![RNA estímulo](https://github.com/wfercosta/imersao-dados-desafio-final/raw/main/Notebooks/rna_estimulo.png?raw=true)\n",
        "\n",
        "\n",
        "No desenho acima você pode perceber que temos um 'gene', em seu estado de 'controle' onde ele produz 4 RNA (e diretamente porprocional 4 proteínas). E outras duas representações, com base em algum fator interno ou externo, que estimula ou o aumento ou a redução da produção da proteina. Se voltarmos ao caso da insulina, o que temos é um composto que aumenta a produção de RNA (e consequentimente proteínas) para suprir um défict da sua produção.\n",
        "\n",
        "Mas agora você deve estar dizendo para si mesmo: \"Ok, entendi. Mas por que precisamos falar disso neste momento?\". \n",
        "\n",
        "Bom, preicsamos um pouco deste contexto, por que as colunas que vamos explorar e analisar a seguir são as prefixadas com 'g' e 'c'. Estas são respectivamente, (tipo)'gene' e o (tipo)'celula' que foram utilizadas nos experimentos presentes nos nossos dataset.\n",
        "\n",
        "\n",
        "<br />\n",
        "\n",
        "_* As imagens apresentadas neste texto foram tiradas do texto, \"Expressão gênica: o caminho da informação biológica\". (EXPRESSÃO, 2021)._\n",
        "\n",
        "<br />"
      ]
    },
    {
      "cell_type": "markdown",
      "metadata": {
        "id": "XlU7r930c7bE"
      },
      "source": [
        "#### Exploração coluna: prefixadas com 'g' e 'c'\n",
        "\n",
        "Agora vamos começar a analisar as colunas prefixadas com **'g'** (g-n) e com **'c'** (c-n).\n",
        "\n",
        "Como estes dados tem uma quantidade razável de informações, vamos tentar gerar algumas visualizações com estatítiscas básicas de agrupamento e depois vamos explorar o espectro de colunas, focando em algumas do início, meio e fim."
      ]
    },
    {
      "cell_type": "markdown",
      "metadata": {
        "id": "paVBIg1NAz9U"
      },
      "source": [
        "O primeiro passo é dar uma olhanda mais ampla nos valores da colunas mas analisando um espectro de: 'g-0', 'g-1', 'g-3', 'g-384', 'g-385', 'g-386', 'g-769', 'g-770' e 'g-771'"
      ]
    },
    {
      "cell_type": "code",
      "metadata": {
        "id": "9aFQIGBEBw0Z"
      },
      "source": [
        "gn_spectrum = ['g-0', 'g-1', 'g-3', 'g-384', 'g-385', 'g-386', 'g-769', 'g-770', 'g-771']"
      ],
      "execution_count": 166,
      "outputs": []
    },
    {
      "cell_type": "code",
      "metadata": {
        "colab": {
          "base_uri": "https://localhost:8080/",
          "height": 297
        },
        "id": "rhbsKd5UAest",
        "outputId": "176694b8-e4bd-43ed-ba0f-a3fe4b2e5825"
      },
      "source": [
        "series_experiments_describe_g_spectrum = df_experiments[gn_spectrum].describe()\n",
        "series_experiments_describe_g_spectrum"
      ],
      "execution_count": 167,
      "outputs": [
        {
          "output_type": "execute_result",
          "data": {
            "text/html": [
              "<div>\n",
              "<style scoped>\n",
              "    .dataframe tbody tr th:only-of-type {\n",
              "        vertical-align: middle;\n",
              "    }\n",
              "\n",
              "    .dataframe tbody tr th {\n",
              "        vertical-align: top;\n",
              "    }\n",
              "\n",
              "    .dataframe thead th {\n",
              "        text-align: right;\n",
              "    }\n",
              "</style>\n",
              "<table border=\"1\" class=\"dataframe\">\n",
              "  <thead>\n",
              "    <tr style=\"text-align: right;\">\n",
              "      <th></th>\n",
              "      <th>g-0</th>\n",
              "      <th>g-1</th>\n",
              "      <th>g-3</th>\n",
              "      <th>g-384</th>\n",
              "      <th>g-385</th>\n",
              "      <th>g-386</th>\n",
              "      <th>g-769</th>\n",
              "      <th>g-770</th>\n",
              "      <th>g-771</th>\n",
              "    </tr>\n",
              "  </thead>\n",
              "  <tbody>\n",
              "    <tr>\n",
              "      <th>count</th>\n",
              "      <td>23814.000000</td>\n",
              "      <td>23814.000000</td>\n",
              "      <td>23814.000000</td>\n",
              "      <td>23814.000000</td>\n",
              "      <td>23814.000000</td>\n",
              "      <td>23814.000000</td>\n",
              "      <td>23814.000000</td>\n",
              "      <td>23814.000000</td>\n",
              "      <td>23814.000000</td>\n",
              "    </tr>\n",
              "    <tr>\n",
              "      <th>mean</th>\n",
              "      <td>0.248366</td>\n",
              "      <td>-0.095684</td>\n",
              "      <td>0.081971</td>\n",
              "      <td>-0.061957</td>\n",
              "      <td>-0.198694</td>\n",
              "      <td>0.261760</td>\n",
              "      <td>-0.128018</td>\n",
              "      <td>-0.219210</td>\n",
              "      <td>0.101524</td>\n",
              "    </tr>\n",
              "    <tr>\n",
              "      <th>std</th>\n",
              "      <td>1.393399</td>\n",
              "      <td>0.812363</td>\n",
              "      <td>0.950012</td>\n",
              "      <td>0.985407</td>\n",
              "      <td>1.831446</td>\n",
              "      <td>1.665347</td>\n",
              "      <td>1.230636</td>\n",
              "      <td>1.326193</td>\n",
              "      <td>1.417674</td>\n",
              "    </tr>\n",
              "    <tr>\n",
              "      <th>min</th>\n",
              "      <td>-5.513000</td>\n",
              "      <td>-5.737000</td>\n",
              "      <td>-5.998000</td>\n",
              "      <td>-10.000000</td>\n",
              "      <td>-10.000000</td>\n",
              "      <td>-10.000000</td>\n",
              "      <td>-10.000000</td>\n",
              "      <td>-10.000000</td>\n",
              "      <td>-10.000000</td>\n",
              "    </tr>\n",
              "    <tr>\n",
              "      <th>25%</th>\n",
              "      <td>-0.473075</td>\n",
              "      <td>-0.562200</td>\n",
              "      <td>-0.429575</td>\n",
              "      <td>-0.510475</td>\n",
              "      <td>-0.487475</td>\n",
              "      <td>-0.525275</td>\n",
              "      <td>-0.544600</td>\n",
              "      <td>-0.554400</td>\n",
              "      <td>-0.523800</td>\n",
              "    </tr>\n",
              "    <tr>\n",
              "      <th>50%</th>\n",
              "      <td>-0.008850</td>\n",
              "      <td>-0.046600</td>\n",
              "      <td>0.008050</td>\n",
              "      <td>0.002900</td>\n",
              "      <td>0.042700</td>\n",
              "      <td>-0.037900</td>\n",
              "      <td>0.000600</td>\n",
              "      <td>0.028700</td>\n",
              "      <td>-0.006500</td>\n",
              "    </tr>\n",
              "    <tr>\n",
              "      <th>75%</th>\n",
              "      <td>0.525700</td>\n",
              "      <td>0.403075</td>\n",
              "      <td>0.463400</td>\n",
              "      <td>0.484000</td>\n",
              "      <td>0.562375</td>\n",
              "      <td>0.519475</td>\n",
              "      <td>0.498500</td>\n",
              "      <td>0.496400</td>\n",
              "      <td>0.536950</td>\n",
              "    </tr>\n",
              "    <tr>\n",
              "      <th>max</th>\n",
              "      <td>10.000000</td>\n",
              "      <td>5.039000</td>\n",
              "      <td>10.000000</td>\n",
              "      <td>6.292000</td>\n",
              "      <td>10.000000</td>\n",
              "      <td>10.000000</td>\n",
              "      <td>5.911000</td>\n",
              "      <td>10.000000</td>\n",
              "      <td>10.000000</td>\n",
              "    </tr>\n",
              "  </tbody>\n",
              "</table>\n",
              "</div>"
            ],
            "text/plain": [
              "                g-0           g-1  ...         g-770         g-771\n",
              "count  23814.000000  23814.000000  ...  23814.000000  23814.000000\n",
              "mean       0.248366     -0.095684  ...     -0.219210      0.101524\n",
              "std        1.393399      0.812363  ...      1.326193      1.417674\n",
              "min       -5.513000     -5.737000  ...    -10.000000    -10.000000\n",
              "25%       -0.473075     -0.562200  ...     -0.554400     -0.523800\n",
              "50%       -0.008850     -0.046600  ...      0.028700     -0.006500\n",
              "75%        0.525700      0.403075  ...      0.496400      0.536950\n",
              "max       10.000000      5.039000  ...     10.000000     10.000000\n",
              "\n",
              "[8 rows x 9 columns]"
            ]
          },
          "metadata": {
            "tags": []
          },
          "execution_count": 167
        }
      ]
    },
    {
      "cell_type": "code",
      "metadata": {
        "colab": {
          "base_uri": "https://localhost:8080/",
          "height": 417
        },
        "id": "aPtO_ThYCd5x",
        "outputId": "7e8faf1a-f92b-4589-9118-8bb6cf679325"
      },
      "source": [
        "plot_chart_histogram(df_experiments[gn_spectrum[0]], \\\n",
        "                     title='Histogram do gene \"%s\"' % (gn_spectrum[0]), \\\n",
        "                     x_label='Valor', \\\n",
        "                     y_label='Distribuição')"
      ],
      "execution_count": 168,
      "outputs": [
        {
          "output_type": "display_data",
          "data": {
            "image/png": "[encoded data removed]",
            "text/plain": [
              "<Figure size 576x432 with 1 Axes>"
            ]
          },
          "metadata": {
            "tags": []
          }
        }
      ]
    },
    {
      "cell_type": "code",
      "metadata": {
        "colab": {
          "base_uri": "https://localhost:8080/",
          "height": 417
        },
        "id": "QjUnx1UlDu7q",
        "outputId": "b1125c0c-d436-4550-c6f7-c4832024ebf5"
      },
      "source": [
        "plot_chart_histogram(df_experiments[gn_spectrum[1]], \\\n",
        "                     title='Histogram do gene \"%s\"' % (gn_spectrum[1]), \\\n",
        "                     x_label='Valor', \\\n",
        "                     y_label='Distribuição')"
      ],
      "execution_count": 169,
      "outputs": [
        {
          "output_type": "display_data",
          "data": {
            "image/png": "[encoded data removed]",
            "text/plain": [
              "<Figure size 576x432 with 1 Axes>"
            ]
          },
          "metadata": {
            "tags": []
          }
        }
      ]
    },
    {
      "cell_type": "code",
      "metadata": {
        "colab": {
          "base_uri": "https://localhost:8080/",
          "height": 417
        },
        "id": "jfx0UkEuDyq1",
        "outputId": "616fc0fe-6638-4e63-8a78-fcde41e1205b"
      },
      "source": [
        "plot_chart_histogram(df_experiments[gn_spectrum[2]], \\\n",
        "                     title='Histogram do gene \"%s\"' % (gn_spectrum[2]), \\\n",
        "                     x_label='Valor', \\\n",
        "                     y_label='Distribuição')"
      ],
      "execution_count": 170,
      "outputs": [
        {
          "output_type": "display_data",
          "data": {
            "image/png": "[encoded data removed]",
            "text/plain": [
              "<Figure size 576x432 with 1 Axes>"
            ]
          },
          "metadata": {
            "tags": []
          }
        }
      ]
    },
    {
      "cell_type": "code",
      "metadata": {
        "colab": {
          "base_uri": "https://localhost:8080/",
          "height": 417
        },
        "id": "ajQvUY1iD0ed",
        "outputId": "972651af-2ae2-43c3-cada-363e4a9bfa9f"
      },
      "source": [
        "plot_chart_histogram(df_experiments[gn_spectrum[3]], \\\n",
        "                     title='Histogram do gene \"%s\"' % (gn_spectrum[3]), \\\n",
        "                     x_label='Valor', \\\n",
        "                     y_label='Distribuição')"
      ],
      "execution_count": 171,
      "outputs": [
        {
          "output_type": "display_data",
          "data": {
            "image/png": "[encoded data removed]",
            "text/plain": [
              "<Figure size 576x432 with 1 Axes>"
            ]
          },
          "metadata": {
            "tags": []
          }
        }
      ]
    },
    {
      "cell_type": "code",
      "metadata": {
        "colab": {
          "base_uri": "https://localhost:8080/",
          "height": 417
        },
        "id": "ylh9PtqjD3Dm",
        "outputId": "753b00ce-c70e-4a58-93f3-3f0b74cc1d9e"
      },
      "source": [
        "plot_chart_histogram(df_experiments[gn_spectrum[4]], \\\n",
        "                     title='Histogram do gene \"%s\"' % (gn_spectrum[4]), \\\n",
        "                     x_label='Valor', \\\n",
        "                     y_label='Distribuição')"
      ],
      "execution_count": 172,
      "outputs": [
        {
          "output_type": "display_data",
          "data": {
            "image/png": "[encoded data removed]",
            "text/plain": [
              "<Figure size 576x432 with 1 Axes>"
            ]
          },
          "metadata": {
            "tags": []
          }
        }
      ]
    },
    {
      "cell_type": "code",
      "metadata": {
        "colab": {
          "base_uri": "https://localhost:8080/",
          "height": 417
        },
        "id": "AGsRqjSzD57d",
        "outputId": "00388d9e-6864-4cd7-8684-f190f5ea0b64"
      },
      "source": [
        "plot_chart_histogram(df_experiments[gn_spectrum[5]], \\\n",
        "                     title='Histogram do gene \"%s\"' % (gn_spectrum[5]), \\\n",
        "                     x_label='Valor', \\\n",
        "                     y_label='Distribuição')"
      ],
      "execution_count": 173,
      "outputs": [
        {
          "output_type": "display_data",
          "data": {
            "image/png": "[encoded data removed]",
            "text/plain": [
              "<Figure size 576x432 with 1 Axes>"
            ]
          },
          "metadata": {
            "tags": []
          }
        }
      ]
    },
    {
      "cell_type": "code",
      "metadata": {
        "colab": {
          "base_uri": "https://localhost:8080/",
          "height": 417
        },
        "id": "jNpDvkyCD9GH",
        "outputId": "4ab06c37-6c53-41eb-bdb5-499acb10fc53"
      },
      "source": [
        "plot_chart_histogram(df_experiments[gn_spectrum[6]], \\\n",
        "                     title='Histogram do gene \"%s\"' % (gn_spectrum[6]), \\\n",
        "                     x_label='Valor', \\\n",
        "                     y_label='Distribuição')"
      ],
      "execution_count": 174,
      "outputs": [
        {
          "output_type": "display_data",
          "data": {
            "image/png": "[encoded data removed]",
            "text/plain": [
              "<Figure size 576x432 with 1 Axes>"
            ]
          },
          "metadata": {
            "tags": []
          }
        }
      ]
    },
    {
      "cell_type": "code",
      "metadata": {
        "colab": {
          "base_uri": "https://localhost:8080/",
          "height": 417
        },
        "id": "f8USbksUD_bw",
        "outputId": "7ac3d66f-6bd2-4243-c899-2ab1af2c3d0d"
      },
      "source": [
        "plot_chart_histogram(df_experiments[gn_spectrum[7]], \\\n",
        "                     title='Histogram do gene \"%s\"' % (gn_spectrum[7]), \\\n",
        "                     x_label='Valor', \\\n",
        "                     y_label='Distribuição')"
      ],
      "execution_count": 175,
      "outputs": [
        {
          "output_type": "display_data",
          "data": {
            "image/png": "[encoded data removed]",
            "text/plain": [
              "<Figure size 576x432 with 1 Axes>"
            ]
          },
          "metadata": {
            "tags": []
          }
        }
      ]
    },
    {
      "cell_type": "code",
      "metadata": {
        "colab": {
          "base_uri": "https://localhost:8080/",
          "height": 417
        },
        "id": "--AKXbgJEBss",
        "outputId": "bdfd9e47-d108-40b7-fa60-c7543b86603a"
      },
      "source": [
        "plot_chart_histogram(df_experiments[gn_spectrum[8]], \\\n",
        "                     title='Histogram do gene \"%s\"' % (gn_spectrum[8]), \\\n",
        "                     x_label='Valor', \\\n",
        "                     y_label='Distribuição')"
      ],
      "execution_count": 176,
      "outputs": [
        {
          "output_type": "display_data",
          "data": {
            "image/png": "[encoded data removed]",
            "text/plain": [
              "<Figure size 576x432 with 1 Axes>"
            ]
          },
          "metadata": {
            "tags": []
          }
        }
      ]
    },
    {
      "cell_type": "markdown",
      "metadata": {
        "id": "XrDCjteUA6Jw"
      },
      "source": [
        "Agora vamos analisar o espector completo dos genes, mas sob uma visão \"agrupada\", usando estatísticas básicas como: média, máximo, mínio e o desvio padrão."
      ]
    },
    {
      "cell_type": "code",
      "metadata": {
        "id": "GEz5DodHgvoi",
        "colab": {
          "base_uri": "https://localhost:8080/",
          "height": 346
        },
        "outputId": "eb708ebf-7381-4159-dcde-11776edeb491"
      },
      "source": [
        "series_experiments_describe_g = df_experiments.loc[:, 'g-0':'g-771'].describe()\n",
        "series_experiments_describe_g"
      ],
      "execution_count": 177,
      "outputs": [
        {
          "output_type": "execute_result",
          "data": {
            "text/html": [
              "<div>\n",
              "<style scoped>\n",
              "    .dataframe tbody tr th:only-of-type {\n",
              "        vertical-align: middle;\n",
              "    }\n",
              "\n",
              "    .dataframe tbody tr th {\n",
              "        vertical-align: top;\n",
              "    }\n",
              "\n",
              "    .dataframe thead th {\n",
              "        text-align: right;\n",
              "    }\n",
              "</style>\n",
              "<table border=\"1\" class=\"dataframe\">\n",
              "  <thead>\n",
              "    <tr style=\"text-align: right;\">\n",
              "      <th></th>\n",
              "      <th>g-0</th>\n",
              "      <th>g-1</th>\n",
              "      <th>g-2</th>\n",
              "      <th>g-3</th>\n",
              "      <th>g-4</th>\n",
              "      <th>g-5</th>\n",
              "      <th>g-6</th>\n",
              "      <th>g-7</th>\n",
              "      <th>g-8</th>\n",
              "      <th>g-9</th>\n",
              "      <th>g-10</th>\n",
              "      <th>g-11</th>\n",
              "      <th>g-12</th>\n",
              "      <th>g-13</th>\n",
              "      <th>g-14</th>\n",
              "      <th>g-15</th>\n",
              "      <th>g-16</th>\n",
              "      <th>g-17</th>\n",
              "      <th>g-18</th>\n",
              "      <th>g-19</th>\n",
              "      <th>g-20</th>\n",
              "      <th>g-21</th>\n",
              "      <th>g-22</th>\n",
              "      <th>g-23</th>\n",
              "      <th>g-24</th>\n",
              "      <th>g-25</th>\n",
              "      <th>g-26</th>\n",
              "      <th>g-27</th>\n",
              "      <th>g-28</th>\n",
              "      <th>g-29</th>\n",
              "      <th>g-30</th>\n",
              "      <th>g-31</th>\n",
              "      <th>g-32</th>\n",
              "      <th>g-33</th>\n",
              "      <th>g-34</th>\n",
              "      <th>g-35</th>\n",
              "      <th>g-36</th>\n",
              "      <th>g-37</th>\n",
              "      <th>g-38</th>\n",
              "      <th>g-39</th>\n",
              "      <th>...</th>\n",
              "      <th>g-732</th>\n",
              "      <th>g-733</th>\n",
              "      <th>g-734</th>\n",
              "      <th>g-735</th>\n",
              "      <th>g-736</th>\n",
              "      <th>g-737</th>\n",
              "      <th>g-738</th>\n",
              "      <th>g-739</th>\n",
              "      <th>g-740</th>\n",
              "      <th>g-741</th>\n",
              "      <th>g-742</th>\n",
              "      <th>g-743</th>\n",
              "      <th>g-744</th>\n",
              "      <th>g-745</th>\n",
              "      <th>g-746</th>\n",
              "      <th>g-747</th>\n",
              "      <th>g-748</th>\n",
              "      <th>g-749</th>\n",
              "      <th>g-750</th>\n",
              "      <th>g-751</th>\n",
              "      <th>g-752</th>\n",
              "      <th>g-753</th>\n",
              "      <th>g-754</th>\n",
              "      <th>g-755</th>\n",
              "      <th>g-756</th>\n",
              "      <th>g-757</th>\n",
              "      <th>g-758</th>\n",
              "      <th>g-759</th>\n",
              "      <th>g-760</th>\n",
              "      <th>g-761</th>\n",
              "      <th>g-762</th>\n",
              "      <th>g-763</th>\n",
              "      <th>g-764</th>\n",
              "      <th>g-765</th>\n",
              "      <th>g-766</th>\n",
              "      <th>g-767</th>\n",
              "      <th>g-768</th>\n",
              "      <th>g-769</th>\n",
              "      <th>g-770</th>\n",
              "      <th>g-771</th>\n",
              "    </tr>\n",
              "  </thead>\n",
              "  <tbody>\n",
              "    <tr>\n",
              "      <th>count</th>\n",
              "      <td>23814.000000</td>\n",
              "      <td>23814.000000</td>\n",
              "      <td>23814.000000</td>\n",
              "      <td>23814.000000</td>\n",
              "      <td>23814.000000</td>\n",
              "      <td>23814.000000</td>\n",
              "      <td>23814.000000</td>\n",
              "      <td>23814.000000</td>\n",
              "      <td>23814.000000</td>\n",
              "      <td>23814.000000</td>\n",
              "      <td>23814.000000</td>\n",
              "      <td>23814.000000</td>\n",
              "      <td>23814.000000</td>\n",
              "      <td>23814.000000</td>\n",
              "      <td>23814.000000</td>\n",
              "      <td>23814.000000</td>\n",
              "      <td>23814.000000</td>\n",
              "      <td>23814.000000</td>\n",
              "      <td>23814.000000</td>\n",
              "      <td>23814.000000</td>\n",
              "      <td>23814.000000</td>\n",
              "      <td>23814.000000</td>\n",
              "      <td>23814.000000</td>\n",
              "      <td>23814.000000</td>\n",
              "      <td>23814.000000</td>\n",
              "      <td>23814.000000</td>\n",
              "      <td>23814.000000</td>\n",
              "      <td>23814.000000</td>\n",
              "      <td>23814.000000</td>\n",
              "      <td>23814.000000</td>\n",
              "      <td>23814.000000</td>\n",
              "      <td>23814.000000</td>\n",
              "      <td>23814.000000</td>\n",
              "      <td>23814.000000</td>\n",
              "      <td>23814.000000</td>\n",
              "      <td>23814.000000</td>\n",
              "      <td>23814.000000</td>\n",
              "      <td>23814.000000</td>\n",
              "      <td>23814.000000</td>\n",
              "      <td>23814.000000</td>\n",
              "      <td>...</td>\n",
              "      <td>23814.000000</td>\n",
              "      <td>23814.000000</td>\n",
              "      <td>23814.000000</td>\n",
              "      <td>23814.000000</td>\n",
              "      <td>23814.000000</td>\n",
              "      <td>23814.000000</td>\n",
              "      <td>23814.000000</td>\n",
              "      <td>23814.000000</td>\n",
              "      <td>23814.000000</td>\n",
              "      <td>23814.000000</td>\n",
              "      <td>23814.000000</td>\n",
              "      <td>23814.000000</td>\n",
              "      <td>23814.000000</td>\n",
              "      <td>23814.000000</td>\n",
              "      <td>23814.000000</td>\n",
              "      <td>23814.000000</td>\n",
              "      <td>23814.000000</td>\n",
              "      <td>23814.000000</td>\n",
              "      <td>23814.000000</td>\n",
              "      <td>23814.000000</td>\n",
              "      <td>23814.000000</td>\n",
              "      <td>23814.000000</td>\n",
              "      <td>23814.000000</td>\n",
              "      <td>23814.000000</td>\n",
              "      <td>23814.000000</td>\n",
              "      <td>23814.000000</td>\n",
              "      <td>23814.000000</td>\n",
              "      <td>23814.000000</td>\n",
              "      <td>23814.000000</td>\n",
              "      <td>23814.000000</td>\n",
              "      <td>23814.000000</td>\n",
              "      <td>23814.000000</td>\n",
              "      <td>23814.000000</td>\n",
              "      <td>23814.000000</td>\n",
              "      <td>23814.000000</td>\n",
              "      <td>23814.000000</td>\n",
              "      <td>23814.000000</td>\n",
              "      <td>23814.000000</td>\n",
              "      <td>23814.000000</td>\n",
              "      <td>23814.000000</td>\n",
              "    </tr>\n",
              "    <tr>\n",
              "      <th>mean</th>\n",
              "      <td>0.248366</td>\n",
              "      <td>-0.095684</td>\n",
              "      <td>0.152253</td>\n",
              "      <td>0.081971</td>\n",
              "      <td>0.057347</td>\n",
              "      <td>-0.138836</td>\n",
              "      <td>0.035961</td>\n",
              "      <td>-0.202651</td>\n",
              "      <td>-0.190083</td>\n",
              "      <td>0.119905</td>\n",
              "      <td>-0.123321</td>\n",
              "      <td>0.182307</td>\n",
              "      <td>0.143203</td>\n",
              "      <td>0.209402</td>\n",
              "      <td>-0.173884</td>\n",
              "      <td>-0.024432</td>\n",
              "      <td>0.126823</td>\n",
              "      <td>-0.146663</td>\n",
              "      <td>0.087687</td>\n",
              "      <td>-0.082982</td>\n",
              "      <td>-0.111908</td>\n",
              "      <td>-0.087379</td>\n",
              "      <td>0.047548</td>\n",
              "      <td>-0.117474</td>\n",
              "      <td>-0.113212</td>\n",
              "      <td>-0.052746</td>\n",
              "      <td>-0.091055</td>\n",
              "      <td>0.112176</td>\n",
              "      <td>-0.046458</td>\n",
              "      <td>-0.076239</td>\n",
              "      <td>-0.197699</td>\n",
              "      <td>0.382177</td>\n",
              "      <td>-0.189432</td>\n",
              "      <td>0.078791</td>\n",
              "      <td>-0.093312</td>\n",
              "      <td>0.135729</td>\n",
              "      <td>-0.188616</td>\n",
              "      <td>-0.606710</td>\n",
              "      <td>0.534425</td>\n",
              "      <td>0.132026</td>\n",
              "      <td>...</td>\n",
              "      <td>0.263569</td>\n",
              "      <td>-0.242638</td>\n",
              "      <td>0.110180</td>\n",
              "      <td>-0.039868</td>\n",
              "      <td>-0.064056</td>\n",
              "      <td>0.193629</td>\n",
              "      <td>0.004470</td>\n",
              "      <td>-0.187085</td>\n",
              "      <td>0.067186</td>\n",
              "      <td>0.006159</td>\n",
              "      <td>-0.201189</td>\n",
              "      <td>-0.243317</td>\n",
              "      <td>0.548903</td>\n",
              "      <td>0.247065</td>\n",
              "      <td>0.085950</td>\n",
              "      <td>0.090544</td>\n",
              "      <td>0.215525</td>\n",
              "      <td>-0.007705</td>\n",
              "      <td>0.236954</td>\n",
              "      <td>0.022785</td>\n",
              "      <td>0.103224</td>\n",
              "      <td>0.048402</td>\n",
              "      <td>0.109367</td>\n",
              "      <td>-0.103262</td>\n",
              "      <td>0.004129</td>\n",
              "      <td>0.066211</td>\n",
              "      <td>0.072773</td>\n",
              "      <td>-0.033051</td>\n",
              "      <td>-0.400643</td>\n",
              "      <td>-0.338978</td>\n",
              "      <td>0.207299</td>\n",
              "      <td>0.009161</td>\n",
              "      <td>0.171027</td>\n",
              "      <td>0.002316</td>\n",
              "      <td>-0.209799</td>\n",
              "      <td>-0.076251</td>\n",
              "      <td>0.134162</td>\n",
              "      <td>-0.128018</td>\n",
              "      <td>-0.219210</td>\n",
              "      <td>0.101524</td>\n",
              "    </tr>\n",
              "    <tr>\n",
              "      <th>std</th>\n",
              "      <td>1.393399</td>\n",
              "      <td>0.812363</td>\n",
              "      <td>1.035731</td>\n",
              "      <td>0.950012</td>\n",
              "      <td>1.032091</td>\n",
              "      <td>1.179388</td>\n",
              "      <td>0.882395</td>\n",
              "      <td>1.125494</td>\n",
              "      <td>1.749885</td>\n",
              "      <td>1.087180</td>\n",
              "      <td>1.291501</td>\n",
              "      <td>1.253604</td>\n",
              "      <td>1.234590</td>\n",
              "      <td>1.273068</td>\n",
              "      <td>1.247178</td>\n",
              "      <td>0.659839</td>\n",
              "      <td>1.418997</td>\n",
              "      <td>1.179688</td>\n",
              "      <td>0.743301</td>\n",
              "      <td>0.844796</td>\n",
              "      <td>1.219529</td>\n",
              "      <td>0.824401</td>\n",
              "      <td>0.924838</td>\n",
              "      <td>0.760159</td>\n",
              "      <td>1.203186</td>\n",
              "      <td>0.866977</td>\n",
              "      <td>1.103765</td>\n",
              "      <td>1.001687</td>\n",
              "      <td>1.027758</td>\n",
              "      <td>1.279399</td>\n",
              "      <td>1.302567</td>\n",
              "      <td>1.559174</td>\n",
              "      <td>0.933514</td>\n",
              "      <td>1.172270</td>\n",
              "      <td>1.174325</td>\n",
              "      <td>1.061719</td>\n",
              "      <td>1.397677</td>\n",
              "      <td>2.200277</td>\n",
              "      <td>2.003317</td>\n",
              "      <td>0.990477</td>\n",
              "      <td>...</td>\n",
              "      <td>1.075809</td>\n",
              "      <td>1.309482</td>\n",
              "      <td>0.881283</td>\n",
              "      <td>0.917119</td>\n",
              "      <td>1.186966</td>\n",
              "      <td>1.212621</td>\n",
              "      <td>1.175611</td>\n",
              "      <td>1.182180</td>\n",
              "      <td>1.057292</td>\n",
              "      <td>0.996940</td>\n",
              "      <td>1.029370</td>\n",
              "      <td>1.378815</td>\n",
              "      <td>2.023791</td>\n",
              "      <td>1.639307</td>\n",
              "      <td>1.238753</td>\n",
              "      <td>0.961212</td>\n",
              "      <td>1.293783</td>\n",
              "      <td>0.966213</td>\n",
              "      <td>1.284074</td>\n",
              "      <td>1.015557</td>\n",
              "      <td>1.035968</td>\n",
              "      <td>1.048645</td>\n",
              "      <td>0.856080</td>\n",
              "      <td>1.175372</td>\n",
              "      <td>0.701031</td>\n",
              "      <td>0.996914</td>\n",
              "      <td>1.077310</td>\n",
              "      <td>1.579948</td>\n",
              "      <td>1.913468</td>\n",
              "      <td>1.701554</td>\n",
              "      <td>1.096488</td>\n",
              "      <td>1.200395</td>\n",
              "      <td>1.357701</td>\n",
              "      <td>1.052771</td>\n",
              "      <td>1.201918</td>\n",
              "      <td>1.115477</td>\n",
              "      <td>0.951264</td>\n",
              "      <td>1.230636</td>\n",
              "      <td>1.326193</td>\n",
              "      <td>1.417674</td>\n",
              "    </tr>\n",
              "    <tr>\n",
              "      <th>min</th>\n",
              "      <td>-5.513000</td>\n",
              "      <td>-5.737000</td>\n",
              "      <td>-9.104000</td>\n",
              "      <td>-5.998000</td>\n",
              "      <td>-6.369000</td>\n",
              "      <td>-10.000000</td>\n",
              "      <td>-10.000000</td>\n",
              "      <td>-10.000000</td>\n",
              "      <td>-10.000000</td>\n",
              "      <td>-8.337000</td>\n",
              "      <td>-10.000000</td>\n",
              "      <td>-5.870000</td>\n",
              "      <td>-8.587000</td>\n",
              "      <td>-5.018000</td>\n",
              "      <td>-10.000000</td>\n",
              "      <td>-10.000000</td>\n",
              "      <td>-10.000000</td>\n",
              "      <td>-10.000000</td>\n",
              "      <td>-4.226000</td>\n",
              "      <td>-10.000000</td>\n",
              "      <td>-10.000000</td>\n",
              "      <td>-5.700000</td>\n",
              "      <td>-10.000000</td>\n",
              "      <td>-10.000000</td>\n",
              "      <td>-10.000000</td>\n",
              "      <td>-8.272000</td>\n",
              "      <td>-8.184000</td>\n",
              "      <td>-4.835000</td>\n",
              "      <td>-7.913000</td>\n",
              "      <td>-10.000000</td>\n",
              "      <td>-10.000000</td>\n",
              "      <td>-2.956000</td>\n",
              "      <td>-8.356000</td>\n",
              "      <td>-7.182000</td>\n",
              "      <td>-10.000000</td>\n",
              "      <td>-9.261000</td>\n",
              "      <td>-10.000000</td>\n",
              "      <td>-10.000000</td>\n",
              "      <td>-10.000000</td>\n",
              "      <td>-4.223000</td>\n",
              "      <td>...</td>\n",
              "      <td>-5.504000</td>\n",
              "      <td>-10.000000</td>\n",
              "      <td>-3.790000</td>\n",
              "      <td>-10.000000</td>\n",
              "      <td>-10.000000</td>\n",
              "      <td>-10.000000</td>\n",
              "      <td>-7.920000</td>\n",
              "      <td>-10.000000</td>\n",
              "      <td>-9.462000</td>\n",
              "      <td>-6.634000</td>\n",
              "      <td>-10.000000</td>\n",
              "      <td>-10.000000</td>\n",
              "      <td>-2.912000</td>\n",
              "      <td>-9.833000</td>\n",
              "      <td>-7.227000</td>\n",
              "      <td>-5.561000</td>\n",
              "      <td>-8.393000</td>\n",
              "      <td>-5.790000</td>\n",
              "      <td>-4.915000</td>\n",
              "      <td>-10.000000</td>\n",
              "      <td>-10.000000</td>\n",
              "      <td>-7.918000</td>\n",
              "      <td>-5.255000</td>\n",
              "      <td>-10.000000</td>\n",
              "      <td>-6.264000</td>\n",
              "      <td>-10.000000</td>\n",
              "      <td>-5.505000</td>\n",
              "      <td>-10.000000</td>\n",
              "      <td>-10.000000</td>\n",
              "      <td>-10.000000</td>\n",
              "      <td>-8.193000</td>\n",
              "      <td>-10.000000</td>\n",
              "      <td>-9.795000</td>\n",
              "      <td>-8.180000</td>\n",
              "      <td>-10.000000</td>\n",
              "      <td>-10.000000</td>\n",
              "      <td>-4.269000</td>\n",
              "      <td>-10.000000</td>\n",
              "      <td>-10.000000</td>\n",
              "      <td>-10.000000</td>\n",
              "    </tr>\n",
              "    <tr>\n",
              "      <th>25%</th>\n",
              "      <td>-0.473075</td>\n",
              "      <td>-0.562200</td>\n",
              "      <td>-0.437750</td>\n",
              "      <td>-0.429575</td>\n",
              "      <td>-0.470925</td>\n",
              "      <td>-0.602225</td>\n",
              "      <td>-0.493900</td>\n",
              "      <td>-0.525175</td>\n",
              "      <td>-0.511675</td>\n",
              "      <td>-0.360200</td>\n",
              "      <td>-0.511475</td>\n",
              "      <td>-0.489675</td>\n",
              "      <td>-0.447500</td>\n",
              "      <td>-0.481200</td>\n",
              "      <td>-0.607975</td>\n",
              "      <td>-0.404150</td>\n",
              "      <td>-0.391950</td>\n",
              "      <td>-0.513775</td>\n",
              "      <td>-0.272200</td>\n",
              "      <td>-0.488675</td>\n",
              "      <td>-0.524600</td>\n",
              "      <td>-0.538900</td>\n",
              "      <td>-0.440375</td>\n",
              "      <td>-0.508900</td>\n",
              "      <td>-0.533900</td>\n",
              "      <td>-0.497700</td>\n",
              "      <td>-0.512875</td>\n",
              "      <td>-0.467800</td>\n",
              "      <td>-0.378300</td>\n",
              "      <td>-0.505750</td>\n",
              "      <td>-0.457975</td>\n",
              "      <td>-0.328200</td>\n",
              "      <td>-0.600500</td>\n",
              "      <td>-0.478700</td>\n",
              "      <td>-0.570525</td>\n",
              "      <td>-0.481800</td>\n",
              "      <td>-0.541950</td>\n",
              "      <td>-0.604100</td>\n",
              "      <td>-0.470250</td>\n",
              "      <td>-0.401700</td>\n",
              "      <td>...</td>\n",
              "      <td>-0.390700</td>\n",
              "      <td>-0.565075</td>\n",
              "      <td>-0.433275</td>\n",
              "      <td>-0.498650</td>\n",
              "      <td>-0.526300</td>\n",
              "      <td>-0.430750</td>\n",
              "      <td>-0.488775</td>\n",
              "      <td>-0.593125</td>\n",
              "      <td>-0.498275</td>\n",
              "      <td>-0.489800</td>\n",
              "      <td>-0.564100</td>\n",
              "      <td>-0.538000</td>\n",
              "      <td>-0.464000</td>\n",
              "      <td>-0.521975</td>\n",
              "      <td>-0.488600</td>\n",
              "      <td>-0.442925</td>\n",
              "      <td>-0.457200</td>\n",
              "      <td>-0.477900</td>\n",
              "      <td>-0.458175</td>\n",
              "      <td>-0.479075</td>\n",
              "      <td>-0.478825</td>\n",
              "      <td>-0.489300</td>\n",
              "      <td>-0.327500</td>\n",
              "      <td>-0.576775</td>\n",
              "      <td>-0.278275</td>\n",
              "      <td>-0.492700</td>\n",
              "      <td>-0.501575</td>\n",
              "      <td>-0.526450</td>\n",
              "      <td>-0.507375</td>\n",
              "      <td>-0.559175</td>\n",
              "      <td>-0.433875</td>\n",
              "      <td>-0.502250</td>\n",
              "      <td>-0.537075</td>\n",
              "      <td>-0.508775</td>\n",
              "      <td>-0.606175</td>\n",
              "      <td>-0.506200</td>\n",
              "      <td>-0.353100</td>\n",
              "      <td>-0.544600</td>\n",
              "      <td>-0.554400</td>\n",
              "      <td>-0.523800</td>\n",
              "    </tr>\n",
              "    <tr>\n",
              "      <th>50%</th>\n",
              "      <td>-0.008850</td>\n",
              "      <td>-0.046600</td>\n",
              "      <td>0.075200</td>\n",
              "      <td>0.008050</td>\n",
              "      <td>-0.026900</td>\n",
              "      <td>-0.015650</td>\n",
              "      <td>-0.000650</td>\n",
              "      <td>-0.017900</td>\n",
              "      <td>0.010000</td>\n",
              "      <td>0.160450</td>\n",
              "      <td>0.038550</td>\n",
              "      <td>0.013800</td>\n",
              "      <td>0.060250</td>\n",
              "      <td>0.009800</td>\n",
              "      <td>-0.030100</td>\n",
              "      <td>0.000000</td>\n",
              "      <td>0.149400</td>\n",
              "      <td>-0.002200</td>\n",
              "      <td>0.000000</td>\n",
              "      <td>-0.027800</td>\n",
              "      <td>-0.002800</td>\n",
              "      <td>-0.069350</td>\n",
              "      <td>-0.011800</td>\n",
              "      <td>0.000000</td>\n",
              "      <td>0.018300</td>\n",
              "      <td>-0.011650</td>\n",
              "      <td>0.016100</td>\n",
              "      <td>0.037600</td>\n",
              "      <td>0.003750</td>\n",
              "      <td>0.021750</td>\n",
              "      <td>0.027000</td>\n",
              "      <td>0.019100</td>\n",
              "      <td>-0.054000</td>\n",
              "      <td>0.023350</td>\n",
              "      <td>0.003350</td>\n",
              "      <td>-0.000600</td>\n",
              "      <td>0.015350</td>\n",
              "      <td>-0.000700</td>\n",
              "      <td>0.005800</td>\n",
              "      <td>0.007400</td>\n",
              "      <td>...</td>\n",
              "      <td>0.065650</td>\n",
              "      <td>-0.014100</td>\n",
              "      <td>0.030850</td>\n",
              "      <td>-0.001800</td>\n",
              "      <td>-0.008400</td>\n",
              "      <td>0.101400</td>\n",
              "      <td>0.033400</td>\n",
              "      <td>-0.001600</td>\n",
              "      <td>0.000850</td>\n",
              "      <td>0.014800</td>\n",
              "      <td>-0.044000</td>\n",
              "      <td>0.017400</td>\n",
              "      <td>0.000850</td>\n",
              "      <td>-0.015550</td>\n",
              "      <td>0.025350</td>\n",
              "      <td>0.017750</td>\n",
              "      <td>0.053450</td>\n",
              "      <td>0.027700</td>\n",
              "      <td>-0.002100</td>\n",
              "      <td>0.009500</td>\n",
              "      <td>-0.004450</td>\n",
              "      <td>-0.000050</td>\n",
              "      <td>0.002400</td>\n",
              "      <td>0.024250</td>\n",
              "      <td>0.000000</td>\n",
              "      <td>0.005300</td>\n",
              "      <td>0.013600</td>\n",
              "      <td>0.001350</td>\n",
              "      <td>0.007350</td>\n",
              "      <td>0.038700</td>\n",
              "      <td>0.059600</td>\n",
              "      <td>-0.005900</td>\n",
              "      <td>-0.013600</td>\n",
              "      <td>-0.027700</td>\n",
              "      <td>-0.011850</td>\n",
              "      <td>0.009900</td>\n",
              "      <td>0.005400</td>\n",
              "      <td>0.000600</td>\n",
              "      <td>0.028700</td>\n",
              "      <td>-0.006500</td>\n",
              "    </tr>\n",
              "    <tr>\n",
              "      <th>75%</th>\n",
              "      <td>0.525700</td>\n",
              "      <td>0.403075</td>\n",
              "      <td>0.663925</td>\n",
              "      <td>0.463400</td>\n",
              "      <td>0.465375</td>\n",
              "      <td>0.510425</td>\n",
              "      <td>0.528725</td>\n",
              "      <td>0.411900</td>\n",
              "      <td>0.549225</td>\n",
              "      <td>0.697775</td>\n",
              "      <td>0.525400</td>\n",
              "      <td>0.575275</td>\n",
              "      <td>0.604450</td>\n",
              "      <td>0.575825</td>\n",
              "      <td>0.457975</td>\n",
              "      <td>0.382475</td>\n",
              "      <td>0.829500</td>\n",
              "      <td>0.494775</td>\n",
              "      <td>0.327800</td>\n",
              "      <td>0.400600</td>\n",
              "      <td>0.492400</td>\n",
              "      <td>0.414875</td>\n",
              "      <td>0.433400</td>\n",
              "      <td>0.329250</td>\n",
              "      <td>0.527700</td>\n",
              "      <td>0.461650</td>\n",
              "      <td>0.508425</td>\n",
              "      <td>0.586450</td>\n",
              "      <td>0.431275</td>\n",
              "      <td>0.507600</td>\n",
              "      <td>0.458075</td>\n",
              "      <td>0.471075</td>\n",
              "      <td>0.391950</td>\n",
              "      <td>0.551300</td>\n",
              "      <td>0.503725</td>\n",
              "      <td>0.564875</td>\n",
              "      <td>0.517025</td>\n",
              "      <td>0.460500</td>\n",
              "      <td>0.642300</td>\n",
              "      <td>0.439400</td>\n",
              "      <td>...</td>\n",
              "      <td>0.646900</td>\n",
              "      <td>0.467900</td>\n",
              "      <td>0.543400</td>\n",
              "      <td>0.477200</td>\n",
              "      <td>0.497400</td>\n",
              "      <td>0.846400</td>\n",
              "      <td>0.573875</td>\n",
              "      <td>0.501675</td>\n",
              "      <td>0.519825</td>\n",
              "      <td>0.515000</td>\n",
              "      <td>0.412375</td>\n",
              "      <td>0.479400</td>\n",
              "      <td>0.646325</td>\n",
              "      <td>0.565200</td>\n",
              "      <td>0.610075</td>\n",
              "      <td>0.506975</td>\n",
              "      <td>0.671725</td>\n",
              "      <td>0.514175</td>\n",
              "      <td>0.524175</td>\n",
              "      <td>0.501325</td>\n",
              "      <td>0.516975</td>\n",
              "      <td>0.517475</td>\n",
              "      <td>0.375275</td>\n",
              "      <td>0.572250</td>\n",
              "      <td>0.251600</td>\n",
              "      <td>0.540950</td>\n",
              "      <td>0.530900</td>\n",
              "      <td>0.527900</td>\n",
              "      <td>0.475275</td>\n",
              "      <td>0.522075</td>\n",
              "      <td>0.648500</td>\n",
              "      <td>0.492150</td>\n",
              "      <td>0.522500</td>\n",
              "      <td>0.457000</td>\n",
              "      <td>0.483000</td>\n",
              "      <td>0.511175</td>\n",
              "      <td>0.409075</td>\n",
              "      <td>0.498500</td>\n",
              "      <td>0.496400</td>\n",
              "      <td>0.536950</td>\n",
              "    </tr>\n",
              "    <tr>\n",
              "      <th>max</th>\n",
              "      <td>10.000000</td>\n",
              "      <td>5.039000</td>\n",
              "      <td>8.257000</td>\n",
              "      <td>10.000000</td>\n",
              "      <td>10.000000</td>\n",
              "      <td>7.282000</td>\n",
              "      <td>7.333000</td>\n",
              "      <td>5.473000</td>\n",
              "      <td>8.887000</td>\n",
              "      <td>6.433000</td>\n",
              "      <td>10.000000</td>\n",
              "      <td>10.000000</td>\n",
              "      <td>10.000000</td>\n",
              "      <td>10.000000</td>\n",
              "      <td>10.000000</td>\n",
              "      <td>4.134000</td>\n",
              "      <td>6.418000</td>\n",
              "      <td>4.750000</td>\n",
              "      <td>8.872000</td>\n",
              "      <td>4.081000</td>\n",
              "      <td>9.842000</td>\n",
              "      <td>5.248000</td>\n",
              "      <td>5.942000</td>\n",
              "      <td>5.201000</td>\n",
              "      <td>10.000000</td>\n",
              "      <td>8.494000</td>\n",
              "      <td>10.000000</td>\n",
              "      <td>10.000000</td>\n",
              "      <td>10.000000</td>\n",
              "      <td>9.416000</td>\n",
              "      <td>10.000000</td>\n",
              "      <td>10.000000</td>\n",
              "      <td>6.796000</td>\n",
              "      <td>10.000000</td>\n",
              "      <td>10.000000</td>\n",
              "      <td>10.000000</td>\n",
              "      <td>5.834000</td>\n",
              "      <td>5.602000</td>\n",
              "      <td>10.000000</td>\n",
              "      <td>10.000000</td>\n",
              "      <td>...</td>\n",
              "      <td>10.000000</td>\n",
              "      <td>5.444000</td>\n",
              "      <td>10.000000</td>\n",
              "      <td>4.889000</td>\n",
              "      <td>10.000000</td>\n",
              "      <td>7.635000</td>\n",
              "      <td>10.000000</td>\n",
              "      <td>6.664000</td>\n",
              "      <td>9.566000</td>\n",
              "      <td>10.000000</td>\n",
              "      <td>3.497000</td>\n",
              "      <td>6.911000</td>\n",
              "      <td>10.000000</td>\n",
              "      <td>10.000000</td>\n",
              "      <td>10.000000</td>\n",
              "      <td>10.000000</td>\n",
              "      <td>10.000000</td>\n",
              "      <td>10.000000</td>\n",
              "      <td>10.000000</td>\n",
              "      <td>10.000000</td>\n",
              "      <td>10.000000</td>\n",
              "      <td>10.000000</td>\n",
              "      <td>10.000000</td>\n",
              "      <td>5.323000</td>\n",
              "      <td>10.000000</td>\n",
              "      <td>6.533000</td>\n",
              "      <td>10.000000</td>\n",
              "      <td>10.000000</td>\n",
              "      <td>4.008000</td>\n",
              "      <td>5.900000</td>\n",
              "      <td>10.000000</td>\n",
              "      <td>9.552000</td>\n",
              "      <td>10.000000</td>\n",
              "      <td>8.346000</td>\n",
              "      <td>5.444000</td>\n",
              "      <td>6.317000</td>\n",
              "      <td>10.000000</td>\n",
              "      <td>5.911000</td>\n",
              "      <td>10.000000</td>\n",
              "      <td>10.000000</td>\n",
              "    </tr>\n",
              "  </tbody>\n",
              "</table>\n",
              "<p>8 rows × 772 columns</p>\n",
              "</div>"
            ],
            "text/plain": [
              "                g-0           g-1  ...         g-770         g-771\n",
              "count  23814.000000  23814.000000  ...  23814.000000  23814.000000\n",
              "mean       0.248366     -0.095684  ...     -0.219210      0.101524\n",
              "std        1.393399      0.812363  ...      1.326193      1.417674\n",
              "min       -5.513000     -5.737000  ...    -10.000000    -10.000000\n",
              "25%       -0.473075     -0.562200  ...     -0.554400     -0.523800\n",
              "50%       -0.008850     -0.046600  ...      0.028700     -0.006500\n",
              "75%        0.525700      0.403075  ...      0.496400      0.536950\n",
              "max       10.000000      5.039000  ...     10.000000     10.000000\n",
              "\n",
              "[8 rows x 772 columns]"
            ]
          },
          "metadata": {
            "tags": []
          },
          "execution_count": 177
        }
      ]
    },
    {
      "cell_type": "markdown",
      "metadata": {
        "id": "O2M2o1UW9oXR"
      },
      "source": [
        "Visão das médias de todas as colunas"
      ]
    },
    {
      "cell_type": "code",
      "metadata": {
        "colab": {
          "base_uri": "https://localhost:8080/",
          "height": 418
        },
        "id": "dXaPMF9t9mAn",
        "outputId": "75c95e09-ac48-41bf-cb10-e54ab73c6570"
      },
      "source": [
        "plot_chart_histogram(series_experiments_describe_g.T['mean'], \\\n",
        "                     title='Médias do espectro de genes', \\\n",
        "                     x_label='Média', \\\n",
        "                     y_label='Valor')"
      ],
      "execution_count": 178,
      "outputs": [
        {
          "output_type": "display_data",
          "data": {
            "image/png": "[encoded data removed]",
            "text/plain": [
              "<Figure size 576x432 with 1 Axes>"
            ]
          },
          "metadata": {
            "tags": []
          }
        }
      ]
    },
    {
      "cell_type": "code",
      "metadata": {
        "colab": {
          "base_uri": "https://localhost:8080/",
          "height": 417
        },
        "id": "gISJWin9AVu8",
        "outputId": "bccbb8ff-a7f3-476a-e727-0077713422ff"
      },
      "source": [
        "plot_chart_histogram(series_experiments_describe_g.T['min'], \\\n",
        "                     title='Mínimos do espectro de genes', \\\n",
        "                     x_label='Mínimos', \\\n",
        "                     y_label='Valores')"
      ],
      "execution_count": 179,
      "outputs": [
        {
          "output_type": "display_data",
          "data": {
            "image/png": "[encoded data removed]",
            "text/plain": [
              "<Figure size 576x432 with 1 Axes>"
            ]
          },
          "metadata": {
            "tags": []
          }
        }
      ]
    },
    {
      "cell_type": "code",
      "metadata": {
        "colab": {
          "base_uri": "https://localhost:8080/",
          "height": 418
        },
        "id": "SmIh7wD0AXa5",
        "outputId": "0d0108e8-393b-4878-b8a0-8abc8dfd0d40"
      },
      "source": [
        "plot_chart_histogram(series_experiments_describe_g.T['max'], \\\n",
        "                     title='Máximos do espectro de genes', \\\n",
        "                     x_label='Máximos', \\\n",
        "                     y_label='Valor')"
      ],
      "execution_count": 180,
      "outputs": [
        {
          "output_type": "display_data",
          "data": {
            "image/png": "[encoded data removed]",
            "text/plain": [
              "<Figure size 576x432 with 1 Axes>"
            ]
          },
          "metadata": {
            "tags": []
          }
        }
      ]
    },
    {
      "cell_type": "code",
      "metadata": {
        "colab": {
          "base_uri": "https://localhost:8080/",
          "height": 417
        },
        "id": "zgfVRMtqE7Ky",
        "outputId": "486e96e4-fb5a-4ade-a451-5f0b5cf3f94a"
      },
      "source": [
        "plot_chart_histogram(series_experiments_describe_g.T['std'], \\\n",
        "                     title='Desvio padrão do espectro de genes', \\\n",
        "                     x_label='Desvio', \\\n",
        "                     y_label='Valor')"
      ],
      "execution_count": 181,
      "outputs": [
        {
          "output_type": "display_data",
          "data": {
            "image/png": "[encoded data removed]",
            "text/plain": [
              "<Figure size 576x432 with 1 Axes>"
            ]
          },
          "metadata": {
            "tags": []
          }
        }
      ]
    },
    {
      "cell_type": "markdown",
      "metadata": {
        "id": "yI9tjNBwOHRk"
      },
      "source": [
        "Bom, a única conclusão que consigo tirar destes dados neste momento é quanto a aplicação de uma regra para normalização dos números para que não fiquem tão distantes.\n",
        "\n",
        "Um ponto que podemos ter como uma suspeita é que quanto mais próximos de zero (0), mais próximo o gene está do seu comportamento normal e quanto mais longe de zero, se para um número mais positivo ou mais negativo, respectivamente, mais ativado ou menos ativado o está o gene?\n",
        "\n",
        "Será que se pegarmos alguns experimentos por amostragem e cruzarmos com a tabela de resultados, podemos inferir melhor esta suspeita?"
      ]
    },
    {
      "cell_type": "markdown",
      "metadata": {
        "id": "QoYG-uEuFx77"
      },
      "source": [
        "Agora vamos fazer o mesmo trabalho com as células: 'c-0', 'c-1', 'c-3', 'c-48', 'c-49', 'c-50', 'c-97', 'c-98' e 'c-99'"
      ]
    },
    {
      "cell_type": "code",
      "metadata": {
        "id": "F10GeQgPGUbY"
      },
      "source": [
        "cn_spectrum = ['c-0', 'c-1', 'c-3', 'c-48', 'c-49', 'c-50', 'c-97', 'c-98', 'c-99']"
      ],
      "execution_count": 182,
      "outputs": []
    },
    {
      "cell_type": "code",
      "metadata": {
        "colab": {
          "base_uri": "https://localhost:8080/",
          "height": 297
        },
        "id": "_KvQXYxMGd4x",
        "outputId": "5cd5a1d7-68c4-42bd-be31-c75c74e1eb91"
      },
      "source": [
        "series_experiments_describe_c_spectrum = df_experiments[cn_spectrum].describe()\n",
        "series_experiments_describe_c_spectrum"
      ],
      "execution_count": 183,
      "outputs": [
        {
          "output_type": "execute_result",
          "data": {
            "text/html": [
              "<div>\n",
              "<style scoped>\n",
              "    .dataframe tbody tr th:only-of-type {\n",
              "        vertical-align: middle;\n",
              "    }\n",
              "\n",
              "    .dataframe tbody tr th {\n",
              "        vertical-align: top;\n",
              "    }\n",
              "\n",
              "    .dataframe thead th {\n",
              "        text-align: right;\n",
              "    }\n",
              "</style>\n",
              "<table border=\"1\" class=\"dataframe\">\n",
              "  <thead>\n",
              "    <tr style=\"text-align: right;\">\n",
              "      <th></th>\n",
              "      <th>c-0</th>\n",
              "      <th>c-1</th>\n",
              "      <th>c-3</th>\n",
              "      <th>c-48</th>\n",
              "      <th>c-49</th>\n",
              "      <th>c-50</th>\n",
              "      <th>c-97</th>\n",
              "      <th>c-98</th>\n",
              "      <th>c-99</th>\n",
              "    </tr>\n",
              "  </thead>\n",
              "  <tbody>\n",
              "    <tr>\n",
              "      <th>count</th>\n",
              "      <td>23814.000000</td>\n",
              "      <td>23814.000000</td>\n",
              "      <td>23814.000000</td>\n",
              "      <td>23814.000000</td>\n",
              "      <td>23814.000000</td>\n",
              "      <td>23814.000000</td>\n",
              "      <td>23814.000000</td>\n",
              "      <td>23814.000000</td>\n",
              "      <td>23814.000000</td>\n",
              "    </tr>\n",
              "    <tr>\n",
              "      <th>mean</th>\n",
              "      <td>-0.355156</td>\n",
              "      <td>-0.455359</td>\n",
              "      <td>-0.377666</td>\n",
              "      <td>-0.518600</td>\n",
              "      <td>-0.391396</td>\n",
              "      <td>-0.393122</td>\n",
              "      <td>-0.378241</td>\n",
              "      <td>-0.470252</td>\n",
              "      <td>-0.301505</td>\n",
              "    </tr>\n",
              "    <tr>\n",
              "      <th>std</th>\n",
              "      <td>1.752565</td>\n",
              "      <td>2.004962</td>\n",
              "      <td>1.554583</td>\n",
              "      <td>2.042422</td>\n",
              "      <td>1.721804</td>\n",
              "      <td>1.794246</td>\n",
              "      <td>1.703615</td>\n",
              "      <td>1.834828</td>\n",
              "      <td>1.407918</td>\n",
              "    </tr>\n",
              "    <tr>\n",
              "      <th>min</th>\n",
              "      <td>-10.000000</td>\n",
              "      <td>-10.000000</td>\n",
              "      <td>-10.000000</td>\n",
              "      <td>-10.000000</td>\n",
              "      <td>-10.000000</td>\n",
              "      <td>-10.000000</td>\n",
              "      <td>-10.000000</td>\n",
              "      <td>-10.000000</td>\n",
              "      <td>-10.000000</td>\n",
              "    </tr>\n",
              "    <tr>\n",
              "      <th>25%</th>\n",
              "      <td>-0.549300</td>\n",
              "      <td>-0.538425</td>\n",
              "      <td>-0.601975</td>\n",
              "      <td>-0.574050</td>\n",
              "      <td>-0.555275</td>\n",
              "      <td>-0.528475</td>\n",
              "      <td>-0.561000</td>\n",
              "      <td>-0.592600</td>\n",
              "      <td>-0.562900</td>\n",
              "    </tr>\n",
              "    <tr>\n",
              "      <th>50%</th>\n",
              "      <td>-0.009000</td>\n",
              "      <td>0.009800</td>\n",
              "      <td>-0.039050</td>\n",
              "      <td>-0.003850</td>\n",
              "      <td>0.004500</td>\n",
              "      <td>0.006300</td>\n",
              "      <td>-0.006800</td>\n",
              "      <td>0.014000</td>\n",
              "      <td>-0.019500</td>\n",
              "    </tr>\n",
              "    <tr>\n",
              "      <th>75%</th>\n",
              "      <td>0.448975</td>\n",
              "      <td>0.476875</td>\n",
              "      <td>0.413100</td>\n",
              "      <td>0.459150</td>\n",
              "      <td>0.464075</td>\n",
              "      <td>0.478000</td>\n",
              "      <td>0.446400</td>\n",
              "      <td>0.461275</td>\n",
              "      <td>0.438650</td>\n",
              "    </tr>\n",
              "    <tr>\n",
              "      <th>max</th>\n",
              "      <td>3.365000</td>\n",
              "      <td>3.915000</td>\n",
              "      <td>2.408000</td>\n",
              "      <td>3.371000</td>\n",
              "      <td>4.023000</td>\n",
              "      <td>6.412000</td>\n",
              "      <td>2.924000</td>\n",
              "      <td>3.111000</td>\n",
              "      <td>3.805000</td>\n",
              "    </tr>\n",
              "  </tbody>\n",
              "</table>\n",
              "</div>"
            ],
            "text/plain": [
              "                c-0           c-1  ...          c-98          c-99\n",
              "count  23814.000000  23814.000000  ...  23814.000000  23814.000000\n",
              "mean      -0.355156     -0.455359  ...     -0.470252     -0.301505\n",
              "std        1.752565      2.004962  ...      1.834828      1.407918\n",
              "min      -10.000000    -10.000000  ...    -10.000000    -10.000000\n",
              "25%       -0.549300     -0.538425  ...     -0.592600     -0.562900\n",
              "50%       -0.009000      0.009800  ...      0.014000     -0.019500\n",
              "75%        0.448975      0.476875  ...      0.461275      0.438650\n",
              "max        3.365000      3.915000  ...      3.111000      3.805000\n",
              "\n",
              "[8 rows x 9 columns]"
            ]
          },
          "metadata": {
            "tags": []
          },
          "execution_count": 183
        }
      ]
    },
    {
      "cell_type": "code",
      "metadata": {
        "colab": {
          "base_uri": "https://localhost:8080/",
          "height": 418
        },
        "id": "qGSd2ENsGmJx",
        "outputId": "8f29caa0-2b40-4fc3-c469-61911705ab37"
      },
      "source": [
        "plot_chart_histogram(df_experiments[cn_spectrum[0]], \\\n",
        "                     title='Histogram da célula \"%s\"' % (cn_spectrum[0]), \\\n",
        "                     x_label='Valor', \\\n",
        "                     y_label='Distribuição')"
      ],
      "execution_count": 184,
      "outputs": [
        {
          "output_type": "display_data",
          "data": {
            "image/png": "[encoded data removed]",
            "text/plain": [
              "<Figure size 576x432 with 1 Axes>"
            ]
          },
          "metadata": {
            "tags": []
          }
        }
      ]
    },
    {
      "cell_type": "code",
      "metadata": {
        "colab": {
          "base_uri": "https://localhost:8080/",
          "height": 418
        },
        "id": "heJOvv_lGqrE",
        "outputId": "b64f463a-0f78-4c19-a7aa-ac2c55b7abaa"
      },
      "source": [
        "plot_chart_histogram(df_experiments[cn_spectrum[1]], \\\n",
        "                     title='Histogram da célula \"%s\"' % (cn_spectrum[1]), \\\n",
        "                     x_label='Valor', \\\n",
        "                     y_label='Distribuição')"
      ],
      "execution_count": 185,
      "outputs": [
        {
          "output_type": "display_data",
          "data": {
            "image/png": "[encoded data removed]",
            "text/plain": [
              "<Figure size 576x432 with 1 Axes>"
            ]
          },
          "metadata": {
            "tags": []
          }
        }
      ]
    },
    {
      "cell_type": "code",
      "metadata": {
        "colab": {
          "base_uri": "https://localhost:8080/",
          "height": 418
        },
        "id": "2iCZRCiHGxF8",
        "outputId": "78c159cf-5e86-4b1a-f84e-2230f767264e"
      },
      "source": [
        "plot_chart_histogram(df_experiments[cn_spectrum[2]], \\\n",
        "                     title='Histogram da célula \"%s\"' % (cn_spectrum[2]), \\\n",
        "                     x_label='Valor', \\\n",
        "                     y_label='Distribuição')"
      ],
      "execution_count": 186,
      "outputs": [
        {
          "output_type": "display_data",
          "data": {
            "image/png": "[encoded data removed]",
            "text/plain": [
              "<Figure size 576x432 with 1 Axes>"
            ]
          },
          "metadata": {
            "tags": []
          }
        }
      ]
    },
    {
      "cell_type": "code",
      "metadata": {
        "colab": {
          "base_uri": "https://localhost:8080/",
          "height": 418
        },
        "id": "vzOxA3iDGzks",
        "outputId": "9d45f2d7-82ca-45d4-ae1e-32c15479a936"
      },
      "source": [
        "plot_chart_histogram(df_experiments[cn_spectrum[3]], \\\n",
        "                     title='Histogram da célula \"%s\"' % (cn_spectrum[3]), \\\n",
        "                     x_label='Valor', \\\n",
        "                     y_label='Distribuição')"
      ],
      "execution_count": 187,
      "outputs": [
        {
          "output_type": "display_data",
          "data": {
            "image/png": "[encoded data removed]",
            "text/plain": [
              "<Figure size 576x432 with 1 Axes>"
            ]
          },
          "metadata": {
            "tags": []
          }
        }
      ]
    },
    {
      "cell_type": "code",
      "metadata": {
        "colab": {
          "base_uri": "https://localhost:8080/",
          "height": 418
        },
        "id": "tmfF5kXCG1sU",
        "outputId": "72627562-ac5d-46d5-edcb-30e6693b82d2"
      },
      "source": [
        "plot_chart_histogram(df_experiments[cn_spectrum[4]], \\\n",
        "                     title='Histogram da célula \"%s\"' % (cn_spectrum[4]), \\\n",
        "                     x_label='Valor', \\\n",
        "                     y_label='Distribuição')"
      ],
      "execution_count": 188,
      "outputs": [
        {
          "output_type": "display_data",
          "data": {
            "image/png": "[encoded data removed]",
            "text/plain": [
              "<Figure size 576x432 with 1 Axes>"
            ]
          },
          "metadata": {
            "tags": []
          }
        }
      ]
    },
    {
      "cell_type": "code",
      "metadata": {
        "colab": {
          "base_uri": "https://localhost:8080/",
          "height": 418
        },
        "id": "k9WpcGymG4GQ",
        "outputId": "a65cbec4-a806-407a-cd71-424568460a7d"
      },
      "source": [
        "plot_chart_histogram(df_experiments[cn_spectrum[5]], \\\n",
        "                     title='Histogram da célula \"%s\"' % (cn_spectrum[5]), \\\n",
        "                     x_label='Valor', \\\n",
        "                     y_label='Distribuição')"
      ],
      "execution_count": 189,
      "outputs": [
        {
          "output_type": "display_data",
          "data": {
            "image/png": "[encoded data removed]",
            "text/plain": [
              "<Figure size 576x432 with 1 Axes>"
            ]
          },
          "metadata": {
            "tags": []
          }
        }
      ]
    },
    {
      "cell_type": "code",
      "metadata": {
        "colab": {
          "base_uri": "https://localhost:8080/",
          "height": 418
        },
        "id": "-Wiv_sNGG6fx",
        "outputId": "6a4579c5-8774-4a55-8892-e2e9cd174039"
      },
      "source": [
        "plot_chart_histogram(df_experiments[cn_spectrum[6]], \\\n",
        "                     title='Histogram da célula \"%s\"' % (cn_spectrum[6]), \\\n",
        "                     x_label='Valor', \\\n",
        "                     y_label='Distribuição')"
      ],
      "execution_count": 190,
      "outputs": [
        {
          "output_type": "display_data",
          "data": {
            "image/png": "[encoded data removed]",
            "text/plain": [
              "<Figure size 576x432 with 1 Axes>"
            ]
          },
          "metadata": {
            "tags": []
          }
        }
      ]
    },
    {
      "cell_type": "code",
      "metadata": {
        "colab": {
          "base_uri": "https://localhost:8080/",
          "height": 418
        },
        "id": "DpQmFj1MG9HV",
        "outputId": "895e9371-8ca8-44b1-cca9-13aa56f5f4f2"
      },
      "source": [
        "plot_chart_histogram(df_experiments[cn_spectrum[7]], \\\n",
        "                     title='Histogram da célula \"%s\"' % (cn_spectrum[7]), \\\n",
        "                     x_label='Valor', \\\n",
        "                     y_label='Distribuição')"
      ],
      "execution_count": 191,
      "outputs": [
        {
          "output_type": "display_data",
          "data": {
            "image/png": "[encoded data removed]",
            "text/plain": [
              "<Figure size 576x432 with 1 Axes>"
            ]
          },
          "metadata": {
            "tags": []
          }
        }
      ]
    },
    {
      "cell_type": "code",
      "metadata": {
        "colab": {
          "base_uri": "https://localhost:8080/",
          "height": 418
        },
        "id": "BYI6-c6kG_hs",
        "outputId": "45759889-5f4f-4145-f44b-aaa40e102850"
      },
      "source": [
        "plot_chart_histogram(df_experiments[cn_spectrum[8]], \\\n",
        "                     title='Histogram da célula \"%s\"' % (cn_spectrum[8]), \\\n",
        "                     x_label='Valor', \\\n",
        "                     y_label='Distribuição')"
      ],
      "execution_count": 192,
      "outputs": [
        {
          "output_type": "display_data",
          "data": {
            "image/png": "[encoded data removed]",
            "text/plain": [
              "<Figure size 576x432 with 1 Axes>"
            ]
          },
          "metadata": {
            "tags": []
          }
        }
      ]
    },
    {
      "cell_type": "code",
      "metadata": {
        "colab": {
          "base_uri": "https://localhost:8080/",
          "height": 346
        },
        "id": "nGK8q3bVHC6w",
        "outputId": "9ecd4a20-78a0-4895-d665-6cb4c81605cd"
      },
      "source": [
        "series_experiments_describe_c = df_experiments.loc[:, 'c-0':'c-99'].describe()\n",
        "series_experiments_describe_c"
      ],
      "execution_count": 193,
      "outputs": [
        {
          "output_type": "execute_result",
          "data": {
            "text/html": [
              "<div>\n",
              "<style scoped>\n",
              "    .dataframe tbody tr th:only-of-type {\n",
              "        vertical-align: middle;\n",
              "    }\n",
              "\n",
              "    .dataframe tbody tr th {\n",
              "        vertical-align: top;\n",
              "    }\n",
              "\n",
              "    .dataframe thead th {\n",
              "        text-align: right;\n",
              "    }\n",
              "</style>\n",
              "<table border=\"1\" class=\"dataframe\">\n",
              "  <thead>\n",
              "    <tr style=\"text-align: right;\">\n",
              "      <th></th>\n",
              "      <th>c-0</th>\n",
              "      <th>c-1</th>\n",
              "      <th>c-2</th>\n",
              "      <th>c-3</th>\n",
              "      <th>c-4</th>\n",
              "      <th>c-5</th>\n",
              "      <th>c-6</th>\n",
              "      <th>c-7</th>\n",
              "      <th>c-8</th>\n",
              "      <th>c-9</th>\n",
              "      <th>c-10</th>\n",
              "      <th>c-11</th>\n",
              "      <th>c-12</th>\n",
              "      <th>c-13</th>\n",
              "      <th>c-14</th>\n",
              "      <th>c-15</th>\n",
              "      <th>c-16</th>\n",
              "      <th>c-17</th>\n",
              "      <th>c-18</th>\n",
              "      <th>c-19</th>\n",
              "      <th>c-20</th>\n",
              "      <th>c-21</th>\n",
              "      <th>c-22</th>\n",
              "      <th>c-23</th>\n",
              "      <th>c-24</th>\n",
              "      <th>c-25</th>\n",
              "      <th>c-26</th>\n",
              "      <th>c-27</th>\n",
              "      <th>c-28</th>\n",
              "      <th>c-29</th>\n",
              "      <th>c-30</th>\n",
              "      <th>c-31</th>\n",
              "      <th>c-32</th>\n",
              "      <th>c-33</th>\n",
              "      <th>c-34</th>\n",
              "      <th>c-35</th>\n",
              "      <th>c-36</th>\n",
              "      <th>c-37</th>\n",
              "      <th>c-38</th>\n",
              "      <th>c-39</th>\n",
              "      <th>...</th>\n",
              "      <th>c-60</th>\n",
              "      <th>c-61</th>\n",
              "      <th>c-62</th>\n",
              "      <th>c-63</th>\n",
              "      <th>c-64</th>\n",
              "      <th>c-65</th>\n",
              "      <th>c-66</th>\n",
              "      <th>c-67</th>\n",
              "      <th>c-68</th>\n",
              "      <th>c-69</th>\n",
              "      <th>c-70</th>\n",
              "      <th>c-71</th>\n",
              "      <th>c-72</th>\n",
              "      <th>c-73</th>\n",
              "      <th>c-74</th>\n",
              "      <th>c-75</th>\n",
              "      <th>c-76</th>\n",
              "      <th>c-77</th>\n",
              "      <th>c-78</th>\n",
              "      <th>c-79</th>\n",
              "      <th>c-80</th>\n",
              "      <th>c-81</th>\n",
              "      <th>c-82</th>\n",
              "      <th>c-83</th>\n",
              "      <th>c-84</th>\n",
              "      <th>c-85</th>\n",
              "      <th>c-86</th>\n",
              "      <th>c-87</th>\n",
              "      <th>c-88</th>\n",
              "      <th>c-89</th>\n",
              "      <th>c-90</th>\n",
              "      <th>c-91</th>\n",
              "      <th>c-92</th>\n",
              "      <th>c-93</th>\n",
              "      <th>c-94</th>\n",
              "      <th>c-95</th>\n",
              "      <th>c-96</th>\n",
              "      <th>c-97</th>\n",
              "      <th>c-98</th>\n",
              "      <th>c-99</th>\n",
              "    </tr>\n",
              "  </thead>\n",
              "  <tbody>\n",
              "    <tr>\n",
              "      <th>count</th>\n",
              "      <td>23814.000000</td>\n",
              "      <td>23814.000000</td>\n",
              "      <td>23814.000000</td>\n",
              "      <td>23814.000000</td>\n",
              "      <td>23814.000000</td>\n",
              "      <td>23814.000000</td>\n",
              "      <td>23814.000000</td>\n",
              "      <td>23814.000000</td>\n",
              "      <td>23814.000000</td>\n",
              "      <td>23814.000000</td>\n",
              "      <td>23814.000000</td>\n",
              "      <td>23814.000000</td>\n",
              "      <td>23814.000000</td>\n",
              "      <td>23814.000000</td>\n",
              "      <td>23814.000000</td>\n",
              "      <td>23814.000000</td>\n",
              "      <td>23814.000000</td>\n",
              "      <td>23814.000000</td>\n",
              "      <td>23814.000000</td>\n",
              "      <td>23814.000000</td>\n",
              "      <td>23814.000000</td>\n",
              "      <td>23814.000000</td>\n",
              "      <td>23814.000000</td>\n",
              "      <td>23814.000000</td>\n",
              "      <td>23814.000000</td>\n",
              "      <td>23814.000000</td>\n",
              "      <td>23814.000000</td>\n",
              "      <td>23814.000000</td>\n",
              "      <td>23814.000000</td>\n",
              "      <td>23814.000000</td>\n",
              "      <td>23814.000000</td>\n",
              "      <td>23814.000000</td>\n",
              "      <td>23814.000000</td>\n",
              "      <td>23814.000000</td>\n",
              "      <td>23814.000000</td>\n",
              "      <td>23814.000000</td>\n",
              "      <td>23814.000000</td>\n",
              "      <td>23814.000000</td>\n",
              "      <td>23814.000000</td>\n",
              "      <td>23814.000000</td>\n",
              "      <td>...</td>\n",
              "      <td>23814.000000</td>\n",
              "      <td>23814.000000</td>\n",
              "      <td>23814.000000</td>\n",
              "      <td>23814.000000</td>\n",
              "      <td>23814.000000</td>\n",
              "      <td>23814.000000</td>\n",
              "      <td>23814.000000</td>\n",
              "      <td>23814.000000</td>\n",
              "      <td>23814.000000</td>\n",
              "      <td>23814.000000</td>\n",
              "      <td>23814.000000</td>\n",
              "      <td>23814.000000</td>\n",
              "      <td>23814.000000</td>\n",
              "      <td>23814.000000</td>\n",
              "      <td>23814.000000</td>\n",
              "      <td>23814.000000</td>\n",
              "      <td>23814.000000</td>\n",
              "      <td>23814.000000</td>\n",
              "      <td>23814.000000</td>\n",
              "      <td>23814.000000</td>\n",
              "      <td>23814.000000</td>\n",
              "      <td>23814.000000</td>\n",
              "      <td>23814.000000</td>\n",
              "      <td>23814.000000</td>\n",
              "      <td>23814.000000</td>\n",
              "      <td>23814.000000</td>\n",
              "      <td>23814.000000</td>\n",
              "      <td>23814.000000</td>\n",
              "      <td>23814.000000</td>\n",
              "      <td>23814.000000</td>\n",
              "      <td>23814.000000</td>\n",
              "      <td>23814.000000</td>\n",
              "      <td>23814.000000</td>\n",
              "      <td>23814.000000</td>\n",
              "      <td>23814.000000</td>\n",
              "      <td>23814.000000</td>\n",
              "      <td>23814.000000</td>\n",
              "      <td>23814.000000</td>\n",
              "      <td>23814.000000</td>\n",
              "      <td>23814.000000</td>\n",
              "    </tr>\n",
              "    <tr>\n",
              "      <th>mean</th>\n",
              "      <td>-0.355156</td>\n",
              "      <td>-0.455359</td>\n",
              "      <td>-0.480542</td>\n",
              "      <td>-0.377666</td>\n",
              "      <td>-0.493552</td>\n",
              "      <td>-0.446037</td>\n",
              "      <td>-0.574855</td>\n",
              "      <td>-0.266293</td>\n",
              "      <td>-0.451307</td>\n",
              "      <td>-0.458664</td>\n",
              "      <td>-0.486027</td>\n",
              "      <td>-0.473410</td>\n",
              "      <td>-0.508091</td>\n",
              "      <td>-0.510905</td>\n",
              "      <td>-0.306528</td>\n",
              "      <td>-0.452293</td>\n",
              "      <td>-0.337267</td>\n",
              "      <td>-0.473728</td>\n",
              "      <td>-0.619461</td>\n",
              "      <td>-0.330389</td>\n",
              "      <td>-0.454165</td>\n",
              "      <td>-0.496059</td>\n",
              "      <td>-0.383134</td>\n",
              "      <td>-0.295655</td>\n",
              "      <td>-0.443384</td>\n",
              "      <td>-0.449683</td>\n",
              "      <td>-0.597730</td>\n",
              "      <td>-0.431899</td>\n",
              "      <td>-0.501831</td>\n",
              "      <td>-0.288958</td>\n",
              "      <td>-0.385486</td>\n",
              "      <td>-0.434420</td>\n",
              "      <td>-0.322990</td>\n",
              "      <td>-0.545691</td>\n",
              "      <td>-0.461527</td>\n",
              "      <td>-0.350457</td>\n",
              "      <td>-0.477049</td>\n",
              "      <td>-0.209301</td>\n",
              "      <td>-0.598003</td>\n",
              "      <td>-0.397430</td>\n",
              "      <td>...</td>\n",
              "      <td>-0.517397</td>\n",
              "      <td>-0.360770</td>\n",
              "      <td>-0.435752</td>\n",
              "      <td>-0.613591</td>\n",
              "      <td>-0.402083</td>\n",
              "      <td>-0.619682</td>\n",
              "      <td>-0.452265</td>\n",
              "      <td>-0.497164</td>\n",
              "      <td>-0.413836</td>\n",
              "      <td>-0.277029</td>\n",
              "      <td>-0.547845</td>\n",
              "      <td>-0.358611</td>\n",
              "      <td>-0.442906</td>\n",
              "      <td>-0.475194</td>\n",
              "      <td>-0.010404</td>\n",
              "      <td>-0.467001</td>\n",
              "      <td>-0.276963</td>\n",
              "      <td>-0.455848</td>\n",
              "      <td>-0.412918</td>\n",
              "      <td>-0.456404</td>\n",
              "      <td>-0.472514</td>\n",
              "      <td>-0.505481</td>\n",
              "      <td>-0.492735</td>\n",
              "      <td>-0.446836</td>\n",
              "      <td>-0.463029</td>\n",
              "      <td>-0.409310</td>\n",
              "      <td>-0.333124</td>\n",
              "      <td>-0.295009</td>\n",
              "      <td>-0.328342</td>\n",
              "      <td>-0.401615</td>\n",
              "      <td>-0.469244</td>\n",
              "      <td>-0.461411</td>\n",
              "      <td>-0.513256</td>\n",
              "      <td>-0.500142</td>\n",
              "      <td>-0.507093</td>\n",
              "      <td>-0.353726</td>\n",
              "      <td>-0.463485</td>\n",
              "      <td>-0.378241</td>\n",
              "      <td>-0.470252</td>\n",
              "      <td>-0.301505</td>\n",
              "    </tr>\n",
              "    <tr>\n",
              "      <th>std</th>\n",
              "      <td>1.752565</td>\n",
              "      <td>2.004962</td>\n",
              "      <td>2.039346</td>\n",
              "      <td>1.554583</td>\n",
              "      <td>2.091888</td>\n",
              "      <td>1.893484</td>\n",
              "      <td>2.234152</td>\n",
              "      <td>1.465313</td>\n",
              "      <td>1.948829</td>\n",
              "      <td>1.646122</td>\n",
              "      <td>2.066695</td>\n",
              "      <td>2.058766</td>\n",
              "      <td>2.140051</td>\n",
              "      <td>2.170919</td>\n",
              "      <td>1.575507</td>\n",
              "      <td>1.974010</td>\n",
              "      <td>1.594663</td>\n",
              "      <td>2.079550</td>\n",
              "      <td>2.294899</td>\n",
              "      <td>1.641563</td>\n",
              "      <td>2.001374</td>\n",
              "      <td>2.023053</td>\n",
              "      <td>1.690235</td>\n",
              "      <td>1.536784</td>\n",
              "      <td>1.967079</td>\n",
              "      <td>1.899095</td>\n",
              "      <td>2.268931</td>\n",
              "      <td>1.916467</td>\n",
              "      <td>1.904629</td>\n",
              "      <td>1.521773</td>\n",
              "      <td>1.741182</td>\n",
              "      <td>1.988458</td>\n",
              "      <td>1.772399</td>\n",
              "      <td>2.201552</td>\n",
              "      <td>1.974772</td>\n",
              "      <td>1.751440</td>\n",
              "      <td>1.965178</td>\n",
              "      <td>1.287766</td>\n",
              "      <td>2.297375</td>\n",
              "      <td>1.838205</td>\n",
              "      <td>...</td>\n",
              "      <td>2.122318</td>\n",
              "      <td>1.710725</td>\n",
              "      <td>1.898871</td>\n",
              "      <td>2.307820</td>\n",
              "      <td>1.785055</td>\n",
              "      <td>2.225596</td>\n",
              "      <td>1.991021</td>\n",
              "      <td>2.063896</td>\n",
              "      <td>1.887001</td>\n",
              "      <td>1.459639</td>\n",
              "      <td>2.187835</td>\n",
              "      <td>1.730634</td>\n",
              "      <td>1.924716</td>\n",
              "      <td>2.021927</td>\n",
              "      <td>1.029820</td>\n",
              "      <td>2.004317</td>\n",
              "      <td>1.429340</td>\n",
              "      <td>1.924263</td>\n",
              "      <td>1.888788</td>\n",
              "      <td>1.832863</td>\n",
              "      <td>2.011396</td>\n",
              "      <td>2.091353</td>\n",
              "      <td>2.055624</td>\n",
              "      <td>1.987476</td>\n",
              "      <td>2.014045</td>\n",
              "      <td>1.883974</td>\n",
              "      <td>1.647241</td>\n",
              "      <td>1.634073</td>\n",
              "      <td>1.663170</td>\n",
              "      <td>1.832794</td>\n",
              "      <td>2.000488</td>\n",
              "      <td>2.042475</td>\n",
              "      <td>2.001714</td>\n",
              "      <td>2.107105</td>\n",
              "      <td>2.159589</td>\n",
              "      <td>1.629291</td>\n",
              "      <td>2.059725</td>\n",
              "      <td>1.703615</td>\n",
              "      <td>1.834828</td>\n",
              "      <td>1.407918</td>\n",
              "    </tr>\n",
              "    <tr>\n",
              "      <th>min</th>\n",
              "      <td>-10.000000</td>\n",
              "      <td>-10.000000</td>\n",
              "      <td>-10.000000</td>\n",
              "      <td>-10.000000</td>\n",
              "      <td>-10.000000</td>\n",
              "      <td>-10.000000</td>\n",
              "      <td>-10.000000</td>\n",
              "      <td>-10.000000</td>\n",
              "      <td>-10.000000</td>\n",
              "      <td>-10.000000</td>\n",
              "      <td>-10.000000</td>\n",
              "      <td>-10.000000</td>\n",
              "      <td>-10.000000</td>\n",
              "      <td>-10.000000</td>\n",
              "      <td>-10.000000</td>\n",
              "      <td>-10.000000</td>\n",
              "      <td>-10.000000</td>\n",
              "      <td>-10.000000</td>\n",
              "      <td>-10.000000</td>\n",
              "      <td>-10.000000</td>\n",
              "      <td>-10.000000</td>\n",
              "      <td>-10.000000</td>\n",
              "      <td>-10.000000</td>\n",
              "      <td>-10.000000</td>\n",
              "      <td>-10.000000</td>\n",
              "      <td>-10.000000</td>\n",
              "      <td>-10.000000</td>\n",
              "      <td>-10.000000</td>\n",
              "      <td>-10.000000</td>\n",
              "      <td>-10.000000</td>\n",
              "      <td>-10.000000</td>\n",
              "      <td>-10.000000</td>\n",
              "      <td>-10.000000</td>\n",
              "      <td>-10.000000</td>\n",
              "      <td>-10.000000</td>\n",
              "      <td>-10.000000</td>\n",
              "      <td>-10.000000</td>\n",
              "      <td>-9.910000</td>\n",
              "      <td>-10.000000</td>\n",
              "      <td>-10.000000</td>\n",
              "      <td>...</td>\n",
              "      <td>-10.000000</td>\n",
              "      <td>-10.000000</td>\n",
              "      <td>-10.000000</td>\n",
              "      <td>-10.000000</td>\n",
              "      <td>-10.000000</td>\n",
              "      <td>-10.000000</td>\n",
              "      <td>-10.000000</td>\n",
              "      <td>-10.000000</td>\n",
              "      <td>-10.000000</td>\n",
              "      <td>-9.839000</td>\n",
              "      <td>-10.000000</td>\n",
              "      <td>-10.000000</td>\n",
              "      <td>-10.000000</td>\n",
              "      <td>-10.000000</td>\n",
              "      <td>-6.452000</td>\n",
              "      <td>-10.000000</td>\n",
              "      <td>-9.938000</td>\n",
              "      <td>-10.000000</td>\n",
              "      <td>-10.000000</td>\n",
              "      <td>-10.000000</td>\n",
              "      <td>-10.000000</td>\n",
              "      <td>-10.000000</td>\n",
              "      <td>-10.000000</td>\n",
              "      <td>-10.000000</td>\n",
              "      <td>-10.000000</td>\n",
              "      <td>-10.000000</td>\n",
              "      <td>-10.000000</td>\n",
              "      <td>-10.000000</td>\n",
              "      <td>-10.000000</td>\n",
              "      <td>-10.000000</td>\n",
              "      <td>-10.000000</td>\n",
              "      <td>-10.000000</td>\n",
              "      <td>-10.000000</td>\n",
              "      <td>-10.000000</td>\n",
              "      <td>-10.000000</td>\n",
              "      <td>-10.000000</td>\n",
              "      <td>-10.000000</td>\n",
              "      <td>-10.000000</td>\n",
              "      <td>-10.000000</td>\n",
              "      <td>-10.000000</td>\n",
              "    </tr>\n",
              "    <tr>\n",
              "      <th>25%</th>\n",
              "      <td>-0.549300</td>\n",
              "      <td>-0.538425</td>\n",
              "      <td>-0.550375</td>\n",
              "      <td>-0.601975</td>\n",
              "      <td>-0.559975</td>\n",
              "      <td>-0.578775</td>\n",
              "      <td>-0.571250</td>\n",
              "      <td>-0.524275</td>\n",
              "      <td>-0.551100</td>\n",
              "      <td>-0.654675</td>\n",
              "      <td>-0.564000</td>\n",
              "      <td>-0.546475</td>\n",
              "      <td>-0.555500</td>\n",
              "      <td>-0.572450</td>\n",
              "      <td>-0.535700</td>\n",
              "      <td>-0.561600</td>\n",
              "      <td>-0.580450</td>\n",
              "      <td>-0.554575</td>\n",
              "      <td>-0.582575</td>\n",
              "      <td>-0.552675</td>\n",
              "      <td>-0.561575</td>\n",
              "      <td>-0.572275</td>\n",
              "      <td>-0.570975</td>\n",
              "      <td>-0.556275</td>\n",
              "      <td>-0.532100</td>\n",
              "      <td>-0.583600</td>\n",
              "      <td>-0.569675</td>\n",
              "      <td>-0.574025</td>\n",
              "      <td>-0.608700</td>\n",
              "      <td>-0.538600</td>\n",
              "      <td>-0.552475</td>\n",
              "      <td>-0.537300</td>\n",
              "      <td>-0.533125</td>\n",
              "      <td>-0.584875</td>\n",
              "      <td>-0.569625</td>\n",
              "      <td>-0.539075</td>\n",
              "      <td>-0.575475</td>\n",
              "      <td>-0.532525</td>\n",
              "      <td>-0.579900</td>\n",
              "      <td>-0.559575</td>\n",
              "      <td>...</td>\n",
              "      <td>-0.588075</td>\n",
              "      <td>-0.564025</td>\n",
              "      <td>-0.561000</td>\n",
              "      <td>-0.583250</td>\n",
              "      <td>-0.566500</td>\n",
              "      <td>-0.603200</td>\n",
              "      <td>-0.541575</td>\n",
              "      <td>-0.560825</td>\n",
              "      <td>-0.555200</td>\n",
              "      <td>-0.534500</td>\n",
              "      <td>-0.569100</td>\n",
              "      <td>-0.558300</td>\n",
              "      <td>-0.573350</td>\n",
              "      <td>-0.594275</td>\n",
              "      <td>-0.389925</td>\n",
              "      <td>-0.551200</td>\n",
              "      <td>-0.544150</td>\n",
              "      <td>-0.575075</td>\n",
              "      <td>-0.568275</td>\n",
              "      <td>-0.582650</td>\n",
              "      <td>-0.558575</td>\n",
              "      <td>-0.562375</td>\n",
              "      <td>-0.572800</td>\n",
              "      <td>-0.561225</td>\n",
              "      <td>-0.560675</td>\n",
              "      <td>-0.560100</td>\n",
              "      <td>-0.533700</td>\n",
              "      <td>-0.504575</td>\n",
              "      <td>-0.544275</td>\n",
              "      <td>-0.569150</td>\n",
              "      <td>-0.566175</td>\n",
              "      <td>-0.565975</td>\n",
              "      <td>-0.589975</td>\n",
              "      <td>-0.568700</td>\n",
              "      <td>-0.563775</td>\n",
              "      <td>-0.567975</td>\n",
              "      <td>-0.552575</td>\n",
              "      <td>-0.561000</td>\n",
              "      <td>-0.592600</td>\n",
              "      <td>-0.562900</td>\n",
              "    </tr>\n",
              "    <tr>\n",
              "      <th>50%</th>\n",
              "      <td>-0.009000</td>\n",
              "      <td>0.009800</td>\n",
              "      <td>-0.004000</td>\n",
              "      <td>-0.039050</td>\n",
              "      <td>0.011400</td>\n",
              "      <td>-0.008900</td>\n",
              "      <td>0.007400</td>\n",
              "      <td>0.006350</td>\n",
              "      <td>-0.005350</td>\n",
              "      <td>-0.025350</td>\n",
              "      <td>0.005350</td>\n",
              "      <td>0.002550</td>\n",
              "      <td>-0.005500</td>\n",
              "      <td>0.006400</td>\n",
              "      <td>0.002850</td>\n",
              "      <td>0.003100</td>\n",
              "      <td>-0.035850</td>\n",
              "      <td>-0.000100</td>\n",
              "      <td>0.009350</td>\n",
              "      <td>-0.008650</td>\n",
              "      <td>-0.013200</td>\n",
              "      <td>-0.004900</td>\n",
              "      <td>-0.010550</td>\n",
              "      <td>0.019600</td>\n",
              "      <td>0.016650</td>\n",
              "      <td>-0.008550</td>\n",
              "      <td>0.006500</td>\n",
              "      <td>-0.009250</td>\n",
              "      <td>-0.022400</td>\n",
              "      <td>-0.018200</td>\n",
              "      <td>0.003050</td>\n",
              "      <td>-0.002150</td>\n",
              "      <td>0.000500</td>\n",
              "      <td>0.005850</td>\n",
              "      <td>0.008650</td>\n",
              "      <td>-0.012800</td>\n",
              "      <td>-0.003350</td>\n",
              "      <td>-0.004000</td>\n",
              "      <td>-0.006650</td>\n",
              "      <td>-0.002500</td>\n",
              "      <td>...</td>\n",
              "      <td>-0.017650</td>\n",
              "      <td>-0.041550</td>\n",
              "      <td>-0.002950</td>\n",
              "      <td>-0.012650</td>\n",
              "      <td>-0.005600</td>\n",
              "      <td>0.007650</td>\n",
              "      <td>0.004950</td>\n",
              "      <td>0.000000</td>\n",
              "      <td>-0.023800</td>\n",
              "      <td>-0.011450</td>\n",
              "      <td>-0.007100</td>\n",
              "      <td>-0.019500</td>\n",
              "      <td>-0.019500</td>\n",
              "      <td>-0.009300</td>\n",
              "      <td>0.081550</td>\n",
              "      <td>-0.006900</td>\n",
              "      <td>0.018400</td>\n",
              "      <td>-0.014650</td>\n",
              "      <td>-0.014350</td>\n",
              "      <td>0.005300</td>\n",
              "      <td>-0.005300</td>\n",
              "      <td>-0.004050</td>\n",
              "      <td>0.003300</td>\n",
              "      <td>-0.007900</td>\n",
              "      <td>-0.004600</td>\n",
              "      <td>-0.002400</td>\n",
              "      <td>0.007850</td>\n",
              "      <td>-0.005600</td>\n",
              "      <td>-0.020600</td>\n",
              "      <td>-0.030000</td>\n",
              "      <td>-0.009900</td>\n",
              "      <td>0.003250</td>\n",
              "      <td>-0.009100</td>\n",
              "      <td>-0.013750</td>\n",
              "      <td>-0.003300</td>\n",
              "      <td>-0.010250</td>\n",
              "      <td>-0.001250</td>\n",
              "      <td>-0.006800</td>\n",
              "      <td>0.014000</td>\n",
              "      <td>-0.019500</td>\n",
              "    </tr>\n",
              "    <tr>\n",
              "      <th>75%</th>\n",
              "      <td>0.448975</td>\n",
              "      <td>0.476875</td>\n",
              "      <td>0.460575</td>\n",
              "      <td>0.413100</td>\n",
              "      <td>0.470300</td>\n",
              "      <td>0.442675</td>\n",
              "      <td>0.459475</td>\n",
              "      <td>0.469375</td>\n",
              "      <td>0.453175</td>\n",
              "      <td>0.424400</td>\n",
              "      <td>0.468675</td>\n",
              "      <td>0.466900</td>\n",
              "      <td>0.458775</td>\n",
              "      <td>0.485875</td>\n",
              "      <td>0.462725</td>\n",
              "      <td>0.464475</td>\n",
              "      <td>0.430400</td>\n",
              "      <td>0.466700</td>\n",
              "      <td>0.466775</td>\n",
              "      <td>0.460100</td>\n",
              "      <td>0.452025</td>\n",
              "      <td>0.460900</td>\n",
              "      <td>0.450575</td>\n",
              "      <td>0.489350</td>\n",
              "      <td>0.468175</td>\n",
              "      <td>0.448800</td>\n",
              "      <td>0.468075</td>\n",
              "      <td>0.452675</td>\n",
              "      <td>0.425250</td>\n",
              "      <td>0.442650</td>\n",
              "      <td>0.461375</td>\n",
              "      <td>0.454775</td>\n",
              "      <td>0.482400</td>\n",
              "      <td>0.460250</td>\n",
              "      <td>0.464875</td>\n",
              "      <td>0.453475</td>\n",
              "      <td>0.445675</td>\n",
              "      <td>0.475400</td>\n",
              "      <td>0.456575</td>\n",
              "      <td>0.452875</td>\n",
              "      <td>...</td>\n",
              "      <td>0.452675</td>\n",
              "      <td>0.427675</td>\n",
              "      <td>0.462175</td>\n",
              "      <td>0.447975</td>\n",
              "      <td>0.447150</td>\n",
              "      <td>0.441250</td>\n",
              "      <td>0.470600</td>\n",
              "      <td>0.458550</td>\n",
              "      <td>0.441000</td>\n",
              "      <td>0.460075</td>\n",
              "      <td>0.460950</td>\n",
              "      <td>0.449975</td>\n",
              "      <td>0.445200</td>\n",
              "      <td>0.473200</td>\n",
              "      <td>0.563575</td>\n",
              "      <td>0.456350</td>\n",
              "      <td>0.493400</td>\n",
              "      <td>0.448375</td>\n",
              "      <td>0.451975</td>\n",
              "      <td>0.463075</td>\n",
              "      <td>0.447675</td>\n",
              "      <td>0.462000</td>\n",
              "      <td>0.468900</td>\n",
              "      <td>0.452375</td>\n",
              "      <td>0.460475</td>\n",
              "      <td>0.461675</td>\n",
              "      <td>0.465950</td>\n",
              "      <td>0.463400</td>\n",
              "      <td>0.450075</td>\n",
              "      <td>0.430875</td>\n",
              "      <td>0.457750</td>\n",
              "      <td>0.461500</td>\n",
              "      <td>0.445675</td>\n",
              "      <td>0.452900</td>\n",
              "      <td>0.470900</td>\n",
              "      <td>0.444750</td>\n",
              "      <td>0.465225</td>\n",
              "      <td>0.446400</td>\n",
              "      <td>0.461275</td>\n",
              "      <td>0.438650</td>\n",
              "    </tr>\n",
              "    <tr>\n",
              "      <th>max</th>\n",
              "      <td>3.365000</td>\n",
              "      <td>3.915000</td>\n",
              "      <td>2.970000</td>\n",
              "      <td>2.408000</td>\n",
              "      <td>4.555000</td>\n",
              "      <td>3.614000</td>\n",
              "      <td>3.904000</td>\n",
              "      <td>4.918000</td>\n",
              "      <td>3.648000</td>\n",
              "      <td>3.194000</td>\n",
              "      <td>5.642000</td>\n",
              "      <td>3.904000</td>\n",
              "      <td>4.472000</td>\n",
              "      <td>4.434000</td>\n",
              "      <td>3.358000</td>\n",
              "      <td>4.929000</td>\n",
              "      <td>2.675000</td>\n",
              "      <td>4.342000</td>\n",
              "      <td>3.811000</td>\n",
              "      <td>3.013000</td>\n",
              "      <td>3.228000</td>\n",
              "      <td>2.827000</td>\n",
              "      <td>4.134000</td>\n",
              "      <td>3.918000</td>\n",
              "      <td>3.924000</td>\n",
              "      <td>3.058000</td>\n",
              "      <td>4.144000</td>\n",
              "      <td>2.957000</td>\n",
              "      <td>3.322000</td>\n",
              "      <td>4.467000</td>\n",
              "      <td>3.606000</td>\n",
              "      <td>6.099000</td>\n",
              "      <td>4.073000</td>\n",
              "      <td>4.258000</td>\n",
              "      <td>3.374000</td>\n",
              "      <td>4.345000</td>\n",
              "      <td>2.837000</td>\n",
              "      <td>3.962000</td>\n",
              "      <td>3.734000</td>\n",
              "      <td>3.480000</td>\n",
              "      <td>...</td>\n",
              "      <td>3.888000</td>\n",
              "      <td>3.596000</td>\n",
              "      <td>4.857000</td>\n",
              "      <td>3.549000</td>\n",
              "      <td>3.382000</td>\n",
              "      <td>3.328000</td>\n",
              "      <td>4.157000</td>\n",
              "      <td>3.736000</td>\n",
              "      <td>3.582000</td>\n",
              "      <td>3.119000</td>\n",
              "      <td>3.323000</td>\n",
              "      <td>5.014000</td>\n",
              "      <td>2.898000</td>\n",
              "      <td>4.185000</td>\n",
              "      <td>3.170000</td>\n",
              "      <td>3.276000</td>\n",
              "      <td>4.992000</td>\n",
              "      <td>3.770000</td>\n",
              "      <td>2.851000</td>\n",
              "      <td>3.211000</td>\n",
              "      <td>4.534000</td>\n",
              "      <td>3.890000</td>\n",
              "      <td>3.994000</td>\n",
              "      <td>4.321000</td>\n",
              "      <td>4.020000</td>\n",
              "      <td>3.738000</td>\n",
              "      <td>3.252000</td>\n",
              "      <td>5.406000</td>\n",
              "      <td>3.110000</td>\n",
              "      <td>3.320000</td>\n",
              "      <td>4.069000</td>\n",
              "      <td>3.960000</td>\n",
              "      <td>3.927000</td>\n",
              "      <td>3.596000</td>\n",
              "      <td>3.747000</td>\n",
              "      <td>2.814000</td>\n",
              "      <td>3.505000</td>\n",
              "      <td>2.924000</td>\n",
              "      <td>3.111000</td>\n",
              "      <td>3.805000</td>\n",
              "    </tr>\n",
              "  </tbody>\n",
              "</table>\n",
              "<p>8 rows × 100 columns</p>\n",
              "</div>"
            ],
            "text/plain": [
              "                c-0           c-1  ...          c-98          c-99\n",
              "count  23814.000000  23814.000000  ...  23814.000000  23814.000000\n",
              "mean      -0.355156     -0.455359  ...     -0.470252     -0.301505\n",
              "std        1.752565      2.004962  ...      1.834828      1.407918\n",
              "min      -10.000000    -10.000000  ...    -10.000000    -10.000000\n",
              "25%       -0.549300     -0.538425  ...     -0.592600     -0.562900\n",
              "50%       -0.009000      0.009800  ...      0.014000     -0.019500\n",
              "75%        0.448975      0.476875  ...      0.461275      0.438650\n",
              "max        3.365000      3.915000  ...      3.111000      3.805000\n",
              "\n",
              "[8 rows x 100 columns]"
            ]
          },
          "metadata": {
            "tags": []
          },
          "execution_count": 193
        }
      ]
    },
    {
      "cell_type": "code",
      "metadata": {
        "colab": {
          "base_uri": "https://localhost:8080/",
          "height": 418
        },
        "id": "cEmKaBuxHQHg",
        "outputId": "205f9c3e-5f76-46b3-fd4f-ddf6e768e296"
      },
      "source": [
        "plot_chart_histogram(series_experiments_describe_c.T['mean'], \\\n",
        "                     title='Médias do espectro de células', \\\n",
        "                     x_label='Média', \\\n",
        "                     y_label='Valor')"
      ],
      "execution_count": 194,
      "outputs": [
        {
          "output_type": "display_data",
          "data": {
            "image/png": "[encoded data removed]",
            "text/plain": [
              "<Figure size 576x432 with 1 Axes>"
            ]
          },
          "metadata": {
            "tags": []
          }
        }
      ]
    },
    {
      "cell_type": "code",
      "metadata": {
        "colab": {
          "base_uri": "https://localhost:8080/",
          "height": 418
        },
        "id": "6QiyU00JHUqO",
        "outputId": "e08994c8-c2d3-4ad9-9b8c-4a1cd155faf2"
      },
      "source": [
        "plot_chart_histogram(series_experiments_describe_c.T['min'], \\\n",
        "                     title='Mínimos do espectro de células', \\\n",
        "                     x_label='Mínimo', \\\n",
        "                     y_label='Valor')"
      ],
      "execution_count": 195,
      "outputs": [
        {
          "output_type": "display_data",
          "data": {
            "image/png": "[encoded data removed]",
            "text/plain": [
              "<Figure size 576x432 with 1 Axes>"
            ]
          },
          "metadata": {
            "tags": []
          }
        }
      ]
    },
    {
      "cell_type": "code",
      "metadata": {
        "colab": {
          "base_uri": "https://localhost:8080/",
          "height": 418
        },
        "id": "_l8GB8ZfHY32",
        "outputId": "cc0705a9-968e-4ea1-94bd-675b16e2b872"
      },
      "source": [
        "plot_chart_histogram(series_experiments_describe_c.T['max'], \\\n",
        "                     title='Máximos do espectro de células', \\\n",
        "                     x_label='Máximo', \\\n",
        "                     y_label='Valor')"
      ],
      "execution_count": 196,
      "outputs": [
        {
          "output_type": "display_data",
          "data": {
            "image/png": "[encoded data removed]",
            "text/plain": [
              "<Figure size 576x432 with 1 Axes>"
            ]
          },
          "metadata": {
            "tags": []
          }
        }
      ]
    },
    {
      "cell_type": "code",
      "metadata": {
        "colab": {
          "base_uri": "https://localhost:8080/",
          "height": 418
        },
        "id": "XhdNUN3CHdrh",
        "outputId": "39af67d8-c24a-4322-c1ea-9cc1c7e3b694"
      },
      "source": [
        "plot_chart_histogram(series_experiments_describe_c.T['std'], \\\n",
        "                     title='Desvios padrão do espectro de células', \\\n",
        "                     x_label='Desvio', \\\n",
        "                     y_label='Valor')"
      ],
      "execution_count": 197,
      "outputs": [
        {
          "output_type": "display_data",
          "data": {
            "image/png": "[encoded data removed]",
            "text/plain": [
              "<Figure size 576x432 with 1 Axes>"
            ]
          },
          "metadata": {
            "tags": []
          }
        }
      ]
    },
    {
      "cell_type": "markdown",
      "metadata": {
        "id": "xd5CX7uEP97i"
      },
      "source": [
        "Quando analisamos os números para as células (c-n) vemos que os valores também foram normalizados para não termos variações táo descrepantes.\n",
        "\n",
        "\n",
        "Analisando estes dados, tanto de **\"g-n\"** quanto de **\"c-n\"**, a hipótese que me ocorre é que dado que uma expressão gênica é um ciclo que vai:  **Da ativação de um gene DNA -> seu transporte via RNA -> sua produção de proteína**; acredito que seria plausível dizer que um composto químico para ativar um tipo específico de *gene*, por mais que todas as células tenham este \"gene\" no seu núcleo, não necessariamente a célula vai responder a fabricação da proteína. Logo, hipotéticamente, uma célula com uma determinada patologia seria incapaz de produzir a proteina mesmo ela recebendo o RNA do gene ativado? "
      ]
    },
    {
      "cell_type": "markdown",
      "metadata": {
        "id": "4xzA461yNTUk"
      },
      "source": [
        "### Dados referentes aos resultados dos experimentos"
      ]
    },
    {
      "cell_type": "markdown",
      "metadata": {
        "id": "b5C7LqGxRZpJ"
      },
      "source": [
        "#### Visão geral do dataset"
      ]
    },
    {
      "cell_type": "code",
      "metadata": {
        "colab": {
          "base_uri": "https://localhost:8080/"
        },
        "id": "TIm-XHlONX58",
        "outputId": "8272dbd1-56c9-4330-89ec-9d5c478a6294"
      },
      "source": [
        "df_experiments_results.info()"
      ],
      "execution_count": 198,
      "outputs": [
        {
          "output_type": "stream",
          "text": [
            "<class 'pandas.core.frame.DataFrame'>\n",
            "RangeIndex: 23814 entries, 0 to 23813\n",
            "Columns: 207 entries, id to wnt_inhibitor\n",
            "dtypes: int64(206), object(1)\n",
            "memory usage: 37.6+ MB\n"
          ],
          "name": "stdout"
        }
      ]
    },
    {
      "cell_type": "markdown",
      "metadata": {
        "id": "qCHuoHsrGngJ"
      },
      "source": [
        "Como podemos ver, neste dataset temos a mesma quantidade de linhas do dataset anterior, neste caso **23.814**, onde podemos assumir que cada ocorrência desta tabela refere-se tem um experimento correspondente. Adicionalmente, podemos notar que há menos colunas. Um total de **207**. Vamos listar as colunas que temos presentes no nosso dataset."
      ]
    },
    {
      "cell_type": "code",
      "metadata": {
        "colab": {
          "base_uri": "https://localhost:8080/"
        },
        "id": "0G3J3RRAHJol",
        "outputId": "569921cb-c1eb-4e73-c617-051b949b11aa"
      },
      "source": [
        "print_df_dict_groupby(df_experiments_results \\\n",
        "                        .columns \\\n",
        "                        .to_series() \\\n",
        "                        .groupby(df_experiments_results.dtypes) \\\n",
        "                        .groups)"
      ],
      "execution_count": 199,
      "outputs": [
        {
          "output_type": "stream",
          "text": [
            "<class 'pandas.io.formats.printing.PrettyDict'>\n",
            "int64\n",
            "\t5-alpha_reductase_inhibitor, 11-beta-hsd1_inhibitor, acat_inhibitor, acetylcholine_receptor_agonist, acetylcholine_receptor_antagonist, acetylcholinesterase_inhibitor, adenosine_receptor_agonist, adenosine_receptor_antagonist, adenylyl_cyclase_activator, adrenergic_receptor_agonist, adrenergic_receptor_antagonist, akt_inhibitor, aldehyde_dehydrogenase_inhibitor, alk_inhibitor, ampk_activator, analgesic, androgen_receptor_agonist, androgen_receptor_antagonist, anesthetic_-_local, angiogenesis_inhibitor, angiotensin_receptor_antagonist, anti-inflammatory, antiarrhythmic, antibiotic, anticonvulsant, antifungal, antihistamine, antimalarial, antioxidant, antiprotozoal, antiviral, apoptosis_stimulant, aromatase_inhibitor, atm_kinase_inhibitor, atp-sensitive_potassium_channel_antagonist, atp_synthase_inhibitor, atpase_inhibitor, atr_kinase_inhibitor, aurora_kinase_inhibitor, autotaxin_inhibitor, bacterial_30s_ribosomal_subunit_inhibitor, bacterial_50s_ribosomal_subunit_inhibitor, bacterial_antifolate, bacterial_cell_wall_synthesis_inhibitor, bacterial_dna_gyrase_inhibitor, bacterial_dna_inhibitor, bacterial_membrane_integrity_inhibitor, bcl_inhibitor, bcr-abl_inhibitor, benzodiazepine_receptor_agonist\n",
            "\n",
            "\tbeta_amyloid_inhibitor, bromodomain_inhibitor, btk_inhibitor, calcineurin_inhibitor, calcium_channel_blocker, cannabinoid_receptor_agonist, cannabinoid_receptor_antagonist, carbonic_anhydrase_inhibitor, casein_kinase_inhibitor, caspase_activator, catechol_o_methyltransferase_inhibitor, cc_chemokine_receptor_antagonist, cck_receptor_antagonist, cdk_inhibitor, chelating_agent, chk_inhibitor, chloride_channel_blocker, cholesterol_inhibitor, cholinergic_receptor_antagonist, coagulation_factor_inhibitor, corticosteroid_agonist, cyclooxygenase_inhibitor, cytochrome_p450_inhibitor, dihydrofolate_reductase_inhibitor, dipeptidyl_peptidase_inhibitor, diuretic, dna_alkylating_agent, dna_inhibitor, dopamine_receptor_agonist, dopamine_receptor_antagonist, egfr_inhibitor, elastase_inhibitor, erbb2_inhibitor, estrogen_receptor_agonist, estrogen_receptor_antagonist, faah_inhibitor, farnesyltransferase_inhibitor, fatty_acid_receptor_agonist, fgfr_inhibitor, flt3_inhibitor, focal_adhesion_kinase_inhibitor, free_radical_scavenger, fungal_squalene_epoxidase_inhibitor, gaba_receptor_agonist, gaba_receptor_antagonist, gamma_secretase_inhibitor, glucocorticoid_receptor_agonist, glutamate_inhibitor, glutamate_receptor_agonist, glutamate_receptor_antagonist\n",
            "\n",
            "\tgonadotropin_receptor_agonist, gsk_inhibitor, hcv_inhibitor, hdac_inhibitor, histamine_receptor_agonist, histamine_receptor_antagonist, histone_lysine_demethylase_inhibitor, histone_lysine_methyltransferase_inhibitor, hiv_inhibitor, hmgcr_inhibitor, hsp_inhibitor, igf-1_inhibitor, ikk_inhibitor, imidazoline_receptor_agonist, immunosuppressant, insulin_secretagogue, insulin_sensitizer, integrin_inhibitor, jak_inhibitor, kit_inhibitor, laxative, leukotriene_inhibitor, leukotriene_receptor_antagonist, lipase_inhibitor, lipoxygenase_inhibitor, lxr_agonist, mdm_inhibitor, mek_inhibitor, membrane_integrity_inhibitor, mineralocorticoid_receptor_antagonist, monoacylglycerol_lipase_inhibitor, monoamine_oxidase_inhibitor, monopolar_spindle_1_kinase_inhibitor, mtor_inhibitor, mucolytic_agent, neuropeptide_receptor_antagonist, nfkb_inhibitor, nicotinic_receptor_agonist, nitric_oxide_donor, nitric_oxide_production_inhibitor, nitric_oxide_synthase_inhibitor, norepinephrine_reuptake_inhibitor, nrf2_activator, opioid_receptor_agonist, opioid_receptor_antagonist, orexin_receptor_antagonist, p38_mapk_inhibitor, p-glycoprotein_inhibitor, parp_inhibitor, pdgfr_inhibitor\n",
            "\n",
            "\tpdk_inhibitor, phosphodiesterase_inhibitor, phospholipase_inhibitor, pi3k_inhibitor, pkc_inhibitor, potassium_channel_activator, potassium_channel_antagonist, ppar_receptor_agonist, ppar_receptor_antagonist, progesterone_receptor_agonist, progesterone_receptor_antagonist, prostaglandin_inhibitor, prostanoid_receptor_antagonist, proteasome_inhibitor, protein_kinase_inhibitor, protein_phosphatase_inhibitor, protein_synthesis_inhibitor, protein_tyrosine_kinase_inhibitor, radiopaque_medium, raf_inhibitor, ras_gtpase_inhibitor, retinoid_receptor_agonist, retinoid_receptor_antagonist, rho_associated_kinase_inhibitor, ribonucleoside_reductase_inhibitor, rna_polymerase_inhibitor, serotonin_receptor_agonist, serotonin_receptor_antagonist, serotonin_reuptake_inhibitor, sigma_receptor_agonist, sigma_receptor_antagonist, smoothened_receptor_antagonist, sodium_channel_inhibitor, sphingosine_receptor_agonist, src_inhibitor, steroid, syk_inhibitor, tachykinin_antagonist, tgf-beta_receptor_inhibitor, thrombin_inhibitor, thymidylate_synthase_inhibitor, tlr_agonist, tlr_antagonist, tnf_inhibitor, topoisomerase_inhibitor, transient_receptor_potential_channel_antagonist, tropomyosin_receptor_kinase_inhibitor, trpv_agonist, trpv_antagonist, tubulin_inhibitor\n",
            "\n",
            "\ttyrosine_kinase_inhibitor, ubiquitin_specific_protease_inhibitor, vegfr_inhibitor, vitamin_b, vitamin_d_receptor_agonist, wnt_inhibitor\n",
            "\n",
            "object\n",
            "\tid\n",
            "\n"
          ],
          "name": "stdout"
        }
      ]
    },
    {
      "cell_type": "markdown",
      "metadata": {
        "id": "a7pd5lbQHQFz"
      },
      "source": [
        "Aqui podemos notar que temos a coluna **\"id\"** o que possívelmente nos dá a possibilidade de relacionar com os dados do dataset anterior. Nota sse também algumas colunas com uma possibiliade maior de significado e com sufixos que se repentem, tais como:\n",
        "* inibinator\n",
        "* receptor agonist \n",
        "* receptor antagonist\n",
        "* channel activator\n",
        "\n",
        "Vamos visualizar os dados para tentar entender melhor."
      ]
    },
    {
      "cell_type": "code",
      "metadata": {
        "colab": {
          "base_uri": "https://localhost:8080/",
          "height": 456
        },
        "id": "d_y3Tn-0IVMU",
        "outputId": "f60373de-aac9-42bc-e8da-3178f4e2b473"
      },
      "source": [
        "df_experiments_results"
      ],
      "execution_count": 200,
      "outputs": [
        {
          "output_type": "execute_result",
          "data": {
            "text/html": [
              "<div>\n",
              "<style scoped>\n",
              "    .dataframe tbody tr th:only-of-type {\n",
              "        vertical-align: middle;\n",
              "    }\n",
              "\n",
              "    .dataframe tbody tr th {\n",
              "        vertical-align: top;\n",
              "    }\n",
              "\n",
              "    .dataframe thead th {\n",
              "        text-align: right;\n",
              "    }\n",
              "</style>\n",
              "<table border=\"1\" class=\"dataframe\">\n",
              "  <thead>\n",
              "    <tr style=\"text-align: right;\">\n",
              "      <th></th>\n",
              "      <th>id</th>\n",
              "      <th>5-alpha_reductase_inhibitor</th>\n",
              "      <th>11-beta-hsd1_inhibitor</th>\n",
              "      <th>acat_inhibitor</th>\n",
              "      <th>acetylcholine_receptor_agonist</th>\n",
              "      <th>acetylcholine_receptor_antagonist</th>\n",
              "      <th>acetylcholinesterase_inhibitor</th>\n",
              "      <th>adenosine_receptor_agonist</th>\n",
              "      <th>adenosine_receptor_antagonist</th>\n",
              "      <th>adenylyl_cyclase_activator</th>\n",
              "      <th>adrenergic_receptor_agonist</th>\n",
              "      <th>adrenergic_receptor_antagonist</th>\n",
              "      <th>akt_inhibitor</th>\n",
              "      <th>aldehyde_dehydrogenase_inhibitor</th>\n",
              "      <th>alk_inhibitor</th>\n",
              "      <th>ampk_activator</th>\n",
              "      <th>analgesic</th>\n",
              "      <th>androgen_receptor_agonist</th>\n",
              "      <th>androgen_receptor_antagonist</th>\n",
              "      <th>anesthetic_-_local</th>\n",
              "      <th>angiogenesis_inhibitor</th>\n",
              "      <th>angiotensin_receptor_antagonist</th>\n",
              "      <th>anti-inflammatory</th>\n",
              "      <th>antiarrhythmic</th>\n",
              "      <th>antibiotic</th>\n",
              "      <th>anticonvulsant</th>\n",
              "      <th>antifungal</th>\n",
              "      <th>antihistamine</th>\n",
              "      <th>antimalarial</th>\n",
              "      <th>antioxidant</th>\n",
              "      <th>antiprotozoal</th>\n",
              "      <th>antiviral</th>\n",
              "      <th>apoptosis_stimulant</th>\n",
              "      <th>aromatase_inhibitor</th>\n",
              "      <th>atm_kinase_inhibitor</th>\n",
              "      <th>atp-sensitive_potassium_channel_antagonist</th>\n",
              "      <th>atp_synthase_inhibitor</th>\n",
              "      <th>atpase_inhibitor</th>\n",
              "      <th>atr_kinase_inhibitor</th>\n",
              "      <th>aurora_kinase_inhibitor</th>\n",
              "      <th>...</th>\n",
              "      <th>protein_synthesis_inhibitor</th>\n",
              "      <th>protein_tyrosine_kinase_inhibitor</th>\n",
              "      <th>radiopaque_medium</th>\n",
              "      <th>raf_inhibitor</th>\n",
              "      <th>ras_gtpase_inhibitor</th>\n",
              "      <th>retinoid_receptor_agonist</th>\n",
              "      <th>retinoid_receptor_antagonist</th>\n",
              "      <th>rho_associated_kinase_inhibitor</th>\n",
              "      <th>ribonucleoside_reductase_inhibitor</th>\n",
              "      <th>rna_polymerase_inhibitor</th>\n",
              "      <th>serotonin_receptor_agonist</th>\n",
              "      <th>serotonin_receptor_antagonist</th>\n",
              "      <th>serotonin_reuptake_inhibitor</th>\n",
              "      <th>sigma_receptor_agonist</th>\n",
              "      <th>sigma_receptor_antagonist</th>\n",
              "      <th>smoothened_receptor_antagonist</th>\n",
              "      <th>sodium_channel_inhibitor</th>\n",
              "      <th>sphingosine_receptor_agonist</th>\n",
              "      <th>src_inhibitor</th>\n",
              "      <th>steroid</th>\n",
              "      <th>syk_inhibitor</th>\n",
              "      <th>tachykinin_antagonist</th>\n",
              "      <th>tgf-beta_receptor_inhibitor</th>\n",
              "      <th>thrombin_inhibitor</th>\n",
              "      <th>thymidylate_synthase_inhibitor</th>\n",
              "      <th>tlr_agonist</th>\n",
              "      <th>tlr_antagonist</th>\n",
              "      <th>tnf_inhibitor</th>\n",
              "      <th>topoisomerase_inhibitor</th>\n",
              "      <th>transient_receptor_potential_channel_antagonist</th>\n",
              "      <th>tropomyosin_receptor_kinase_inhibitor</th>\n",
              "      <th>trpv_agonist</th>\n",
              "      <th>trpv_antagonist</th>\n",
              "      <th>tubulin_inhibitor</th>\n",
              "      <th>tyrosine_kinase_inhibitor</th>\n",
              "      <th>ubiquitin_specific_protease_inhibitor</th>\n",
              "      <th>vegfr_inhibitor</th>\n",
              "      <th>vitamin_b</th>\n",
              "      <th>vitamin_d_receptor_agonist</th>\n",
              "      <th>wnt_inhibitor</th>\n",
              "    </tr>\n",
              "  </thead>\n",
              "  <tbody>\n",
              "    <tr>\n",
              "      <th>0</th>\n",
              "      <td>id_000644bb2</td>\n",
              "      <td>0</td>\n",
              "      <td>0</td>\n",
              "      <td>0</td>\n",
              "      <td>0</td>\n",
              "      <td>0</td>\n",
              "      <td>0</td>\n",
              "      <td>0</td>\n",
              "      <td>0</td>\n",
              "      <td>0</td>\n",
              "      <td>0</td>\n",
              "      <td>0</td>\n",
              "      <td>0</td>\n",
              "      <td>0</td>\n",
              "      <td>0</td>\n",
              "      <td>0</td>\n",
              "      <td>0</td>\n",
              "      <td>0</td>\n",
              "      <td>0</td>\n",
              "      <td>0</td>\n",
              "      <td>0</td>\n",
              "      <td>0</td>\n",
              "      <td>0</td>\n",
              "      <td>0</td>\n",
              "      <td>0</td>\n",
              "      <td>0</td>\n",
              "      <td>0</td>\n",
              "      <td>0</td>\n",
              "      <td>0</td>\n",
              "      <td>0</td>\n",
              "      <td>0</td>\n",
              "      <td>0</td>\n",
              "      <td>0</td>\n",
              "      <td>0</td>\n",
              "      <td>0</td>\n",
              "      <td>0</td>\n",
              "      <td>0</td>\n",
              "      <td>0</td>\n",
              "      <td>0</td>\n",
              "      <td>0</td>\n",
              "      <td>...</td>\n",
              "      <td>0</td>\n",
              "      <td>0</td>\n",
              "      <td>0</td>\n",
              "      <td>0</td>\n",
              "      <td>0</td>\n",
              "      <td>0</td>\n",
              "      <td>0</td>\n",
              "      <td>0</td>\n",
              "      <td>0</td>\n",
              "      <td>0</td>\n",
              "      <td>0</td>\n",
              "      <td>0</td>\n",
              "      <td>0</td>\n",
              "      <td>0</td>\n",
              "      <td>0</td>\n",
              "      <td>0</td>\n",
              "      <td>0</td>\n",
              "      <td>0</td>\n",
              "      <td>0</td>\n",
              "      <td>0</td>\n",
              "      <td>0</td>\n",
              "      <td>0</td>\n",
              "      <td>0</td>\n",
              "      <td>0</td>\n",
              "      <td>0</td>\n",
              "      <td>0</td>\n",
              "      <td>0</td>\n",
              "      <td>0</td>\n",
              "      <td>0</td>\n",
              "      <td>0</td>\n",
              "      <td>0</td>\n",
              "      <td>0</td>\n",
              "      <td>0</td>\n",
              "      <td>0</td>\n",
              "      <td>0</td>\n",
              "      <td>0</td>\n",
              "      <td>0</td>\n",
              "      <td>0</td>\n",
              "      <td>0</td>\n",
              "      <td>0</td>\n",
              "    </tr>\n",
              "    <tr>\n",
              "      <th>1</th>\n",
              "      <td>id_000779bfc</td>\n",
              "      <td>0</td>\n",
              "      <td>0</td>\n",
              "      <td>0</td>\n",
              "      <td>0</td>\n",
              "      <td>0</td>\n",
              "      <td>0</td>\n",
              "      <td>0</td>\n",
              "      <td>0</td>\n",
              "      <td>0</td>\n",
              "      <td>0</td>\n",
              "      <td>0</td>\n",
              "      <td>0</td>\n",
              "      <td>0</td>\n",
              "      <td>0</td>\n",
              "      <td>0</td>\n",
              "      <td>0</td>\n",
              "      <td>0</td>\n",
              "      <td>0</td>\n",
              "      <td>0</td>\n",
              "      <td>0</td>\n",
              "      <td>0</td>\n",
              "      <td>0</td>\n",
              "      <td>0</td>\n",
              "      <td>0</td>\n",
              "      <td>0</td>\n",
              "      <td>0</td>\n",
              "      <td>0</td>\n",
              "      <td>0</td>\n",
              "      <td>0</td>\n",
              "      <td>0</td>\n",
              "      <td>0</td>\n",
              "      <td>0</td>\n",
              "      <td>0</td>\n",
              "      <td>0</td>\n",
              "      <td>0</td>\n",
              "      <td>0</td>\n",
              "      <td>0</td>\n",
              "      <td>0</td>\n",
              "      <td>0</td>\n",
              "      <td>...</td>\n",
              "      <td>0</td>\n",
              "      <td>0</td>\n",
              "      <td>0</td>\n",
              "      <td>0</td>\n",
              "      <td>0</td>\n",
              "      <td>0</td>\n",
              "      <td>0</td>\n",
              "      <td>0</td>\n",
              "      <td>0</td>\n",
              "      <td>0</td>\n",
              "      <td>0</td>\n",
              "      <td>0</td>\n",
              "      <td>0</td>\n",
              "      <td>0</td>\n",
              "      <td>0</td>\n",
              "      <td>0</td>\n",
              "      <td>0</td>\n",
              "      <td>0</td>\n",
              "      <td>0</td>\n",
              "      <td>0</td>\n",
              "      <td>0</td>\n",
              "      <td>0</td>\n",
              "      <td>0</td>\n",
              "      <td>0</td>\n",
              "      <td>0</td>\n",
              "      <td>0</td>\n",
              "      <td>0</td>\n",
              "      <td>0</td>\n",
              "      <td>0</td>\n",
              "      <td>0</td>\n",
              "      <td>0</td>\n",
              "      <td>0</td>\n",
              "      <td>0</td>\n",
              "      <td>0</td>\n",
              "      <td>0</td>\n",
              "      <td>0</td>\n",
              "      <td>0</td>\n",
              "      <td>0</td>\n",
              "      <td>0</td>\n",
              "      <td>0</td>\n",
              "    </tr>\n",
              "    <tr>\n",
              "      <th>2</th>\n",
              "      <td>id_000a6266a</td>\n",
              "      <td>0</td>\n",
              "      <td>0</td>\n",
              "      <td>0</td>\n",
              "      <td>0</td>\n",
              "      <td>0</td>\n",
              "      <td>0</td>\n",
              "      <td>0</td>\n",
              "      <td>0</td>\n",
              "      <td>0</td>\n",
              "      <td>0</td>\n",
              "      <td>0</td>\n",
              "      <td>0</td>\n",
              "      <td>0</td>\n",
              "      <td>0</td>\n",
              "      <td>0</td>\n",
              "      <td>0</td>\n",
              "      <td>0</td>\n",
              "      <td>0</td>\n",
              "      <td>0</td>\n",
              "      <td>0</td>\n",
              "      <td>0</td>\n",
              "      <td>0</td>\n",
              "      <td>0</td>\n",
              "      <td>0</td>\n",
              "      <td>0</td>\n",
              "      <td>0</td>\n",
              "      <td>0</td>\n",
              "      <td>0</td>\n",
              "      <td>0</td>\n",
              "      <td>0</td>\n",
              "      <td>0</td>\n",
              "      <td>0</td>\n",
              "      <td>0</td>\n",
              "      <td>0</td>\n",
              "      <td>0</td>\n",
              "      <td>0</td>\n",
              "      <td>0</td>\n",
              "      <td>0</td>\n",
              "      <td>0</td>\n",
              "      <td>...</td>\n",
              "      <td>0</td>\n",
              "      <td>0</td>\n",
              "      <td>0</td>\n",
              "      <td>0</td>\n",
              "      <td>0</td>\n",
              "      <td>0</td>\n",
              "      <td>0</td>\n",
              "      <td>0</td>\n",
              "      <td>0</td>\n",
              "      <td>0</td>\n",
              "      <td>0</td>\n",
              "      <td>0</td>\n",
              "      <td>0</td>\n",
              "      <td>0</td>\n",
              "      <td>0</td>\n",
              "      <td>0</td>\n",
              "      <td>0</td>\n",
              "      <td>0</td>\n",
              "      <td>0</td>\n",
              "      <td>0</td>\n",
              "      <td>0</td>\n",
              "      <td>0</td>\n",
              "      <td>0</td>\n",
              "      <td>0</td>\n",
              "      <td>0</td>\n",
              "      <td>0</td>\n",
              "      <td>0</td>\n",
              "      <td>0</td>\n",
              "      <td>0</td>\n",
              "      <td>0</td>\n",
              "      <td>0</td>\n",
              "      <td>0</td>\n",
              "      <td>0</td>\n",
              "      <td>0</td>\n",
              "      <td>0</td>\n",
              "      <td>0</td>\n",
              "      <td>0</td>\n",
              "      <td>0</td>\n",
              "      <td>0</td>\n",
              "      <td>0</td>\n",
              "    </tr>\n",
              "    <tr>\n",
              "      <th>3</th>\n",
              "      <td>id_0015fd391</td>\n",
              "      <td>0</td>\n",
              "      <td>0</td>\n",
              "      <td>0</td>\n",
              "      <td>0</td>\n",
              "      <td>0</td>\n",
              "      <td>0</td>\n",
              "      <td>0</td>\n",
              "      <td>0</td>\n",
              "      <td>0</td>\n",
              "      <td>0</td>\n",
              "      <td>0</td>\n",
              "      <td>0</td>\n",
              "      <td>0</td>\n",
              "      <td>0</td>\n",
              "      <td>0</td>\n",
              "      <td>0</td>\n",
              "      <td>0</td>\n",
              "      <td>0</td>\n",
              "      <td>0</td>\n",
              "      <td>0</td>\n",
              "      <td>0</td>\n",
              "      <td>0</td>\n",
              "      <td>0</td>\n",
              "      <td>0</td>\n",
              "      <td>0</td>\n",
              "      <td>0</td>\n",
              "      <td>0</td>\n",
              "      <td>0</td>\n",
              "      <td>0</td>\n",
              "      <td>0</td>\n",
              "      <td>0</td>\n",
              "      <td>0</td>\n",
              "      <td>0</td>\n",
              "      <td>0</td>\n",
              "      <td>0</td>\n",
              "      <td>0</td>\n",
              "      <td>0</td>\n",
              "      <td>0</td>\n",
              "      <td>0</td>\n",
              "      <td>...</td>\n",
              "      <td>0</td>\n",
              "      <td>0</td>\n",
              "      <td>0</td>\n",
              "      <td>0</td>\n",
              "      <td>0</td>\n",
              "      <td>0</td>\n",
              "      <td>0</td>\n",
              "      <td>0</td>\n",
              "      <td>0</td>\n",
              "      <td>0</td>\n",
              "      <td>0</td>\n",
              "      <td>0</td>\n",
              "      <td>0</td>\n",
              "      <td>0</td>\n",
              "      <td>0</td>\n",
              "      <td>0</td>\n",
              "      <td>0</td>\n",
              "      <td>0</td>\n",
              "      <td>0</td>\n",
              "      <td>0</td>\n",
              "      <td>0</td>\n",
              "      <td>0</td>\n",
              "      <td>0</td>\n",
              "      <td>0</td>\n",
              "      <td>0</td>\n",
              "      <td>0</td>\n",
              "      <td>0</td>\n",
              "      <td>0</td>\n",
              "      <td>0</td>\n",
              "      <td>0</td>\n",
              "      <td>0</td>\n",
              "      <td>0</td>\n",
              "      <td>0</td>\n",
              "      <td>0</td>\n",
              "      <td>0</td>\n",
              "      <td>0</td>\n",
              "      <td>0</td>\n",
              "      <td>0</td>\n",
              "      <td>0</td>\n",
              "      <td>0</td>\n",
              "    </tr>\n",
              "    <tr>\n",
              "      <th>4</th>\n",
              "      <td>id_001626bd3</td>\n",
              "      <td>0</td>\n",
              "      <td>0</td>\n",
              "      <td>0</td>\n",
              "      <td>0</td>\n",
              "      <td>0</td>\n",
              "      <td>0</td>\n",
              "      <td>0</td>\n",
              "      <td>0</td>\n",
              "      <td>0</td>\n",
              "      <td>0</td>\n",
              "      <td>0</td>\n",
              "      <td>0</td>\n",
              "      <td>0</td>\n",
              "      <td>0</td>\n",
              "      <td>0</td>\n",
              "      <td>0</td>\n",
              "      <td>0</td>\n",
              "      <td>0</td>\n",
              "      <td>0</td>\n",
              "      <td>0</td>\n",
              "      <td>0</td>\n",
              "      <td>0</td>\n",
              "      <td>0</td>\n",
              "      <td>0</td>\n",
              "      <td>0</td>\n",
              "      <td>0</td>\n",
              "      <td>0</td>\n",
              "      <td>0</td>\n",
              "      <td>0</td>\n",
              "      <td>0</td>\n",
              "      <td>0</td>\n",
              "      <td>0</td>\n",
              "      <td>0</td>\n",
              "      <td>0</td>\n",
              "      <td>0</td>\n",
              "      <td>0</td>\n",
              "      <td>0</td>\n",
              "      <td>0</td>\n",
              "      <td>0</td>\n",
              "      <td>...</td>\n",
              "      <td>0</td>\n",
              "      <td>0</td>\n",
              "      <td>0</td>\n",
              "      <td>0</td>\n",
              "      <td>0</td>\n",
              "      <td>0</td>\n",
              "      <td>0</td>\n",
              "      <td>0</td>\n",
              "      <td>0</td>\n",
              "      <td>0</td>\n",
              "      <td>0</td>\n",
              "      <td>0</td>\n",
              "      <td>0</td>\n",
              "      <td>0</td>\n",
              "      <td>0</td>\n",
              "      <td>0</td>\n",
              "      <td>0</td>\n",
              "      <td>0</td>\n",
              "      <td>0</td>\n",
              "      <td>0</td>\n",
              "      <td>0</td>\n",
              "      <td>0</td>\n",
              "      <td>0</td>\n",
              "      <td>0</td>\n",
              "      <td>0</td>\n",
              "      <td>0</td>\n",
              "      <td>0</td>\n",
              "      <td>0</td>\n",
              "      <td>0</td>\n",
              "      <td>0</td>\n",
              "      <td>0</td>\n",
              "      <td>0</td>\n",
              "      <td>0</td>\n",
              "      <td>0</td>\n",
              "      <td>0</td>\n",
              "      <td>0</td>\n",
              "      <td>0</td>\n",
              "      <td>0</td>\n",
              "      <td>0</td>\n",
              "      <td>0</td>\n",
              "    </tr>\n",
              "    <tr>\n",
              "      <th>...</th>\n",
              "      <td>...</td>\n",
              "      <td>...</td>\n",
              "      <td>...</td>\n",
              "      <td>...</td>\n",
              "      <td>...</td>\n",
              "      <td>...</td>\n",
              "      <td>...</td>\n",
              "      <td>...</td>\n",
              "      <td>...</td>\n",
              "      <td>...</td>\n",
              "      <td>...</td>\n",
              "      <td>...</td>\n",
              "      <td>...</td>\n",
              "      <td>...</td>\n",
              "      <td>...</td>\n",
              "      <td>...</td>\n",
              "      <td>...</td>\n",
              "      <td>...</td>\n",
              "      <td>...</td>\n",
              "      <td>...</td>\n",
              "      <td>...</td>\n",
              "      <td>...</td>\n",
              "      <td>...</td>\n",
              "      <td>...</td>\n",
              "      <td>...</td>\n",
              "      <td>...</td>\n",
              "      <td>...</td>\n",
              "      <td>...</td>\n",
              "      <td>...</td>\n",
              "      <td>...</td>\n",
              "      <td>...</td>\n",
              "      <td>...</td>\n",
              "      <td>...</td>\n",
              "      <td>...</td>\n",
              "      <td>...</td>\n",
              "      <td>...</td>\n",
              "      <td>...</td>\n",
              "      <td>...</td>\n",
              "      <td>...</td>\n",
              "      <td>...</td>\n",
              "      <td>...</td>\n",
              "      <td>...</td>\n",
              "      <td>...</td>\n",
              "      <td>...</td>\n",
              "      <td>...</td>\n",
              "      <td>...</td>\n",
              "      <td>...</td>\n",
              "      <td>...</td>\n",
              "      <td>...</td>\n",
              "      <td>...</td>\n",
              "      <td>...</td>\n",
              "      <td>...</td>\n",
              "      <td>...</td>\n",
              "      <td>...</td>\n",
              "      <td>...</td>\n",
              "      <td>...</td>\n",
              "      <td>...</td>\n",
              "      <td>...</td>\n",
              "      <td>...</td>\n",
              "      <td>...</td>\n",
              "      <td>...</td>\n",
              "      <td>...</td>\n",
              "      <td>...</td>\n",
              "      <td>...</td>\n",
              "      <td>...</td>\n",
              "      <td>...</td>\n",
              "      <td>...</td>\n",
              "      <td>...</td>\n",
              "      <td>...</td>\n",
              "      <td>...</td>\n",
              "      <td>...</td>\n",
              "      <td>...</td>\n",
              "      <td>...</td>\n",
              "      <td>...</td>\n",
              "      <td>...</td>\n",
              "      <td>...</td>\n",
              "      <td>...</td>\n",
              "      <td>...</td>\n",
              "      <td>...</td>\n",
              "      <td>...</td>\n",
              "      <td>...</td>\n",
              "    </tr>\n",
              "    <tr>\n",
              "      <th>23809</th>\n",
              "      <td>id_fffb1ceed</td>\n",
              "      <td>0</td>\n",
              "      <td>0</td>\n",
              "      <td>0</td>\n",
              "      <td>0</td>\n",
              "      <td>0</td>\n",
              "      <td>0</td>\n",
              "      <td>0</td>\n",
              "      <td>0</td>\n",
              "      <td>0</td>\n",
              "      <td>0</td>\n",
              "      <td>0</td>\n",
              "      <td>0</td>\n",
              "      <td>0</td>\n",
              "      <td>0</td>\n",
              "      <td>0</td>\n",
              "      <td>0</td>\n",
              "      <td>0</td>\n",
              "      <td>0</td>\n",
              "      <td>0</td>\n",
              "      <td>0</td>\n",
              "      <td>0</td>\n",
              "      <td>0</td>\n",
              "      <td>0</td>\n",
              "      <td>0</td>\n",
              "      <td>0</td>\n",
              "      <td>0</td>\n",
              "      <td>0</td>\n",
              "      <td>0</td>\n",
              "      <td>0</td>\n",
              "      <td>0</td>\n",
              "      <td>0</td>\n",
              "      <td>0</td>\n",
              "      <td>0</td>\n",
              "      <td>0</td>\n",
              "      <td>0</td>\n",
              "      <td>0</td>\n",
              "      <td>0</td>\n",
              "      <td>0</td>\n",
              "      <td>0</td>\n",
              "      <td>...</td>\n",
              "      <td>0</td>\n",
              "      <td>0</td>\n",
              "      <td>0</td>\n",
              "      <td>0</td>\n",
              "      <td>0</td>\n",
              "      <td>0</td>\n",
              "      <td>0</td>\n",
              "      <td>0</td>\n",
              "      <td>0</td>\n",
              "      <td>0</td>\n",
              "      <td>0</td>\n",
              "      <td>1</td>\n",
              "      <td>0</td>\n",
              "      <td>0</td>\n",
              "      <td>0</td>\n",
              "      <td>0</td>\n",
              "      <td>0</td>\n",
              "      <td>0</td>\n",
              "      <td>0</td>\n",
              "      <td>0</td>\n",
              "      <td>0</td>\n",
              "      <td>0</td>\n",
              "      <td>0</td>\n",
              "      <td>0</td>\n",
              "      <td>0</td>\n",
              "      <td>0</td>\n",
              "      <td>0</td>\n",
              "      <td>0</td>\n",
              "      <td>0</td>\n",
              "      <td>0</td>\n",
              "      <td>0</td>\n",
              "      <td>0</td>\n",
              "      <td>0</td>\n",
              "      <td>0</td>\n",
              "      <td>0</td>\n",
              "      <td>0</td>\n",
              "      <td>0</td>\n",
              "      <td>0</td>\n",
              "      <td>0</td>\n",
              "      <td>0</td>\n",
              "    </tr>\n",
              "    <tr>\n",
              "      <th>23810</th>\n",
              "      <td>id_fffb70c0c</td>\n",
              "      <td>0</td>\n",
              "      <td>0</td>\n",
              "      <td>0</td>\n",
              "      <td>0</td>\n",
              "      <td>0</td>\n",
              "      <td>0</td>\n",
              "      <td>0</td>\n",
              "      <td>0</td>\n",
              "      <td>0</td>\n",
              "      <td>0</td>\n",
              "      <td>0</td>\n",
              "      <td>0</td>\n",
              "      <td>0</td>\n",
              "      <td>0</td>\n",
              "      <td>0</td>\n",
              "      <td>0</td>\n",
              "      <td>0</td>\n",
              "      <td>0</td>\n",
              "      <td>0</td>\n",
              "      <td>0</td>\n",
              "      <td>0</td>\n",
              "      <td>0</td>\n",
              "      <td>0</td>\n",
              "      <td>0</td>\n",
              "      <td>0</td>\n",
              "      <td>0</td>\n",
              "      <td>0</td>\n",
              "      <td>0</td>\n",
              "      <td>0</td>\n",
              "      <td>0</td>\n",
              "      <td>0</td>\n",
              "      <td>0</td>\n",
              "      <td>0</td>\n",
              "      <td>0</td>\n",
              "      <td>0</td>\n",
              "      <td>0</td>\n",
              "      <td>0</td>\n",
              "      <td>0</td>\n",
              "      <td>0</td>\n",
              "      <td>...</td>\n",
              "      <td>0</td>\n",
              "      <td>0</td>\n",
              "      <td>0</td>\n",
              "      <td>0</td>\n",
              "      <td>0</td>\n",
              "      <td>0</td>\n",
              "      <td>0</td>\n",
              "      <td>0</td>\n",
              "      <td>0</td>\n",
              "      <td>0</td>\n",
              "      <td>0</td>\n",
              "      <td>0</td>\n",
              "      <td>0</td>\n",
              "      <td>0</td>\n",
              "      <td>0</td>\n",
              "      <td>0</td>\n",
              "      <td>0</td>\n",
              "      <td>0</td>\n",
              "      <td>0</td>\n",
              "      <td>0</td>\n",
              "      <td>0</td>\n",
              "      <td>0</td>\n",
              "      <td>0</td>\n",
              "      <td>0</td>\n",
              "      <td>0</td>\n",
              "      <td>0</td>\n",
              "      <td>0</td>\n",
              "      <td>0</td>\n",
              "      <td>0</td>\n",
              "      <td>0</td>\n",
              "      <td>0</td>\n",
              "      <td>0</td>\n",
              "      <td>0</td>\n",
              "      <td>0</td>\n",
              "      <td>0</td>\n",
              "      <td>0</td>\n",
              "      <td>0</td>\n",
              "      <td>0</td>\n",
              "      <td>0</td>\n",
              "      <td>0</td>\n",
              "    </tr>\n",
              "    <tr>\n",
              "      <th>23811</th>\n",
              "      <td>id_fffc1c3f4</td>\n",
              "      <td>0</td>\n",
              "      <td>0</td>\n",
              "      <td>0</td>\n",
              "      <td>0</td>\n",
              "      <td>0</td>\n",
              "      <td>0</td>\n",
              "      <td>0</td>\n",
              "      <td>0</td>\n",
              "      <td>0</td>\n",
              "      <td>0</td>\n",
              "      <td>0</td>\n",
              "      <td>0</td>\n",
              "      <td>0</td>\n",
              "      <td>0</td>\n",
              "      <td>0</td>\n",
              "      <td>0</td>\n",
              "      <td>0</td>\n",
              "      <td>0</td>\n",
              "      <td>0</td>\n",
              "      <td>0</td>\n",
              "      <td>0</td>\n",
              "      <td>0</td>\n",
              "      <td>0</td>\n",
              "      <td>0</td>\n",
              "      <td>0</td>\n",
              "      <td>0</td>\n",
              "      <td>0</td>\n",
              "      <td>0</td>\n",
              "      <td>0</td>\n",
              "      <td>0</td>\n",
              "      <td>0</td>\n",
              "      <td>0</td>\n",
              "      <td>0</td>\n",
              "      <td>0</td>\n",
              "      <td>0</td>\n",
              "      <td>0</td>\n",
              "      <td>0</td>\n",
              "      <td>0</td>\n",
              "      <td>0</td>\n",
              "      <td>...</td>\n",
              "      <td>0</td>\n",
              "      <td>0</td>\n",
              "      <td>0</td>\n",
              "      <td>0</td>\n",
              "      <td>0</td>\n",
              "      <td>0</td>\n",
              "      <td>0</td>\n",
              "      <td>0</td>\n",
              "      <td>0</td>\n",
              "      <td>0</td>\n",
              "      <td>0</td>\n",
              "      <td>0</td>\n",
              "      <td>0</td>\n",
              "      <td>0</td>\n",
              "      <td>0</td>\n",
              "      <td>0</td>\n",
              "      <td>0</td>\n",
              "      <td>0</td>\n",
              "      <td>0</td>\n",
              "      <td>0</td>\n",
              "      <td>0</td>\n",
              "      <td>0</td>\n",
              "      <td>0</td>\n",
              "      <td>0</td>\n",
              "      <td>0</td>\n",
              "      <td>0</td>\n",
              "      <td>0</td>\n",
              "      <td>0</td>\n",
              "      <td>0</td>\n",
              "      <td>0</td>\n",
              "      <td>0</td>\n",
              "      <td>0</td>\n",
              "      <td>0</td>\n",
              "      <td>0</td>\n",
              "      <td>0</td>\n",
              "      <td>0</td>\n",
              "      <td>0</td>\n",
              "      <td>0</td>\n",
              "      <td>0</td>\n",
              "      <td>0</td>\n",
              "    </tr>\n",
              "    <tr>\n",
              "      <th>23812</th>\n",
              "      <td>id_fffcb9e7c</td>\n",
              "      <td>0</td>\n",
              "      <td>0</td>\n",
              "      <td>0</td>\n",
              "      <td>0</td>\n",
              "      <td>0</td>\n",
              "      <td>0</td>\n",
              "      <td>0</td>\n",
              "      <td>0</td>\n",
              "      <td>0</td>\n",
              "      <td>0</td>\n",
              "      <td>0</td>\n",
              "      <td>0</td>\n",
              "      <td>0</td>\n",
              "      <td>0</td>\n",
              "      <td>0</td>\n",
              "      <td>0</td>\n",
              "      <td>0</td>\n",
              "      <td>0</td>\n",
              "      <td>0</td>\n",
              "      <td>0</td>\n",
              "      <td>0</td>\n",
              "      <td>0</td>\n",
              "      <td>0</td>\n",
              "      <td>0</td>\n",
              "      <td>0</td>\n",
              "      <td>0</td>\n",
              "      <td>0</td>\n",
              "      <td>0</td>\n",
              "      <td>0</td>\n",
              "      <td>0</td>\n",
              "      <td>0</td>\n",
              "      <td>0</td>\n",
              "      <td>0</td>\n",
              "      <td>0</td>\n",
              "      <td>0</td>\n",
              "      <td>0</td>\n",
              "      <td>0</td>\n",
              "      <td>0</td>\n",
              "      <td>0</td>\n",
              "      <td>...</td>\n",
              "      <td>0</td>\n",
              "      <td>0</td>\n",
              "      <td>0</td>\n",
              "      <td>0</td>\n",
              "      <td>0</td>\n",
              "      <td>0</td>\n",
              "      <td>0</td>\n",
              "      <td>0</td>\n",
              "      <td>0</td>\n",
              "      <td>0</td>\n",
              "      <td>0</td>\n",
              "      <td>0</td>\n",
              "      <td>0</td>\n",
              "      <td>0</td>\n",
              "      <td>0</td>\n",
              "      <td>0</td>\n",
              "      <td>0</td>\n",
              "      <td>0</td>\n",
              "      <td>0</td>\n",
              "      <td>0</td>\n",
              "      <td>0</td>\n",
              "      <td>0</td>\n",
              "      <td>0</td>\n",
              "      <td>0</td>\n",
              "      <td>0</td>\n",
              "      <td>0</td>\n",
              "      <td>0</td>\n",
              "      <td>0</td>\n",
              "      <td>0</td>\n",
              "      <td>0</td>\n",
              "      <td>0</td>\n",
              "      <td>0</td>\n",
              "      <td>0</td>\n",
              "      <td>0</td>\n",
              "      <td>0</td>\n",
              "      <td>0</td>\n",
              "      <td>0</td>\n",
              "      <td>0</td>\n",
              "      <td>0</td>\n",
              "      <td>0</td>\n",
              "    </tr>\n",
              "    <tr>\n",
              "      <th>23813</th>\n",
              "      <td>id_ffffdd77b</td>\n",
              "      <td>0</td>\n",
              "      <td>0</td>\n",
              "      <td>0</td>\n",
              "      <td>0</td>\n",
              "      <td>0</td>\n",
              "      <td>0</td>\n",
              "      <td>0</td>\n",
              "      <td>0</td>\n",
              "      <td>0</td>\n",
              "      <td>0</td>\n",
              "      <td>0</td>\n",
              "      <td>0</td>\n",
              "      <td>0</td>\n",
              "      <td>0</td>\n",
              "      <td>0</td>\n",
              "      <td>0</td>\n",
              "      <td>0</td>\n",
              "      <td>0</td>\n",
              "      <td>0</td>\n",
              "      <td>0</td>\n",
              "      <td>0</td>\n",
              "      <td>0</td>\n",
              "      <td>0</td>\n",
              "      <td>0</td>\n",
              "      <td>0</td>\n",
              "      <td>0</td>\n",
              "      <td>0</td>\n",
              "      <td>0</td>\n",
              "      <td>0</td>\n",
              "      <td>0</td>\n",
              "      <td>0</td>\n",
              "      <td>0</td>\n",
              "      <td>0</td>\n",
              "      <td>0</td>\n",
              "      <td>0</td>\n",
              "      <td>0</td>\n",
              "      <td>0</td>\n",
              "      <td>0</td>\n",
              "      <td>0</td>\n",
              "      <td>...</td>\n",
              "      <td>0</td>\n",
              "      <td>0</td>\n",
              "      <td>0</td>\n",
              "      <td>0</td>\n",
              "      <td>0</td>\n",
              "      <td>0</td>\n",
              "      <td>0</td>\n",
              "      <td>0</td>\n",
              "      <td>0</td>\n",
              "      <td>0</td>\n",
              "      <td>0</td>\n",
              "      <td>0</td>\n",
              "      <td>0</td>\n",
              "      <td>0</td>\n",
              "      <td>0</td>\n",
              "      <td>0</td>\n",
              "      <td>0</td>\n",
              "      <td>0</td>\n",
              "      <td>0</td>\n",
              "      <td>0</td>\n",
              "      <td>0</td>\n",
              "      <td>0</td>\n",
              "      <td>0</td>\n",
              "      <td>0</td>\n",
              "      <td>0</td>\n",
              "      <td>0</td>\n",
              "      <td>0</td>\n",
              "      <td>0</td>\n",
              "      <td>0</td>\n",
              "      <td>0</td>\n",
              "      <td>0</td>\n",
              "      <td>0</td>\n",
              "      <td>0</td>\n",
              "      <td>0</td>\n",
              "      <td>0</td>\n",
              "      <td>0</td>\n",
              "      <td>0</td>\n",
              "      <td>0</td>\n",
              "      <td>0</td>\n",
              "      <td>0</td>\n",
              "    </tr>\n",
              "  </tbody>\n",
              "</table>\n",
              "<p>23814 rows × 207 columns</p>\n",
              "</div>"
            ],
            "text/plain": [
              "                 id  ...  wnt_inhibitor\n",
              "0      id_000644bb2  ...              0\n",
              "1      id_000779bfc  ...              0\n",
              "2      id_000a6266a  ...              0\n",
              "3      id_0015fd391  ...              0\n",
              "4      id_001626bd3  ...              0\n",
              "...             ...  ...            ...\n",
              "23809  id_fffb1ceed  ...              0\n",
              "23810  id_fffb70c0c  ...              0\n",
              "23811  id_fffc1c3f4  ...              0\n",
              "23812  id_fffcb9e7c  ...              0\n",
              "23813  id_ffffdd77b  ...              0\n",
              "\n",
              "[23814 rows x 207 columns]"
            ]
          },
          "metadata": {
            "tags": []
          },
          "execution_count": 200
        }
      ]
    },
    {
      "cell_type": "markdown",
      "metadata": {
        "id": "5R4qwEraIkap"
      },
      "source": [
        "Interessante não? Todas as colunas, exceto a *\"id\"*, pelo menos na amostragem do data frame, estão mostrando somente zeros. Vamos pegar duas ou três colunas para analisar o conteúdo mais a fundo"
      ]
    },
    {
      "cell_type": "code",
      "metadata": {
        "colab": {
          "base_uri": "https://localhost:8080/"
        },
        "id": "A9_ZinamI30U",
        "outputId": "d80f8b11-e1d1-4e87-e7ef-bf6adb46a671"
      },
      "source": [
        "df_experiments_results['5-alpha_reductase_inhibitor'].value_counts()"
      ],
      "execution_count": 201,
      "outputs": [
        {
          "output_type": "execute_result",
          "data": {
            "text/plain": [
              "0    23797\n",
              "1       17\n",
              "Name: 5-alpha_reductase_inhibitor, dtype: int64"
            ]
          },
          "metadata": {
            "tags": []
          },
          "execution_count": 201
        }
      ]
    },
    {
      "cell_type": "code",
      "metadata": {
        "colab": {
          "base_uri": "https://localhost:8080/"
        },
        "id": "FKoGTS0YJSmg",
        "outputId": "b572d7c2-0d56-49d9-b1b3-5efef9ac6079"
      },
      "source": [
        "df_experiments_results['vitamin_b'].value_counts()"
      ],
      "execution_count": 202,
      "outputs": [
        {
          "output_type": "execute_result",
          "data": {
            "text/plain": [
              "0    23788\n",
              "1       26\n",
              "Name: vitamin_b, dtype: int64"
            ]
          },
          "metadata": {
            "tags": []
          },
          "execution_count": 202
        }
      ]
    },
    {
      "cell_type": "code",
      "metadata": {
        "colab": {
          "base_uri": "https://localhost:8080/"
        },
        "id": "dLajavWdJkDO",
        "outputId": "f385b44e-3674-4a0e-f66a-cfeaa9e42eb5"
      },
      "source": [
        "df_experiments_results['rna_polymerase_inhibitor'].value_counts()"
      ],
      "execution_count": 203,
      "outputs": [
        {
          "output_type": "execute_result",
          "data": {
            "text/plain": [
              "0    23789\n",
              "1       25\n",
              "Name: rna_polymerase_inhibitor, dtype: int64"
            ]
          },
          "metadata": {
            "tags": []
          },
          "execution_count": 203
        }
      ]
    },
    {
      "cell_type": "code",
      "metadata": {
        "colab": {
          "base_uri": "https://localhost:8080/"
        },
        "id": "83fCZIbaKR16",
        "outputId": "941831ed-1b1f-41c2-8385-53052ce5031c"
      },
      "source": [
        "df_experiments_results['ribonucleoside_reductase_inhibitor'].value_counts()"
      ],
      "execution_count": 204,
      "outputs": [
        {
          "output_type": "execute_result",
          "data": {
            "text/plain": [
              "0    23777\n",
              "1       37\n",
              "Name: ribonucleoside_reductase_inhibitor, dtype: int64"
            ]
          },
          "metadata": {
            "tags": []
          },
          "execution_count": 204
        }
      ]
    },
    {
      "cell_type": "markdown",
      "metadata": {
        "id": "cE-_VD4GJpon"
      },
      "source": [
        "Hum. O que notamos aqui é os valores das colunas somente possuem valores binários, neste caso 0 e 1. Verdadeiro ou Falso?\n",
        "\n",
        "No caso da coluna **'ribonucleoside_reductase_inhibitor'**, realidade estamos falando de inibidor que faz parte da família dos farmacológicos anti-cancer, cujo tem como ação inteferir no crescimento de células de tumor. E para este dataset, ele foi 37 indicado como verdadeiro (RIBONUCLEOTIDE, 2020). \n",
        "\n",
        "Acho que podemos partir do assumption que para cada uma desta colunas se trata de um composto químico que foi acionado com sucesso ou não.\n"
      ]
    },
    {
      "cell_type": "markdown",
      "metadata": {
        "id": "tnxe9xmpMClq"
      },
      "source": [
        "Continuando com a nossa exploração de dados, será que temos nestes resultados sem nenhum composto quimico com seu resultado como verdadeiro?\n",
        "\n",
        "Primeiramente vamos gerar algumas colunas auxiliares para contar o numero total de compostos que ativaram e também um uma coluna booleana para sabermos se ouve algum ativo ou não"
      ]
    },
    {
      "cell_type": "code",
      "metadata": {
        "id": "OfYT15O8OCIz"
      },
      "source": [
        "df_experiments_results['num_total_ativos'] = df_experiments_results.drop('id', axis=1).sum(axis=1)\n",
        "df_experiments_results['has_ativos'] = df_experiments_results['num_total_ativos'] !=0"
      ],
      "execution_count": 205,
      "outputs": []
    },
    {
      "cell_type": "code",
      "metadata": {
        "colab": {
          "base_uri": "https://localhost:8080/"
        },
        "id": "I5sagDj2PScN",
        "outputId": "4fba0244-f9bb-4777-9b62-1da340d7ac22"
      },
      "source": [
        "df_experiments_results['has_ativos'].value_counts()\n"
      ],
      "execution_count": 206,
      "outputs": [
        {
          "output_type": "execute_result",
          "data": {
            "text/plain": [
              "True     14447\n",
              "False     9367\n",
              "Name: has_ativos, dtype: int64"
            ]
          },
          "metadata": {
            "tags": []
          },
          "execution_count": 206
        }
      ]
    },
    {
      "cell_type": "markdown",
      "metadata": {
        "id": "hIqdJGnIQ_zf"
      },
      "source": [
        "Como podemos ver nos resulatos tivemos **1447** deles que tiveram algum tipo de ativação e **9367** que não."
      ]
    },
    {
      "cell_type": "markdown",
      "metadata": {
        "id": "sk57kbbdSnx8"
      },
      "source": [
        "Vamos tentar verificar se há correlações de ativação entre os diferente compostos"
      ]
    },
    {
      "cell_type": "code",
      "metadata": {
        "colab": {
          "base_uri": "https://localhost:8080/",
          "height": 724
        },
        "id": "tfeRO5ZQQ-Ph",
        "outputId": "222c4214-a1eb-482e-bab8-d6f4e4393790"
      },
      "source": [
        "plot_chart_correlations_heatmap(filter_correlation(df_experiments_results.drop('id', axis=1).corr(), 0.4))"
      ],
      "execution_count": 209,
      "outputs": [
        {
          "output_type": "display_data",
          "data": {
            "image/png": "[encoded data removed]",
            "text/plain": [
              "<Figure size 792x648 with 2 Axes>"
            ]
          },
          "metadata": {
            "tags": []
          }
        }
      ]
    },
    {
      "cell_type": "markdown",
      "metadata": {
        "id": "M7o70QrVWPvU"
      },
      "source": [
        "Quando aplicamos as correlações nos compostos, podemos começar a pensar que para os resultados que tem mais que um 'ativado' é por que ele tem que vir acompnhado de mais de um?\n",
        "\n",
        "Aparentemente temos correlações bem frequentes para alguns casos."
      ]
    },
    {
      "cell_type": "markdown",
      "metadata": {
        "id": "ibgKJWLdcR-X"
      },
      "source": [
        "### Hipóteses"
      ]
    },
    {
      "cell_type": "markdown",
      "metadata": {
        "id": "uP_JKdk1UL8w"
      },
      "source": [
        "##Bibliografia e referências\n",
        "\n",
        "* __DRUG discovery: passado, presente e futuro__. Alura, maio de 2021. Disponível em: <https://docs.google.com/document/d/10EhrQBChlyYIcff3to7PrCQi5HcNk2r-zd2ZCKPtcz8/edit?usp=sharing>. Acesso em: 08 de maio de 2021.\n",
        "\n",
        "* __TALEB, Nassim Nicholas__. _A Lógica do Cisne Negro: O impacto do altamente imporvável_. 18a Ed. Rio de Janeiro: Best Business, 2019.\n",
        "\n",
        "* __CORONAVÍRUS da síndrome respiratória aguda grave 2__. In: WIKIPÉDIA: a enciclopédia livre. Wikimedia, 2021. Disponível em: <https://pt.wikipedia.org/wiki/Coronav%C3%ADrus_da_s%C3%ADndrome_respiratória_aguda_grave_2>. Acesso em: 08 de maio de 2021\n",
        "\n",
        "* __COVID-19__. In: WIKIPÉDIA: a enciclopédia livre. Wikimedia, 2021. Disponível em: <https://pt.wikipedia.org/wiki/COVID-19>. Acesso em: 08 de maio de 2021\n",
        "\n",
        "* __PANDEMIA__. In: WIKIPÉDIA: a enciclopédia livre. Wikimedia, 2021. Disponível em: <https://pt.wikipedia.org/wiki/Pandemia>. Acesso em: 08 de maio de 2021\n",
        "\n",
        "* __VACINA de RNA__. In: WIKIPÉDIA: a enciclopédia livre. Wikimedia, 2021. Disponível em: <https://pt.wikipedia.org/wiki/Vacina_de_RNA>. Acesso em: 08 de maio de 2021\n",
        "\n",
        "* __A HISTÓRIA da mulher com células imortais que salvam vidas há 60 anos__. In: BBC News. BBC, 12 de março 2017. Disponível em: <https://www.bbc.com/portuguese/internacional-39248764>. Acesso em: 08 de maio de 2021\n",
        "\n",
        "\n",
        "* __EXPRESSÃO gênica: o caminho da informação biológica__. Alura, maio de 2021. Disponível em? <https://drive.google.com/file/d/1VNP08ffCiGD8cqaBkdHATWSX8Yxfm3dj/view?usp=sharing>. Acesso em: 08 de maio de 2021.\n",
        "\n",
        "* __QUAL É A RELAÇÃO DA INSULINA COM A DIABETES?__. In: Santo Remédio. Drograria Santo Remédio, 10 de dezembro 2018. Disponível em: <https://drogariasantoremedio.com.br/qual-relacao-insulina-diabetes/>. Acesso em: 09 de maio de 2021\n",
        "\n",
        "* __RIBONUCLEOTIDE reductase inhibitor__. In: WIKIPÉDIA: a enciclopédia livre. Wikimedia, 2020. Disponível em: <https://en.wikipedia.org/wiki/Ribonucleotide_reductase_inhibitor>. Acesso em: 09 de maio de 2021\n",
        "\n",
        "\n"
      ]
    },
    {
      "cell_type": "code",
      "metadata": {
        "id": "HYui3qUvoJMU"
      },
      "source": [
        ""
      ],
      "execution_count": 207,
      "outputs": []
    }
  ]
}